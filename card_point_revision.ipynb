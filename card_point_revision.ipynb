{
 "cells": [
  {
   "cell_type": "code",
   "execution_count": 9,
   "metadata": {},
   "outputs": [],
   "source": [
    "from sklearn.preprocessing import MinMaxScaler\n",
    "from nltk.corpus import stopwords\n",
    "english_stopwords = stopwords.words('english')\n",
    "stopwords = set(english_stopwords)\n",
    "import json\n",
    "import pandas as pd\n",
    "from tqdm import tqdm"
   ]
  },
  {
   "cell_type": "code",
   "execution_count": 53,
   "metadata": {},
   "outputs": [],
   "source": [
    "import nltk\n",
    "from nltk.corpus import stopwords\n",
    "from sklearn.preprocessing import MinMaxScaler\n",
    "\n",
    "# read card_deck from ppn_deck.json file\n",
    "with open(\"ppn_deck.json\", \"r\") as read_file:\n",
    "    card_deck = json.load(read_file)\n",
    "\n",
    "def revise_point_values(card_deck):\n",
    "    # Initialize a dictionary to store the word counts for each card\n",
    "    word_counts = {}\n",
    "    # Initialize a list to store the word counts for each card\n",
    "    card_word_counts = []\n",
    "    \n",
    "    # Get a list of English stopwords\n",
    "    stop_words = stopwords.words(\"english\")\n",
    "    \n",
    "    # Iterate through each card in the card deck\n",
    "    card_id = 0\n",
    "    for card in tqdm(card_deck):\n",
    "        # Get the card's id from the iteration\n",
    "        # Get the summary for the card\n",
    "        summary = card['summary']\n",
    "        # Split the summary into words. Currently it is a tuple, get the second element.\n",
    "        summary_text = summary[1]\n",
    "        # Split the summary into words\n",
    "        words = summary_text.split()\n",
    "        # Remove the stop words from the list of words\n",
    "        nonstop_words = [word for word in words if word not in stop_words]\n",
    "        # Calculate the number of non-stop words\n",
    "        word_count = len(nonstop_words)\n",
    "        # Add the word count to the dictionary\n",
    "        word_counts[card_id] = word_count\n",
    "        # Append the word count to the list of card word counts\n",
    "        card_word_counts.append(word_count)\n",
    "        # Increment the card id\n",
    "        card_id += 1\n",
    "    # Use MinMaxScaler to scale the word counts to a range of 1 to 100\n",
    "    scaler = MinMaxScaler(feature_range=(1, 100))\n",
    "    scaled_word_counts = scaler.fit_transform(pd.DataFrame(card_word_counts))\n",
    "    # Iterate through each card in the card deck\n",
    "    card_id = 0\n",
    "    for card in tqdm(card_deck):\n",
    "        #print(card)\n",
    "        # Get the card's id from the iteration\n",
    "        # Get the scaled word count for the card\n",
    "        scaled_word_count = scaled_word_counts[card_id]\n",
    "        # Get the card's point value if it exists\n",
    "        point_value = card['point_value'] if 'point_value' in card else 0\n",
    "        rounded_value = round(scaled_word_count[0])\n",
    "\n",
    "        # Update the card's point value to the scaled word count\n",
    "        card['point_value'] = rounded_value\n",
    "        # Increment the card id\n",
    "        card_id += 1\n",
    "    return card_deck\n",
    "    \n"
   ]
  },
  {
   "cell_type": "markdown",
   "metadata": {},
   "source": [
    "To fix this, you can reshape card_word_counts to a 2D array using the reshape method of the numpy library, like this: card_word_counts.reshape(-1, 1). This will transform card_word_counts into a 2D array with a single column and as many rows as there are elements in card_word_counts.\n",
    "\n",
    "You can then pass the reshaped array to the fit method of the MinMaxScaler object.\n",
    "\n",
    "You will also need to make the same change to the line card_word_counts_scaled = scaler.fit_transform(card_word_counts.reshape(-1, 1)) in order to avoid the same error when you try to fit the scaler to the data.\n",
    "\n",
    "Finally, in the for loop where you update the point value for each card, you should use card_word_counts_scaled[card_id] instead of card_word_counts_scaled[word_count]. This is because card_word_counts_scaled is a list of scaled word counts, and you need to use the current card_id to index into the list"
   ]
  },
  {
   "cell_type": "code",
   "execution_count": 54,
   "metadata": {},
   "outputs": [
    {
     "name": "stderr",
     "output_type": "stream",
     "text": [
      "100%|██████████| 4651/4651 [00:01<00:00, 4258.43it/s]\n",
      "100%|██████████| 4651/4651 [00:00<00:00, 707801.16it/s]"
     ]
    },
    {
     "name": "stdout",
     "output_type": "stream",
     "text": [
      "{'title': 'Climate change and cities', 'summary': ['Climate change and cities', 'Climate change and cities are deeply connected. Cities are one of the greatest contributors and likely best opportunities for addressing climate change. Cities are also one of the most vulnerable parts of the human society to the effects of climate change, and likely one of the most important solutions for reducing the environmental impact of humans. More than half of the worlds population is in cities, consuming a large portion of food and goods produced outside of cities. The increase of urban population growth is one of the main factors in air-quality problems. In the year 2016, 31 mega-cities reported having at least 10 million in their population, 8 of which surrear endd 20 million people. The UN projects that 68% of the world population will live in urban areas by 2050. Hence, cities have a significant influence on construction and transportationtwo of the key contributors to global warming emissions. Moreover, because of processes that create climate conflict and climate refugees, city areas are expected to grow during the next several decades, stressing infrastructure and concentrating more impoverished peoples in cities.Because of the high density and effects like the urban heat island affect, weather changes due to climate change are likely to greatly effect cities, exacerbating existing problems, such as air pollution, water scarcity, and heat illness in the metropolitan areas. Studies have shown that if body temperature exceeds 39C for a period of time, serious heat stroke may occur. Some of the other extreme weather conditions caused by climate change include extreme floods, deathly snowstorms, ice storms, heat waves, droughts, and hurricanes, which are often deathly and harmful. Studies have shown that heat waves are three times more likely to occur and have become more intense since the 1960s. Moreover, because most cities have been built on rivers or coastal areas, cities are frequently vulnerable to the subsequent effects of sea level rise, which cause coastal flooding and erosion, and those effects are deeply connected with other urban environmental problems, like subsidence and aquifer depletion.\\nA report by the C40 Cities Climate Leadership Group described consumption based emissions as having significantly more impact than production-based emissions within cities. The report estimates that 85% of the emissions associated with goods within a city is generated outside of that city. Climate change adaptation and mitigation investments in cities will be important in reducing the impacts of some of the largest contributors of greenhouse gas emissions: for example, increased density allows for redistribution of land use for agriculture and reforestation, improving transportation efficiencies, and greening construction largely due to cements outsized role in climate change and improvements in sustainable construction practices and weatherization.In the most recent past, increasing urbanization has also been proposed as a phenomenon that has a reducing effect on the global rate of carbon emission primarily because with urbanization comes technical prowess which can help drive sustainability. Lists of high impact climate change solutions tend to include city-focused solutions; for example, Project Drawdown recommends several major urban investments, including improved bicycle infrastructure, building retrofitting, district heating, public transit, and walkable cities as important solutions.Because of this, the international community has formed coalitions of cities such as the C40 Cities Climate Leadership Group and ICLEI and policy goals, such as Sustainable Development Goal 11 sustainable cities and communities, to activate and focus attention on these solutions.'], 'related': 401, 'summary_short': 'Moreover, because most cities have been built on rivers or coastal areas, cities are frequently vulnerable to the subsequent effects of sea level rise, which cause coastal flooding and erosion, and those effects are deeply connected with other urban environmental problems, like subsidence and aquifer depletion.\\\\nA report by the C40 Cities Climate Leadership Group described consumption based emissions as having significantly more impact than production-based emissions within cities.Climate change adaptation and mitigation investments in cities will be important in reducing the impacts of some of the largest contributors of greenhouse gas emissions: for example, increased density allows for redistribution of land use for agriculture and reforestation, improving transportation efficiencies, and greening construction largely due to cements outsized role in climate change and improvements in sustainable construction practices and weatherization.In the most recent past, increasing urbanization has also been proposed as a phenomenon that has a reducing effect on the global rate of carbon emission primarily because with urbanization comes technical prowess which can help drive sustainability.', 'summary_clean': 'Moreover because of processes that create climate conflict and climate refugees city areas are expected to grow during the next several decades stressing infrastructure and concentrating more impoverished peoples in cities Because of the high density and effects like the urban heat island affect weather changes due to climate change are likely to greatly effect cities exacerbating existing problems such as air pollution water scarcity and heat illness in the metropolitan areas Climate change adaptation and mitigation investments in cities will be important in reducing the impacts of some of the largest contributors of greenhouse gas emissions for example increased density allows for redistribution of land use for agriculture and reforestation improving transportation efficiencies and greening construction largely due to cements outsized role in climate change and improvements in sustainable construction practices and weatherization In the most recent past increasing urbanization has also been proposed as a phenomenon that has a reducing effect on the global rate of carbon emission primarily because with urbanization comes technical prowess which can help drive sustainability ', 'point_value': 51}\n"
     ]
    },
    {
     "name": "stderr",
     "output_type": "stream",
     "text": [
      "\n"
     ]
    }
   ],
   "source": [
    "# revise point values\n",
    "card_deck = revise_point_values(card_deck)\n"
   ]
  }
 ],
 "metadata": {
  "kernelspec": {
   "display_name": "Python 3.9.13 ('base')",
   "language": "python",
   "name": "python3"
  },
  "language_info": {
   "codemirror_mode": {
    "name": "ipython",
    "version": 3
   },
   "file_extension": ".py",
   "mimetype": "text/x-python",
   "name": "python",
   "nbconvert_exporter": "python",
   "pygments_lexer": "ipython3",
   "version": "3.9.13"
  },
  "orig_nbformat": 4,
  "vscode": {
   "interpreter": {
    "hash": "40d3a090f54c6569ab1632332b64b2c03c39dcf918b08424e98f38b5ae0af88f"
   }
  }
 },
 "nbformat": 4,
 "nbformat_minor": 2
}
