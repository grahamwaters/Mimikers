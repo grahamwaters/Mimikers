{
 "cells": [
  {
   "cell_type": "code",
   "execution_count": 1,
   "metadata": {},
   "outputs": [
    {
     "name": "stdout",
     "output_type": "stream",
     "text": [
      "65.0536398467433\n"
     ]
    }
   ],
   "source": [
    "import pytrends\n",
    "from pytrends.request import TrendReq\n",
    "\n",
    "pytrend = TrendReq()\n",
    "\n",
    "def get_google_trends_score(title):\n",
    "    # Get the Google Trends data for the given title\n",
    "    try:\n",
    "        pytrend.build_payload([title])\n",
    "        trend_data = pytrend.interest_over_time()\n",
    "        \n",
    "        # Calculate the point value based on the average monthly search volume for the title\n",
    "        point_value = trend_data[title].mean()\n",
    "    except:\n",
    "        point_value = 10 # If there is an error, return a point value of 10\n",
    "    return point_value\n",
    "\n",
    "# Example usage:\n",
    "point_value = get_google_trends_score(\"French Revolution\")\n",
    "print(point_value)\n"
   ]
  },
  {
   "cell_type": "code",
   "execution_count": 2,
   "metadata": {},
   "outputs": [
    {
     "name": "stderr",
     "output_type": "stream",
     "text": [
      "  0%|          | 1/931 [00:00<07:27,  2.08it/s]"
     ]
    },
    {
     "name": "stdout",
     "output_type": "stream",
     "text": [
      "title: Climate change and cities, definition: Moreover, because most cities have been built on rivers or coastal areas, cities are frequently vulnerable to the subsequent effects of sea level rise, which cause coastal flooding and erosion, and those effects are deeply connected with other urban environmental problems, like subsidence and aquifer depletion.\\nA report by the C40 Cities Climate Leadership Group described consumption based emissions as having significantly more impact than production-based emissions within cities, points: 26\n"
     ]
    },
    {
     "name": "stderr",
     "output_type": "stream",
     "text": [
      "  0%|          | 2/931 [00:01<08:05,  1.91it/s]"
     ]
    },
    {
     "name": "stdout",
     "output_type": "stream",
     "text": [
      "title: Ski-U-Mah (slogan), definition: ['Ski-U-Mah (slogan)', 'Ski-U-Mah SKY-yoo-MAH is a slogan used at the University of Minnesota since 1884, when the newly emerging football team was coached by Thomas Peebles, a philosophy professor and former Princeton University faculty member.\\nDuring the teams scrimmages, Peebles would often yell Sis-Boom-Ah, Princeton!\n",
      "They used the cheer in their practices and games, and the campus paper the Ariel endorsed the cheer soon after, points: 10\n"
     ]
    },
    {
     "name": "stderr",
     "output_type": "stream",
     "text": [
      "  0%|          | 3/931 [00:02<12:06,  1.28it/s]"
     ]
    },
    {
     "name": "stdout",
     "output_type": "stream",
     "text": [
      "title: Riddle joke, definition: ['Riddle joke', 'A riddle joke, joke riddle, pseudo-joke or conundrum is a riddle that does not expect the asked person to know the answer, but rather constitutes a set-up to the humorous punch line of the joke.It is one of the four major types of riddles, according to Nigel F, points: 22\n"
     ]
    },
    {
     "name": "stderr",
     "output_type": "stream",
     "text": [
      "  0%|          | 4/931 [00:02<11:11,  1.38it/s]"
     ]
    },
    {
     "name": "stdout",
     "output_type": "stream",
     "text": [
      "title: Deutsch limit, definition: ['Deutsch limit', 'The Deutsch limit is an aphorism about the information density of visual programming languages originated by L. Peter Deutsch that states:\\n\\nThe problem with visual programming is that you cant have more than 50 visual primitives on the screen at the same time, points: 38\n"
     ]
    },
    {
     "name": "stderr",
     "output_type": "stream",
     "text": [
      "  1%|          | 5/931 [00:03<09:18,  1.66it/s]"
     ]
    },
    {
     "name": "stdout",
     "output_type": "stream",
     "text": [
      "title: Quasi-state, definition: ['Quasi-state', 'A quasi-state some times referred to as state-like entity or proto-state is a political entity that does not represent a fully institutionalised or autonomous sovereign state.The precise definition of quasi-state in political literature fluctuates depending on the context in which it is used, points: 7\n"
     ]
    },
    {
     "name": "stderr",
     "output_type": "stream",
     "text": [
      "  1%|          | 6/931 [00:03<08:44,  1.77it/s]"
     ]
    },
    {
     "name": "stdout",
     "output_type": "stream",
     "text": [
      "title: Fake it till you make it, definition: ['Fake it till you make it', 'Fake it till you make it or Fake it until you make it is an English aphorism which suggests that by imitating confidence, competence, and an optimistic mindset, a person can realize those qualities in their real life and achieve the results they seek.The phrase is first attested some time before 1973, points: 28\n"
     ]
    },
    {
     "name": "stderr",
     "output_type": "stream",
     "text": [
      "  1%|          | 7/931 [00:04<10:00,  1.54it/s]"
     ]
    },
    {
     "name": "stdout",
     "output_type": "stream",
     "text": [
      "title: Chestnut (joke), definition: ['Chestnut (joke)', 'Chestnut is a British slang term for an old joke, often as old chestnut.\n",
      "\\nThe term is also used for a piece of music in the repertoire that has grown stale or hackneyed with too much repetition, points: 8\n"
     ]
    },
    {
     "name": "stderr",
     "output_type": "stream",
     "text": [
      "  1%|          | 8/931 [00:05<09:43,  1.58it/s]"
     ]
    },
    {
     "name": "stdout",
     "output_type": "stream",
     "text": [
      "title: Führer, definition: ['Führer', 'Fhrer FURE-r; German: fy listen, spelled Fuehrer or Fuhrer when the umlaut is not available is a German word meaning leader or guide.\n",
      "As a political title, it is strongly associated with the Nazi dictator Adolf Hitler, points: 71\n"
     ]
    },
    {
     "name": "stderr",
     "output_type": "stream",
     "text": [
      "  1%|          | 9/931 [00:05<09:32,  1.61it/s]"
     ]
    },
    {
     "name": "stdout",
     "output_type": "stream",
     "text": [
      "title: Neomodern, definition: ['Neomodern', 'Neomodern or neomodernist architecture is a reaction to the complexity of postmodern architecture and eclecticism in architecture, seeking greater simplicity.\n",
      "The architectural style, which is also referred to as New Modernism, is said to have legitimized an outlook of comprehensive individualism and relativism, points: 11\n"
     ]
    },
    {
     "name": "stderr",
     "output_type": "stream",
     "text": [
      "  1%|          | 10/931 [00:06<10:13,  1.50it/s]"
     ]
    },
    {
     "name": "stdout",
     "output_type": "stream",
     "text": [
      "title: Song structure, definition: In pop music, there may be a guitar solo, or a solo performed with another instrument such as a synthesizer or a saxophone.\\nThe foundation of popular music is the verse and chorus structure, points: 60\n"
     ]
    },
    {
     "name": "stderr",
     "output_type": "stream",
     "text": [
      "  1%|          | 11/931 [00:06<09:22,  1.64it/s]"
     ]
    },
    {
     "name": "stdout",
     "output_type": "stream",
     "text": [
      "title: Exeter Book Riddle 33, definition: ['Exeter Book Riddle 33', 'Exeter Book Riddle 33 according to the numbering of the Anglo-Saxon Poetic Records is one of the Old English riddles found in the later tenth-century Exeter Book.\n",
      "Its solution is accepted to be Iceberg though there have been other proposals along similar lines, points: 10\n"
     ]
    },
    {
     "name": "stderr",
     "output_type": "stream",
     "text": [
      "  1%|▏         | 12/931 [00:07<09:25,  1.63it/s]"
     ]
    },
    {
     "name": "stdout",
     "output_type": "stream",
     "text": [
      "title: Arabic riddles, definition: ['Arabic riddles', 'Riddles are historically a significant genre of Arabic literature.\n",
      "The Quran does not contain riddles as such, though it does contain conundra, points: 13\n"
     ]
    },
    {
     "name": "stderr",
     "output_type": "stream",
     "text": [
      "  1%|▏         | 13/931 [00:07<08:31,  1.80it/s]"
     ]
    },
    {
     "name": "stdout",
     "output_type": "stream",
     "text": [
      "title: List of Latin phrases (D), definition: ['List of Latin phrases (D)', 'This page lists English translations of notable Latin phrases, such as veni vidi vici and et cetera.\n",
      "Some of the phrases are themselves translations of Greek phrases, as Greek rhetoric and literature reached its peak centuries before the rise of ancient Rome, points: 10\n"
     ]
    },
    {
     "name": "stderr",
     "output_type": "stream",
     "text": [
      "  2%|▏         | 14/931 [00:08<08:34,  1.78it/s]"
     ]
    },
    {
     "name": "stdout",
     "output_type": "stream",
     "text": [
      "title: Pokito, definition: ['Pokito', 'Pokito is the brand name of an ultra portable reusable cup that can be collapsed to a few centimetres when not in use and so can be stored easily in a pocket or purse.\n",
      "It was invented by the Canadian inventor Andrew Brooks, points: 50\n"
     ]
    },
    {
     "name": "stderr",
     "output_type": "stream",
     "text": [
      "  2%|▏         | 15/931 [00:09<08:31,  1.79it/s]"
     ]
    },
    {
     "name": "stdout",
     "output_type": "stream",
     "text": [
      "title: Abu al-Ma'ali al-Haziri, definition: [\"Abu al-Ma'ali al-Haziri\", 'Ab al-Mal Sad ibn Al al-ar, often known as Dalll al-kutub the Book Merchant fl.\n",
      "twelfth century CE, was a lady pillowsk-merchant, scribe and littrateur from Iraq, points: 10\n"
     ]
    },
    {
     "name": "stderr",
     "output_type": "stream",
     "text": [
      "  2%|▏         | 16/931 [00:09<08:20,  1.83it/s]"
     ]
    },
    {
     "name": "stdout",
     "output_type": "stream",
     "text": [
      "title: It's okay to be white, definition: [\"It's okay to be white\", 'Its okay to be white IOTBW is a slogan which originated as part of an organized alt-right trolling campaign on the website 4chans discussion board /pol/ in 2017.\n",
      "A /pol/ user described it as a proof of concept that an otherwise innocuous message could be used maliciously to spark media backlash, points: 7\n"
     ]
    },
    {
     "name": "stderr",
     "output_type": "stream",
     "text": [
      "  2%|▏         | 17/931 [00:10<11:29,  1.33it/s]"
     ]
    },
    {
     "name": "stdout",
     "output_type": "stream",
     "text": [
      "title: Rocaille, definition: ['Rocaille', 'Rocaille US: roh-KY, French: kj was a French style of exuberant decoration, with an abundance of curves, counter-curves, undulations and elements modeled on nature, that appeared in furniture and interior decoration during the early reign of Louis XV of France.\n",
      "It was the beginning of the French Baroque movement in furniture and design, and also marked the beginning of the Rococo movement, which spread to Italy, Bavaria and Austria by the mid-18th century, points: 42\n"
     ]
    },
    {
     "name": "stderr",
     "output_type": "stream",
     "text": [
      "  2%|▏         | 18/931 [00:11<12:32,  1.21it/s]"
     ]
    },
    {
     "name": "stdout",
     "output_type": "stream",
     "text": [
      "title: Exeter Book Riddle 30, definition: ['Exeter Book Riddle 30', 'Exeter Book Riddle 30 according to the numbering of the Anglo-Saxon Poetic Records is one of the Old English riddles found in the later tenth-century Exeter Book.\n",
      "Since the suggestion of F, points: 10\n"
     ]
    },
    {
     "name": "stderr",
     "output_type": "stream",
     "text": [
      "  2%|▏         | 19/931 [00:12<13:43,  1.11it/s]"
     ]
    },
    {
     "name": "stdout",
     "output_type": "stream",
     "text": [
      "title: You can't have your cake and eat it, definition: [\"You can't have your cake and eat it\", 'You cant have your cake and eat it too is a popular English idiomatic proverb or figure of speech.\n",
      "The proverbs meaning is similar to the phrases you cant have it both ways and you cant have the best of both worlds, points: 11\n"
     ]
    },
    {
     "name": "stderr",
     "output_type": "stream",
     "text": [
      "  2%|▏         | 20/931 [00:13<14:20,  1.06it/s]"
     ]
    },
    {
     "name": "stdout",
     "output_type": "stream",
     "text": [
      "title: Hardy's paradox, definition: [\"Hardy's paradox\", 'Hardys paradox is a thought experiment in quantum mechanics devised by Lucien Hardy in 19921993 in which a particle and its antiparticle may interact without annihilating each other.\\nExperiments using the technique of weak measurement have studied an interaction of polarized photons, and these have demonstrated that the phenomenon does occur, points: 6\n"
     ]
    },
    {
     "name": "stderr",
     "output_type": "stream",
     "text": [
      "  2%|▏         | 21/931 [00:15<14:50,  1.02it/s]"
     ]
    },
    {
     "name": "stdout",
     "output_type": "stream",
     "text": [
      "title: Epiphany (literature), definition: In that manuscript, Stephen Daedalus defines epiphany as a sudden spiritual manifestation, whether in the vulgarity of speech or of gesture or in a memorable phase of the mind itself.\n",
      "They become the basis of Stephens theory of aesthetic perception as well as his writing, points: 24\n"
     ]
    },
    {
     "name": "stderr",
     "output_type": "stream",
     "text": [
      "  2%|▏         | 22/931 [00:16<14:56,  1.01it/s]"
     ]
    },
    {
     "name": "stdout",
     "output_type": "stream",
     "text": [
      "title: List of country groupings, definition: ['List of country groupings', 'Groups of countries or regions are often referred to by a single term word, phrase, or abbreviation.\n",
      "The origins of such terms include political alliances, intergovernmental organizations, business market areas, and mere colloquialism, points: 10\n"
     ]
    },
    {
     "name": "stderr",
     "output_type": "stream",
     "text": [
      "  2%|▏         | 23/931 [00:17<15:23,  1.02s/it]"
     ]
    },
    {
     "name": "stdout",
     "output_type": "stream",
     "text": [
      "title: Rock and roll, definition: By the mid-1960s, rock and roll had developed into the more encomrear ending international style known as rock music, though the latter also continued to be known in many circles as rock and roll.\n",
      "For the purpose of differentiation, this article deals with the first definition, points: 59\n"
     ]
    },
    {
     "name": "stderr",
     "output_type": "stream",
     "text": [
      "  3%|▎         | 24/931 [00:18<14:55,  1.01it/s]"
     ]
    },
    {
     "name": "stdout",
     "output_type": "stream",
     "text": [
      "title: Topical humor, definition: ['Topical humor', 'The topical humor and topical jokes is humor framed around a specific topic related to current events or dealing with issues that are important or popular at the current time.\n",
      "The value of this kind of humor often diminishes when the topic is no longer widely discussed in public, points: 4\n"
     ]
    },
    {
     "name": "stderr",
     "output_type": "stream",
     "text": [
      "  3%|▎         | 25/931 [00:18<13:34,  1.11it/s]"
     ]
    },
    {
     "name": "stdout",
     "output_type": "stream",
     "text": [
      "title: Empire style, definition: ['Empire style', 'The Empire style French pronunciation: .pi, style Empire is an early-nineteenth-century design movement in architecture, furniture, other decorative arts, and the visual arts, representing the second phase of Neocrear epenisism, points: 58\n"
     ]
    },
    {
     "name": "stderr",
     "output_type": "stream",
     "text": [
      "  3%|▎         | 26/931 [00:19<13:01,  1.16it/s]"
     ]
    },
    {
     "name": "stdout",
     "output_type": "stream",
     "text": [
      "title: Russian political jokes, definition: ['Russian political jokes', 'Russian political jokes are a part of Russian humour and can be grouped into the major time periods: Imperial Russia, Soviet Union and finally post-Soviet Russia.\n",
      "In the Soviet period political jokes were a form of social protest, mocking and criticising leaders, the system and its ideology, myths and rites, points: 10\n"
     ]
    },
    {
     "name": "stderr",
     "output_type": "stream",
     "text": [
      "  3%|▎         | 27/931 [00:20<13:05,  1.15it/s]"
     ]
    },
    {
     "name": "stdout",
     "output_type": "stream",
     "text": [
      "title: Arts and Crafts movement, definition: ['Arts and Crafts movement', 'The Arts and Crafts movement was an international trend in the decorative and fine arts that developed earliest and most fully in the British Isles and subsequently spread across the British Empire and to the rest of Europe and America.Initiated in reaction against the perceived impoverishment of the decorative arts and the conditions in which they were produced, the movement flourished in Europe and North America between about 1880 and 1920, points: 46\n"
     ]
    },
    {
     "name": "stderr",
     "output_type": "stream",
     "text": [
      "  3%|▎         | 28/931 [00:21<12:27,  1.21it/s]"
     ]
    },
    {
     "name": "stdout",
     "output_type": "stream",
     "text": [
      "title: Black comedy, definition: Thus, in fiction, for example, the term black comedy can also refer to a genre in which dark humor is a core component.\n",
      "Whereas the term black comedy is a relatively broad term covering humor relating to many serious subjects, gallows humor tends to be used more specifically in relation to death, or situations that are reminiscent of dying, points: 69\n"
     ]
    },
    {
     "name": "stderr",
     "output_type": "stream",
     "text": [
      "  3%|▎         | 29/931 [00:21<11:31,  1.30it/s]"
     ]
    },
    {
     "name": "stdout",
     "output_type": "stream",
     "text": [
      "title: Nanyang Style, definition: ['Nanyang Style', 'The Nanyang style of painting, also known as Nanyang art or the Nanyang school, was a modern art movement and painting tradition initially practised by migrant Chinese painters in Singapore from the late-1940s to 1960s.\n",
      "Liu Kang and Chen Chong Swee arrived in Singapore during the 1930s before World War II, while Chen Wen Hsi and Cheong Soo Pieng would arrive in the post-war period, points: 9\n"
     ]
    },
    {
     "name": "stderr",
     "output_type": "stream",
     "text": [
      "  3%|▎         | 30/931 [00:22<10:56,  1.37it/s]"
     ]
    },
    {
     "name": "stdout",
     "output_type": "stream",
     "text": [
      "title: Surrealist automatism, definition: ['Surrealist automatism', 'Surrealist automatism is a method of art-making in which the artist suppresses conscious control over the making process, allowing the unconscious mind to have great sway.\n",
      "Early 20th-century Dadaists, such as Hans Arp, made some use of this method through chance operations, points: 8\n"
     ]
    },
    {
     "name": "stderr",
     "output_type": "stream",
     "text": [
      "  3%|▎         | 31/931 [00:22<09:50,  1.52it/s]"
     ]
    },
    {
     "name": "stdout",
     "output_type": "stream",
     "text": [
      "title: Exeter Book Riddle 27, definition: ['Exeter Book Riddle 27', 'Exeter Book Riddle 27 according to the numbering of the Anglo-Saxon Poetic Records is one of the Old English riddles found in the later tenth-century Exeter Book.\n",
      "The riddle is almost universally solved as mead, points: 10\n"
     ]
    },
    {
     "name": "stderr",
     "output_type": "stream",
     "text": [
      "  3%|▎         | 32/931 [00:23<10:45,  1.39it/s]"
     ]
    },
    {
     "name": "stdout",
     "output_type": "stream",
     "text": [
      "title: Fictional portrayals of psychopaths, definition: ['Fictional portrayals of psychopaths', 'Fictional portrayals of psychopaths, or sociopaths, are some of the most notorious in film and literature but may only vaguely or partly relate to the concept of psychopathy, which is itself used with varying definitions by mental health professionals, criminologists and others.\n",
      "The character may be identified as a diagnosed/assessed psychopath or sociopath within the fictional work itself, or by its creator when discussing their intentions with the work, which might be distinguished from opinions of audiences or critics based only on a character appearing to show traits or behaviors associated with an undefined popular stereotype of psychopathy, points: 10\n"
     ]
    },
    {
     "name": "stderr",
     "output_type": "stream",
     "text": [
      "  4%|▎         | 33/931 [00:24<09:44,  1.54it/s]"
     ]
    },
    {
     "name": "stdout",
     "output_type": "stream",
     "text": [
      "title: Science and inventions of Leonardo da Vinci, definition: ['Science and inventions of Leonardo da Vinci', 'Leonardo da Vinci 14521519 was an Italian polymath, regarded as the epitome of the Renaissance Man, displaying skills in numerous diverse areas of study.\n",
      "Whilst most famous for his paintings such as the Mona Lisa and the Last Supper, Leonardo is also renowned in the fields of civil engineering, chemistry, geology, geometry, hydrodynamics, mathematics, mechanical engineering, optics, physics, pyrotechnics, and zoology, points: 10\n"
     ]
    },
    {
     "name": "stderr",
     "output_type": "stream",
     "text": [
      "  4%|▎         | 34/931 [00:24<09:18,  1.61it/s]"
     ]
    },
    {
     "name": "stdout",
     "output_type": "stream",
     "text": [
      "title: List of art techniques, definition: ['List of art techniques', 'Types of art techniques There is no exact definition of what constitutes art.\n",
      "Artists have explored many styles and have used many different techniques to create art, points: 10\n"
     ]
    },
    {
     "name": "stderr",
     "output_type": "stream",
     "text": [
      "  4%|▍         | 35/931 [00:25<09:44,  1.53it/s]"
     ]
    },
    {
     "name": "stdout",
     "output_type": "stream",
     "text": [
      "title: Varayarangu, definition: ['Varayarangu', 'Varayarangu Malayalam: , is an experimental Infotainment art genre from Kerala, which explores the performing level possibilities of Fine Art as a Stage Art .\n",
      "This Cartoon Stage Show is a blend of poetry, anecdotes and socio-political satire with high speed drawing, points: 7\n"
     ]
    },
    {
     "name": "stderr",
     "output_type": "stream",
     "text": [
      "  4%|▍         | 36/931 [00:26<11:28,  1.30it/s]"
     ]
    },
    {
     "name": "stdout",
     "output_type": "stream",
     "text": [
      "title: Geomatics, definition: ['Geomatics', 'Geomatics is defined in the ISO/TC 211 series of standards as the discipline concerned with the collection, distribution, storage, analysis, processing, presentation of geographic data or geographic information.\n",
      "Under another definition, it consists of products, services and tools involved in the collection, integration and management of geographic geospatial data, points: 59\n"
     ]
    },
    {
     "name": "stderr",
     "output_type": "stream",
     "text": [
      "  4%|▍         | 37/931 [00:27<13:21,  1.12it/s]"
     ]
    },
    {
     "name": "stdout",
     "output_type": "stream",
     "text": [
      "title: Artist-in-residence, definition: ['Artist-in-residence', 'Artist-in-residence, or artist residencies, encomrear end a wide spectrum of artistic programs which involve a collaboration between artists and hosting organisations, institutions, or communities.\n",
      "They are programs which provide artists with space and resources to support their artistic practice, points: 5\n"
     ]
    },
    {
     "name": "stderr",
     "output_type": "stream",
     "text": [
      "  4%|▍         | 38/931 [00:29<15:40,  1.05s/it]"
     ]
    },
    {
     "name": "stdout",
     "output_type": "stream",
     "text": [
      "title: Mute R. Kelly, definition: ['Mute R. Kelly', 'Mute R, points: 6\n"
     ]
    },
    {
     "name": "stderr",
     "output_type": "stream",
     "text": [
      "  4%|▍         | 39/931 [00:29<14:40,  1.01it/s]"
     ]
    },
    {
     "name": "stdout",
     "output_type": "stream",
     "text": [
      "title: Hands Off Russia, definition: ['Hands Off Russia', 'The Hands Off Russia campaign was an international political initiative first launched by British Socialists in 1919 to organise opposition to the British intervention on the side of the White armies against the Bolsheviks in the Russian Civil War, as well as to oppose support for Poland during the Polish-Soviet war.\n",
      "The movement was funded partly with financial support from the Bolsheviks themselves, points: 10\n"
     ]
    },
    {
     "name": "stderr",
     "output_type": "stream",
     "text": [
      "  4%|▍         | 40/931 [00:30<13:36,  1.09it/s]"
     ]
    },
    {
     "name": "stdout",
     "output_type": "stream",
     "text": [
      "title: We Shall Overcome, definition: In 1947, the song was published under the title We Will Overcome in an edition of the Peoples Songs Bulletin a publication of Peoples Songs, an organization of which Pete Seeger was the director, as a contribution of and with an introduction by Zilphia Horton, then-music director of the Highlander Folk School of Monteagle, Tennessee an adult education school that trained union organizers.\n",
      "Since its rise to prominence, the song, and songs based on it, have been used in a variety of protests worldwide, points: 32\n"
     ]
    },
    {
     "name": "stderr",
     "output_type": "stream",
     "text": [
      "  4%|▍         | 41/931 [00:31<12:17,  1.21it/s]"
     ]
    },
    {
     "name": "stdout",
     "output_type": "stream",
     "text": [
      "title: Epigraph (literature), definition: ['Epigraph (literature)', 'In literature, an epigraph is a phrase, quotation, or poem that is set at the beginning of a document, monograph or section thereof.\n",
      "The epigraph may serve as a preface to the work; as a summary; as a counter-example; or as a link from the work to a wider literary canon, with the purpose of either inviting comparison or enlisting a conventional context, points: 6\n"
     ]
    },
    {
     "name": "stderr",
     "output_type": "stream",
     "text": [
      "  5%|▍         | 42/931 [00:32<11:48,  1.25it/s]"
     ]
    },
    {
     "name": "stdout",
     "output_type": "stream",
     "text": [
      "title: America can't do a damn thing against us, definition: [\"America can't do a darn thing against us\", 'America cant do a darn thing against us Persian:      is a slogan originally used by the former Supreme Leader of Iran, Ayatollah Ruhollah Khomeini during the Iran hostage crisis, for the first time to assure the Iranians that the United States would not be able to restore the ousted Shah of Iran back to the Iranian throne.\n",
      "The statement then became an unofficial slogan for the Iranian Revolution which resulted in the establishment of an Islamic Republic under Khomeinis rule, points: 10\n"
     ]
    },
    {
     "name": "stderr",
     "output_type": "stream",
     "text": [
      "  5%|▍         | 43/931 [00:32<10:34,  1.40it/s]"
     ]
    },
    {
     "name": "stdout",
     "output_type": "stream",
     "text": [
      "title: The Centipede's Dilemma, definition: [\"The Centipede's Dilemma\", 'The Centipedes Dilemma is a short poem that has lent its name to a psychological effect called the centipede effect or centipede syndrome.\n",
      "The centipede effect occurs when a normally automatic or unconscious activity is disrupted by consciousness of it or reflection on it, points: 10\n"
     ]
    },
    {
     "name": "stderr",
     "output_type": "stream",
     "text": [
      "  5%|▍         | 44/931 [00:33<10:01,  1.47it/s]"
     ]
    },
    {
     "name": "stdout",
     "output_type": "stream",
     "text": [
      "title: Paradox psychology, definition: As it turns out, the better therapy is able to strengthen the alliance, the more these aspects of behavior will change.\n",
      "As a result, this allows the client to let go of rigid patterns in a manner that can best be described as spontaneous as unlikely as that may initially sound!'], points: 9\n"
     ]
    },
    {
     "name": "stderr",
     "output_type": "stream",
     "text": [
      "  5%|▍         | 45/931 [00:34<12:22,  1.19it/s]"
     ]
    },
    {
     "name": "stdout",
     "output_type": "stream",
     "text": [
      "title: Corporate Memphis, definition: ['Corporate Memphis', 'Corporate Memphis is a term used to describe a flat, geometric art style, widely associated with Big Tech illustrations in the late 2010s and early 2020s.\n",
      "It has been criticized by some as uninspired or dystopian, though some illustrators have defended the style, pointing at what they claim to be its art-historical legitimacy, points: 17\n"
     ]
    },
    {
     "name": "stderr",
     "output_type": "stream",
     "text": [
      "  5%|▍         | 46/931 [00:35<13:40,  1.08it/s]"
     ]
    },
    {
     "name": "stdout",
     "output_type": "stream",
     "text": [
      "title: Madí, definition: ['Madí', 'Mad or MADI; also known as Grupo Mad or Arte Mad is an international abstract or concrete art movement initiated in Buenos Aires in 1946 by the Hungarian-Argentinian artist and poet Gyula Kosice, and the Uruguayans Carmelo Arden Quin and Rhod Rothfuss.The movement focuses on creating concrete art i, points: 5\n"
     ]
    },
    {
     "name": "stderr",
     "output_type": "stream",
     "text": [
      "  5%|▌         | 47/931 [00:36<12:57,  1.14it/s]"
     ]
    },
    {
     "name": "stdout",
     "output_type": "stream",
     "text": [
      "title: Bad Bunny, definition: His musical style is defined as Latin trap and reggaeton.\n",
      "He then released his collaborative album Oasis with J Balvin in June 2019, reaching number 9 on the Billboard Global 200, points: 17\n"
     ]
    },
    {
     "name": "stderr",
     "output_type": "stream",
     "text": [
      "  5%|▌         | 48/931 [00:37<12:36,  1.17it/s]"
     ]
    },
    {
     "name": "stdout",
     "output_type": "stream",
     "text": [
      "title: Lazzi, definition: ['Lazzi', 'Lazzi ; from the Italian lazzo, a joke or witticism are stock compenis routines that are associated with Commedia dellarte.\n",
      "Performers, especially those playing the masked Arlecchino, had many examples of this in their repertoire, and would use improvisatory skills to weave them into the plot of dozens of different commedia scenarios, points: 48\n"
     ]
    },
    {
     "name": "stderr",
     "output_type": "stream",
     "text": [
      "  5%|▌         | 49/931 [00:37<09:53,  1.49it/s]"
     ]
    },
    {
     "name": "stdout",
     "output_type": "stream",
     "text": [
      "title: Song of the summer, definition: ['Song of the summer', 'Song of the summer is the unofficial designation of the song that is dominant both culturally and commercially between the end of May and the beginning of September in a given year.\n",
      "Although the idea of a song of the summer had been around for years, it became a common term in the 1990s, points: 10\n"
     ]
    },
    {
     "name": "stderr",
     "output_type": "stream",
     "text": [
      "  5%|▌         | 50/931 [00:37<09:21,  1.57it/s]"
     ]
    },
    {
     "name": "stdout",
     "output_type": "stream",
     "text": [
      "title: The Crow and the Snake, definition: ['The Crow and the Snake', 'The Crow or Raven and the Snake or Serpent is one of Aesops Fables and numbered 128 in the Perry Index.\n",
      "Alternative Greek versions exist and two of these were adopted during the European Renaissance, points: 16\n"
     ]
    },
    {
     "name": "stderr",
     "output_type": "stream",
     "text": [
      "  5%|▌         | 51/931 [00:38<08:33,  1.71it/s]"
     ]
    },
    {
     "name": "stdout",
     "output_type": "stream",
     "text": [
      "title: The Paradoxes of Mr. Pond, definition: Almost every one of those crazy sentences simply stands for one of the adventures in what would be called by most people a very unadventurous life.Chesterton himself was well known for using paradox in his writings, but in one story he explains that his kind of paradox is different from Mr, points: 10\n"
     ]
    },
    {
     "name": "stderr",
     "output_type": "stream",
     "text": [
      "  6%|▌         | 52/931 [00:38<08:16,  1.77it/s]"
     ]
    },
    {
     "name": "stdout",
     "output_type": "stream",
     "text": [
      "title: Letter Zyu, definition: ['Letter Zyu', 'Letter Zyu Russian:   is a Russian phraseme, meaning the contortion of the human body into a strange, improbable, hunched shape.\n",
      "This is a relatively new idiomatic expression, dating from the 1970s or 1980s, which has come to acquire a variety of other meanings in the process of becoming more widespread, points: 10\n"
     ]
    },
    {
     "name": "stderr",
     "output_type": "stream",
     "text": [
      "  6%|▌         | 53/931 [00:39<08:16,  1.77it/s]"
     ]
    },
    {
     "name": "stdout",
     "output_type": "stream",
     "text": [
      "title: John Stapp, definition: ['John Stapp', 'Colonel John Paul Stapp July 11, 1910  November 13, 1999, M.D, points: 19\n"
     ]
    },
    {
     "name": "stderr",
     "output_type": "stream",
     "text": [
      "  6%|▌         | 54/931 [00:40<08:50,  1.65it/s]"
     ]
    },
    {
     "name": "stdout",
     "output_type": "stream",
     "text": [
      "title: Epstein didn't kill himself, definition: Epstein was an American financier and convicted affection offender with connections to powerful and wealthy people, and his reported suicide led to numerous hypotheses about the nature and cause of his death.\n",
      "As a result, some people have used the verb epstein to refer to the scenario of powerful criminals arranging for people with compromising information to be murdered while having officials rule their deaths as suicides, points: 1\n"
     ]
    },
    {
     "name": "stderr",
     "output_type": "stream",
     "text": [
      "  6%|▌         | 55/931 [00:40<09:25,  1.55it/s]"
     ]
    },
    {
     "name": "stdout",
     "output_type": "stream",
     "text": [
      "title: Weather rock, definition: ['Weather rock', 'The weather rock or weather stone is a humour display that pokes fun at the intricate technology used in modern weather forecasts, as well as the fact that their accuracy is less than perfect.\n",
      "A rock is typically hung from a tripod and accompanied by a sign ipenisating how to read it, points: 53\n"
     ]
    },
    {
     "name": "stderr",
     "output_type": "stream",
     "text": [
      "  6%|▌         | 56/931 [00:41<09:27,  1.54it/s]"
     ]
    },
    {
     "name": "stdout",
     "output_type": "stream",
     "text": [
      "title: Country, definition: ['Country', 'A country is a distinct part of the world, such as a state, nation, or other political entity.\n",
      "It may be a sovereign state or make up one part of a larger state, points: 71\n"
     ]
    },
    {
     "name": "stderr",
     "output_type": "stream",
     "text": [
      "  6%|▌         | 57/931 [00:42<09:32,  1.53it/s]"
     ]
    },
    {
     "name": "stdout",
     "output_type": "stream",
     "text": [
      "title: We Don't Coast, definition: [\"We Don't Coast\", 'We Dont Coast is a cultural movement and slogan adopted by Omaha and surrounding communities to observe unity, elevate hard work and acknowledge the regions Midwestern, noncoastal status.We Dont Coast is also the title of an annual Omaha-area print publication featuring artists, entrepreneurs, entertainers and others, points: 13\n"
     ]
    },
    {
     "name": "stderr",
     "output_type": "stream",
     "text": [
      "  6%|▌         | 58/931 [00:42<09:24,  1.55it/s]"
     ]
    },
    {
     "name": "stdout",
     "output_type": "stream",
     "text": [
      "title: Cigarette smokers problem, definition: ['Cigarette smokers problem', 'The cigarette smokers problem is a concurrency problem in computer science, originally described in 1971 by Suhas Patil.\n",
      "The problem has been criticized for having restrictions which cannot be justified by practical considerations, points: 9\n"
     ]
    },
    {
     "name": "stderr",
     "output_type": "stream",
     "text": [
      "  6%|▋         | 59/931 [00:43<08:51,  1.64it/s]"
     ]
    },
    {
     "name": "stdout",
     "output_type": "stream",
     "text": [
      "title: Three Red Banners, definition: ['Three Red Banners', 'Three Red Banners Chinese:  was an ideological slogan in the late 1950s which called on the Chinese people to build a socialist state.\n",
      "Membership in communes was gradually reduced in the early 1960s, with some private property ownership and enterprise again being allowed, points: 0\n"
     ]
    },
    {
     "name": "stderr",
     "output_type": "stream",
     "text": [
      "  6%|▋         | 60/931 [00:44<09:40,  1.50it/s]"
     ]
    },
    {
     "name": "stdout",
     "output_type": "stream",
     "text": [
      "title: Music video, definition: ['Music video', 'A music video is a video of variable duration, that integrates a music song or a music album with imagery that is produced for promotional or musical artistic purposes.\n",
      "Modern music videos are primarily made and used as a music marketing device intended to promote the sale of music recordings, points: 49\n"
     ]
    },
    {
     "name": "stderr",
     "output_type": "stream",
     "text": [
      "  7%|▋         | 61/931 [00:44<09:06,  1.59it/s]"
     ]
    },
    {
     "name": "stdout",
     "output_type": "stream",
     "text": [
      "title: No friends but the mountains, definition: ['No friends but the mountains', 'No friends but the mountains is a Kurdish proverb which is expressed to signify their feeling of betrayal, abandonment and loneliness due to their history as a semi-stateless ethnic minority in the Middle East without beliefful allies.'], points: 8\n"
     ]
    },
    {
     "name": "stderr",
     "output_type": "stream",
     "text": [
      "  7%|▋         | 62/931 [00:45<09:10,  1.58it/s]"
     ]
    },
    {
     "name": "stdout",
     "output_type": "stream",
     "text": [
      "title: Life Cube Project, definition: ['Life Cube Project', 'The Life Cube Project is a community interactive art installation based upon the creators idea that if you write something down, it is far more likely to happen.\n",
      "The Life Cube installation encourages members of the community and the general public to decorate it with inspirational writing, paintings, drawings, murals, and tapestries for all its visitors to see, points: 8\n"
     ]
    },
    {
     "name": "stderr",
     "output_type": "stream",
     "text": [
      "  7%|▋         | 63/931 [00:46<10:09,  1.43it/s]"
     ]
    },
    {
     "name": "stdout",
     "output_type": "stream",
     "text": [
      "title: Schlager music, definition: ['Schlager music', 'Schlager music German: la, hits is a style of European popular music that is generally a catchy instrumental accompaniment to vocal pieces of pop music with simple, happy-go-lucky, and often sentimental lyrics.\\n\\nTypical Schlager tracks are either sweet, sentimental ballads with a simple, catchy melody or light pop tunes, points: 35\n"
     ]
    },
    {
     "name": "stderr",
     "output_type": "stream",
     "text": [
      "  7%|▋         | 64/931 [00:46<08:36,  1.68it/s]"
     ]
    },
    {
     "name": "stdout",
     "output_type": "stream",
     "text": [
      "title: Bombay Progressive Artists' Group, definition: [\"Bombay Progressive Artists' Group\", 'The Progressive Artists Group PAG, was a group of modern artists, mainly based in Bombay, from its formation in 1947.\n",
      "Though it lacked any particular style, there might be said to have been a move towards a synthesis of influences from Indian art history together with styles prevalent in Europe and North America during the first half of the 20th century, including Post-Impressionism, Cubism and Expressionism, points: 10\n"
     ]
    }
   ],
   "source": [
    "from sumy.parsers.plaintext import PlaintextParser\n",
    "# LexRankSummarizer\n",
    "from sumy.summarizers.lex_rank import LexRankSummarizer\n",
    "# LsaSummarizer\n",
    "from sumy.summarizers.lsa import LsaSummarizer\n",
    "# LuhnSummarizer\n",
    "from sumy.summarizers.luhn import LuhnSummarizer\n",
    "# TextRankSummarizer\n",
    "from sumy.summarizers.text_rank import TextRankSummarizer\n",
    "from sumy.nlp.tokenizers import Tokenizer\n",
    "from sumy.summarizers.lsa import LsaSummarizer\n",
    "import textwrap\n",
    "import os\n",
    "from PIL import Image, ImageDraw, ImageFont\n",
    "from tqdm import tqdm\n",
    "\n",
    "# import minmax scaler eventually for scaling the point values between 1 and 10\n",
    "\n",
    "\n",
    "\n",
    "def generate_card(title, definition, points):\n",
    "    # determine the font size based on the length of the definition\n",
    "    \n",
    "    # definition needs to be extracted from ['definition'] to be used in the function\n",
    "    if isinstance(definition, list):\n",
    "        definition = definition[0]\n",
    "    elif isinstance(definition, str):\n",
    "        # replace '[', and ']' with ''\n",
    "        definition = definition.replace('[', '')\n",
    "        definition = definition.replace(']', '')\n",
    "        definition = definition.replace(\"'\", '')\n",
    "        definition = definition.replace('\"', '')\n",
    "    \n",
    "    body_font_size = int(len(definition) / 20)\n",
    "    title_font_size = 10\n",
    "\n",
    "    # create the image and draw objects\n",
    "    image = Image.new('RGB', (400, 300), (255, 255, 255))\n",
    "    draw = ImageDraw.Draw(image)\n",
    "\n",
    "    # select a font and draw the title in a rectangle\n",
    "    # font = ImageFont.truetype('./fonts/arial.ttf', font_size)\n",
    "    # add fontsize for title\n",
    "    font = ImageFont.truetype('./fonts/NewYork.ttf', title_font_size)\n",
    "    # add fontsize for body\n",
    "    font = ImageFont.truetype('./fonts/NewYork.ttf', body_font_size)\n",
    "    draw.rectangle([(10, 10), (390, 50)], fill='lightgrey')\n",
    "    draw.text((20, 20), title, fill=(0, 0, 0))\n",
    "\n",
    "    # draw the definition in a rectangle\n",
    "    wrapped_definition = textwrap.wrap(definition, width=50)\n",
    "    wrapped_definition_str = \"\\n\".join(wrapped_definition)\n",
    "    draw.text((20, 70), wrapped_definition_str, fill=(0, 0, 0))\n",
    "\n",
    "    draw.rectangle([(10, 60), (390, 250)])\n",
    "    draw.text((20, 70), wrapped_definition, fill=(0, 0, 0))\n",
    "\n",
    "\n",
    "    # draw a circle around the point value\n",
    "    draw.ellipse([(360, 270), (390, 300)], fill='lightgrey')\n",
    "    draw.text((365, 275), str(points), fill=(0, 0, 0))\n",
    "\n",
    "    # save the image\n",
    "    image.save('./card_images/{}.png'.format(len(os.listdir('./card_images/'))))\n",
    "\n",
    "# todo\n",
    "def summarize_text(text, num_sentences):\n",
    "    \"\"\"\n",
    "    Summarize the given text using the LSA or LexRank summarization algorithms and return the summary as a string\n",
    "    \"\"\"\n",
    "    # create a PlaintextParser object to parse the text\n",
    "    parser = PlaintextParser.from_string(text, Tokenizer(\"english\"))\n",
    "    # choose a summarization algorithm\n",
    "    # algorithm = LsaSummarizer()\n",
    "    algorithm = LexRankSummarizer()\n",
    "\n",
    "    # summarize the text and return the summary as a string\n",
    "    summary = algorithm(parser.document, num_sentences)\n",
    "    summary_text = \"\\n\".join([str(sentence) for sentence in summary])\n",
    "\n",
    "    return summary_text\n",
    "\n",
    "import textwrap\n",
    "\n",
    "\n",
    "import json\n",
    "# open the cards file\n",
    "with open(\"ppn_deck_cleaned.json\", \"r\") as read_file:\n",
    "    card_deck = json.load(read_file)\n",
    "\n",
    "# create a new card deck (cards with point values from Google Trends)\n",
    "new_card_deck = []\n",
    "\n",
    "# loop through the cards in the card deck\n",
    "for card in tqdm(card_deck):\n",
    "    # get the title and definition\n",
    "    title = card[\"title\"]\n",
    "    definition = summarize_text(card[\"summary\"],2)\n",
    "    # check if the definition has more than 2 sentences\n",
    "    if len(definition.split(\".\")) > 2:\n",
    "        # if so, use the first 2 sentences\n",
    "        definition = \".\".join(definition.split(\".\")[:2])\n",
    "    \n",
    "    # get the Google Trends score for the title\n",
    "    points = get_google_trends_score(str(title))\n",
    "    # round the points to the nearest integer\n",
    "    points = int(round(points))\n",
    "    # create a new card with the title, definition, and point value\n",
    "    new_card = {\n",
    "        \"title\": title,\n",
    "        \"definition\": definition,\n",
    "        \"points\": points\n",
    "    }\n",
    "    # add the new card to the new card deck\n",
    "    card_generated = generate_card(title, definition, str(points)) # generate card image\n",
    "    print(f'title: {title}, definition: {definition}, points: {points}')\n",
    "    #create_card(title, definition, str(points), 400, 150) # generate card image\n",
    "\n",
    "\n"
   ]
  },
  {
   "cell_type": "code",
   "execution_count": null,
   "metadata": {},
   "outputs": [
    {
     "name": "stdout",
     "output_type": "stream",
     "text": [
      "{'abolitionism'}\n"
     ]
    },
    {
     "name": "stderr",
     "output_type": "stream",
     "text": [
      "100%|██████████| 931/931 [00:12<00:00, 73.19it/s] \n"
     ]
    }
   ],
   "source": [
    "from nltk.metrics.distance import edit_distance\n",
    "import json\n",
    "import nltk\n",
    "from nltk.corpus import wordnet\n",
    "import random\n",
    "import nltk\n",
    "from tqdm import tqdm\n",
    "from nltk.corpus import wordnet\n",
    "stopwords = nltk.corpus.stopwords.words('english')\n",
    "def find_synonyms(word):\n",
    "    synonyms = []\n",
    "    lemmatizer = nltk.WordNetLemmatizer()\n",
    "    for syn in wordnet.synsets(word):\n",
    "        for lemma in syn.lemmas():\n",
    "            synonym = lemma.name()\n",
    "            synonyms.append(synonym)\n",
    "    return set(synonyms)\n",
    "\n",
    "def replace_similar_words(title, definition, threshold=3):\n",
    "    similar_words = find_similar_words(title, definition, threshold)\n",
    "    \n",
    "    # replace each similar word with a random synonym\n",
    "    for word in similar_words:\n",
    "        synonyms = find_synonyms(word)\n",
    "        synonym = random.choice(list(synonyms))  # choose a random synonym from the set\n",
    "        print(f\"Replacing {word} with {synonym}\")\n",
    "        definition = definition.replace(word, synonym)\n",
    "        \n",
    "    return definition\n",
    "\n",
    "\n",
    "# Example usage\n",
    "print(find_synonyms(\"abolitionism\"))\n",
    "# Output: {'abolition', 'abolitionary', 'abolitionism', 'manumission', 'emancipation'}\n",
    "\n",
    "# open the card deck file\n",
    "with open(\"ppn_deck.json\", \"r\") as read_file:\n",
    "    card_deck = json.load(read_file)\n",
    "def find_similar_words(title, definition, threshold=3):\n",
    "    # split the definition into a list of words\n",
    "    if isinstance(definition, list):\n",
    "        words = definition\n",
    "    else:\n",
    "        words = definition.split()\n",
    "    \n",
    "    # use a list comprehension to create a list of words with a Levenshtein distance less than the threshold\n",
    "    similar_words = [word for word in words if edit_distance(title, word) <= threshold]\n",
    "    \n",
    "    return similar_words\n",
    "\n",
    "def replace_similar_words(title, definition, threshold=3):\n",
    "    similar_words = find_similar_words(title, definition, threshold)\n",
    "    if isinstance(definition, list):\n",
    "        definition = \" \".join(definition)\n",
    "    # replace each similar word with a synonym\n",
    "    for word in similar_words:\n",
    "        if len(word) < 3 or word in stopwords:\n",
    "            continue\n",
    "        try:\n",
    "            synonyms = find_synonyms(word) # find a synonym for the word -> set\n",
    "            # extract the synonym from the set\n",
    "            synonyms = list(synonyms)\n",
    "            synonym = synonyms[0]\n",
    "            #print(f\"Replacing {word} with {synonym}\")\n",
    "            definition = definition.replace(word, str(synonym))\n",
    "        except Exception as e:\n",
    "            #print(e)\n",
    "            #print(\"No synonyms found for word: \", word)\n",
    "            pass\n",
    "    return definition\n",
    "\n",
    "# iterate through each card and replace the similar words in the summary_short with synonyms\n",
    "for card in tqdm(card_deck):\n",
    "    title = card['title']\n",
    "    definition = card['summary']\n",
    "    definition = replace_similar_words(title, definition)\n",
    "    \n",
    "    # update the definition in the card dictionary\n",
    "    card['summary_short'] = definition\n"
   ]
  },
  {
   "cell_type": "code",
   "execution_count": null,
   "metadata": {},
   "outputs": [
    {
     "ename": "KeyError",
     "evalue": "'points'",
     "output_type": "error",
     "traceback": [
      "\u001b[0;31m---------------------------------------------------------------------------\u001b[0m",
      "\u001b[0;31mKeyError\u001b[0m                                  Traceback (most recent call last)",
      "\u001b[0;32m/var/folders/34/d1tlq3k91hb0lj6x90xpzb4r0000gn/T/ipykernel_49972/3997140704.py\u001b[0m in \u001b[0;36m<module>\u001b[0;34m\u001b[0m\n\u001b[1;32m      9\u001b[0m     \u001b[0mwriter\u001b[0m\u001b[0;34m.\u001b[0m\u001b[0mwriteheader\u001b[0m\u001b[0;34m(\u001b[0m\u001b[0;34m)\u001b[0m\u001b[0;34m\u001b[0m\u001b[0;34m\u001b[0m\u001b[0m\n\u001b[1;32m     10\u001b[0m     \u001b[0;32mfor\u001b[0m \u001b[0mcard\u001b[0m \u001b[0;32min\u001b[0m \u001b[0mcard_deck\u001b[0m\u001b[0;34m:\u001b[0m\u001b[0;34m\u001b[0m\u001b[0;34m\u001b[0m\u001b[0m\n\u001b[0;32m---> 11\u001b[0;31m         \u001b[0mwriter\u001b[0m\u001b[0;34m.\u001b[0m\u001b[0mwriterow\u001b[0m\u001b[0;34m(\u001b[0m\u001b[0;34m{\u001b[0m\u001b[0;34m'title'\u001b[0m\u001b[0;34m:\u001b[0m \u001b[0mcard\u001b[0m\u001b[0;34m[\u001b[0m\u001b[0;34m'title'\u001b[0m\u001b[0;34m]\u001b[0m\u001b[0;34m,\u001b[0m \u001b[0;34m'definition'\u001b[0m\u001b[0;34m:\u001b[0m \u001b[0mcard\u001b[0m\u001b[0;34m[\u001b[0m\u001b[0;34m'summary_short'\u001b[0m\u001b[0;34m]\u001b[0m\u001b[0;34m,\u001b[0m \u001b[0;34m'points'\u001b[0m\u001b[0;34m:\u001b[0m \u001b[0mcard\u001b[0m\u001b[0;34m[\u001b[0m\u001b[0;34m'points'\u001b[0m\u001b[0;34m]\u001b[0m\u001b[0;34m}\u001b[0m\u001b[0;34m)\u001b[0m\u001b[0;34m\u001b[0m\u001b[0;34m\u001b[0m\u001b[0m\n\u001b[0m\u001b[1;32m     12\u001b[0m \u001b[0;34m\u001b[0m\u001b[0m\n",
      "\u001b[0;31mKeyError\u001b[0m: 'points'"
     ]
    }
   ],
   "source": [
    "with open(\"ppn_deck_cleaned.json\", \"w\") as write_file:\n",
    "    json.dump(card_deck, write_file, indent=4)\n",
    "\n",
    "# create a csv file with the card titles and definitions and point values\n",
    "import csv\n",
    "with open('ppn_deck_cleaned.csv', 'w', newline='') as csvfile:\n",
    "    fieldnames = ['title', 'definition', 'points']\n",
    "    writer = csv.DictWriter(csvfile, fieldnames=fieldnames)\n",
    "    writer.writeheader()\n",
    "    for card in card_deck:\n",
    "        writer.writerow({'title': card['title'], 'definition': card['summary_short'], 'points': card['points']})\n",
    "\n"
   ]
  }
 ],
 "metadata": {
  "kernelspec": {
   "display_name": "Python 3.9.13 ('base')",
   "language": "python",
   "name": "python3"
  },
  "language_info": {
   "codemirror_mode": {
    "name": "ipython",
    "version": 3
   },
   "file_extension": ".py",
   "mimetype": "text/x-python",
   "name": "python",
   "nbconvert_exporter": "python",
   "pygments_lexer": "ipython3",
   "version": "3.9.13"
  },
  "orig_nbformat": 4,
  "vscode": {
   "interpreter": {
    "hash": "40d3a090f54c6569ab1632332b64b2c03c39dcf918b08424e98f38b5ae0af88f"
   }
  }
 },
 "nbformat": 4,
 "nbformat_minor": 2
}
