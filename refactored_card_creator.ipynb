{
 "cells": [
  {
   "cell_type": "code",
   "execution_count": 1,
   "metadata": {},
   "outputs": [
    {
     "name": "stderr",
     "output_type": "stream",
     "text": [
      "/opt/anaconda3/lib/python3.9/site-packages/requests/__init__.py:89: RequestsDependencyWarning: urllib3 (1.26.13) or chardet (3.0.4) doesn't match a supported version!\n",
      "  warnings.warn(\"urllib3 ({}) or chardet ({}) doesn't match a supported \"\n"
     ]
    },
    {
     "name": "stdout",
     "output_type": "stream",
     "text": [
      "Clearing card_images folder...\n"
     ]
    }
   ],
   "source": [
    "import json\n",
    "import textwrap\n",
    "import pytrends\n",
    "from pytrends.request import TrendReq\n",
    "import nltk\n",
    "from nltk.corpus import wordnet\n",
    "import random\n",
    "from tqdm import tqdm\n",
    "from nltk.corpus import wordnet\n",
    "from nltk.metrics.distance import edit_distance\n",
    "from nltk.corpus import stopwords\n",
    "# PlaintextParser\n",
    "from sumy.parsers.plaintext import PlaintextParser\n",
    "# LexRankSummarizer\n",
    "from sumy.summarizers.lex_rank import LexRankSummarizer\n",
    "# LsaSummarizer\n",
    "from sumy.summarizers.lsa import LsaSummarizer\n",
    "# define Tokenizer\n",
    "from sumy.nlp.tokenizers import Tokenizer\n",
    "# define Stemmer\n",
    "from sumy.nlp.stemmers import Stemmer\n",
    "# define language\n",
    "pytrend = TrendReq(hl='en-US', tz=360)\n",
    "stopwords = nltk.corpus.stopwords.words('english')\n",
    "\n",
    "\n",
    "import os\n",
    "from PIL import Image, ImageDraw, ImageFont\n",
    "# with open(\"ppn_deck_cleaned.json\", \"w\") as write_file:\n",
    "#     json.dump(card_deck, write_file, indent=4)\n",
    "\n",
    "# read card_deck from ppn_deck.json file\n",
    "# with open(\"ppn_deck.json\", \"r\") as read_file:\n",
    "    # card_deck = json.load(read_file)\n",
    "with open('ppn_deck.json', 'r') as read_file:\n",
    "    card_deck = json.load(read_file)\n",
    "\n",
    "# clear the card_images folder\n",
    "print(\"Clearing card_images folder...\")\n",
    "for filename in os.listdir(\"card_box\"):\n",
    "    os.remove(os.path.join(\"card_box\", filename))\n",
    "\n",
    "\n",
    "\n",
    "def summarize_text(text, num_sentences):\n",
    "    \"\"\"\n",
    "    Summarize the given text using the LSA or LexRank summarization algorithms and return the summary as a string\n",
    "    \"\"\"\n",
    "    # create a PlaintextParser object to parse the text\n",
    "    parser = PlaintextParser.from_string(text, Tokenizer(\"english\"))\n",
    "    # choose a summarization algorithm\n",
    "    # algorithm = LsaSummarizer()\n",
    "    algorithm = LexRankSummarizer()\n",
    "\n",
    "    # summarize the text and return the summary as a string\n",
    "    summary = algorithm(parser.document, num_sentences)\n",
    "    summary_text = \"\\n\".join([str(sentence) for sentence in summary])\n",
    "\n",
    "    return summary_text\n",
    "\n",
    "def generate_card(title, definition, points, name=None):\n",
    "    # create a blank image\n",
    "    image = Image.new('RGB', (550, 850), (255, 255, 255))\n",
    "    draw = ImageDraw.Draw(image)\n",
    "    \n",
    "    # set font sizes and create font objects\n",
    "    title_font_size = 20\n",
    "    description_font_size = 20\n",
    "    points_font_size = 18\n",
    "    title_font = ImageFont.truetype('./fonts/SFNSMono.ttf', title_font_size)\n",
    "    description_font = ImageFont.truetype('./fonts/SFNSMono.ttf', description_font_size)\n",
    "    points_font = ImageFont.truetype('./fonts/SFNSMono.ttf', points_font_size)\n",
    "    \n",
    "    # wrap the title and definition to 40 characters\n",
    "    title_wrapped = textwrap.wrap(title, width=40)\n",
    "    definition_wrapped = textwrap.wrap(definition, width=40)\n",
    "    \n",
    "    # calculate the heights of the title and definition text areas\n",
    "    title_height = len(title_wrapped) * title_font_size\n",
    "    description_height = len(definition_wrapped) * description_font_size\n",
    "    \n",
    "    # draw the title and definition text areas\n",
    "    draw.rectangle([(10, 10), (540, 10 + title_height)], fill='lightblue')\n",
    "    draw.rectangle([(10, 30 + title_height), (540, 30 + title_height + description_height)], fill='white')\n",
    "    \n",
    "    # write the title and definition text\n",
    "    y_text = 20\n",
    "    for line in title_wrapped:\n",
    "        draw.text((270, y_text), line, fill=(0, 0, 0), font=title_font, anchor='mm')\n",
    "        y_text += title_font_size\n",
    "    y_text = 30 + title_height\n",
    "    for line in definition_wrapped:\n",
    "        draw.text((10, y_text), line, fill=(0, 0, 0), font=description_font, anchor='lm')\n",
    "        y_text += 20\n",
    "    \n",
    "    # draw the points text area at the bottom left corner of the card\n",
    "    draw.rectangle([(10, 830), (100, 850)], fill='lightgreen')\n",
    "\n",
    "    # write the points text\n",
    "    draw.text((55, 840), str(points), fill=(0, 0, 0), font=points_font, anchor='mm')\n",
    "\n",
    "\n",
    "    \n",
    "    # if a name is provided, write it in the bottom right corner\n",
    "    if name:\n",
    "        draw.text((540, 830), name, fill=(0, 0, 0), font=points_font, anchor='mm')\n",
    "    \n",
    "    # save the image\n",
    "    title = title.replace(\" \", \"_\").lower()\n",
    "    # remove any non-alphanumeric characters\n",
    "    title = \"\".join([char for char in title if char.isalnum() or char == \" \"]).rstrip()\n",
    "    image.save(f\"card_box/{title}.png\")\n"
   ]
  },
  {
   "cell_type": "code",
   "execution_count": 2,
   "metadata": {},
   "outputs": [
    {
     "name": "stdout",
     "output_type": "stream",
     "text": [
      "Initialized process, and ready to generate physical cards...\n"
     ]
    }
   ],
   "source": [
    "def generate_physical_cards():\n",
    "    # choose a random card from the card deck\n",
    "    card = random.choice(card_deck)\n",
    "    print(card)\n",
    "\n",
    "    # get the summary for the card\n",
    "    summary = card['summary'][1] if isinstance(card['summary'], list) else card['summary']\n",
    "\n",
    "    # summarize the summary if it is a string, or convert it to a string if it is a list\n",
    "    if isinstance(summary, str):\n",
    "        summary = summarize_text(summary, 2)\n",
    "    if isinstance(summary, list):\n",
    "        summary = ' '.join(summary)\n",
    "\n",
    "    # calculate the points for the card\n",
    "    points = card['point_value']\n",
    "\n",
    "    # generate the card image\n",
    "    generate_card(str(card['title']), summary, points=points)\n",
    "\n",
    "    # iterate through the card deck and generate card images for each card\n",
    "    for card in tqdm(card_deck):\n",
    "        # get the title and summary for the card\n",
    "        title = card['title']\n",
    "        summary = card['summary'][1] if isinstance(card['summary'], list) else card['summary']\n",
    "        sentence_count = 5\n",
    "        # summarize the summary if it is a string, or convert it to a string if it is a list\n",
    "        if isinstance(summary, str):\n",
    "            # if the summarized text fills more than 3/4 the height of the card, summarize it again with one fewer sentence. This is to prevent the text from overflowing the card.\n",
    "            # max at font size 20 \n",
    "            while len(summary) > 25 * 40:# and sentence_count > 1:\n",
    "                summary = summarize_text(summary, 1)\n",
    "                sentence_count -= 1\n",
    "        if isinstance(summary, list):\n",
    "            summary = ' '.join(summary)\n",
    "\n",
    "        # calculate the points for the card\n",
    "        points = card['point_value']\n",
    "\n",
    "        # generate the card image\n",
    "        generate_card(str(card['title']), summary, points=points)\n",
    "\n",
    "print(\"Initialized process, and ready to generate physical cards...\")\n"
   ]
  },
  {
   "cell_type": "markdown",
   "metadata": {},
   "source": [
    "# 25 lines "
   ]
  },
  {
   "cell_type": "code",
   "execution_count": 3,
   "metadata": {},
   "outputs": [
    {
     "name": "stdout",
     "output_type": "stream",
     "text": [
      "{'title': 'BRAHMA Force: The Assault On Beltlogger 9', 'summary': 'BRAHMA Force: The Assault On Beltlogger 9, BRAHMA Force: The Assault on Beltlogger 9, known in Japan as Beltlogger 9 9, Berutorog 9, and in Europe as BRAHMA Force, is a video game developed by Genki for the PlayStation in 1996-1998. It was announced by Genki as the official successor to their Kileak series.', 'related': 39, 'summary_short': 'BRAHMA Force: The Assault On Beltlogger 9, BRAHMA Force: The Assault on Beltlogger 9, known in Japan as Beltlogger 9 9, Berutorog 9, and in Europe as BRAHMA Force, is a video game developed by Genki for the PlayStation in 1996-1998. It was announced by Genki as the official successor to their Kileak series.', 'summary_clean': nan, 'point_value': 39}\n"
     ]
    },
    {
     "name": "stderr",
     "output_type": "stream",
     "text": [
      " 23%|██▎       | 1743/7572 [01:10<02:40, 36.21it/s]"
     ]
    }
   ],
   "source": [
    "\n",
    "generate_physical_cards()\n",
    "print(\"Done\")"
   ]
  }
 ],
 "metadata": {
  "kernelspec": {
   "display_name": "Python 3.9.13 ('base')",
   "language": "python",
   "name": "python3"
  },
  "language_info": {
   "codemirror_mode": {
    "name": "ipython",
    "version": 3
   },
   "file_extension": ".py",
   "mimetype": "text/x-python",
   "name": "python",
   "nbconvert_exporter": "python",
   "pygments_lexer": "ipython3",
   "version": "3.9.13"
  },
  "orig_nbformat": 4,
  "vscode": {
   "interpreter": {
    "hash": "40d3a090f54c6569ab1632332b64b2c03c39dcf918b08424e98f38b5ae0af88f"
   }
  }
 },
 "nbformat": 4,
 "nbformat_minor": 2
}
