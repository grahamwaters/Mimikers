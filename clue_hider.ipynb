{
 "cells": [
  {
   "cell_type": "code",
   "execution_count": 17,
   "metadata": {},
   "outputs": [
    {
     "name": "stderr",
     "output_type": "stream",
     "text": [
      "100%|██████████| 5167/5167 [00:01<00:00, 3235.58it/s]\n"
     ]
    }
   ],
   "source": [
    "import re\n",
    "import json\n",
    "import nltk\n",
    "from tqdm import tqdm\n",
    "\n",
    "# read in the cards and their descriptions\n",
    "# with open(\"ppn_deck_cleaned.json\", \"w\") as write_file:\n",
    "#     json.dump(card_deck, write_file, indent=4)\n",
    "\n",
    "# read card_deck from ppn_deck.json file\n",
    "with open(\"ppn_deck.json\", \"r\") as read_file:\n",
    "    card_deck = json.load(read_file)\n",
    "\n",
    "for card in tqdm(card_deck):\n",
    "    # in the card['summary'] which is found in card['summary'][1] there should be a string that looks like this: \"example summary text for a card that has a clue in it\".\n",
    "    # the card['title'] is the title of the card, and it may be something like \"Eragon\" or \"The Hobbit\".\n",
    "    # These words (Eragon, The, Hobbit) are the clues that we want to hide in the summary because they give away the answer to the card. Usually the cards mention the words at least once, towards the beginning of the summary.\n",
    "    # We want to hide the clues in the summary so that the user can quickly read the summary like catchphrase and try to get others to guess the card title without using any of the (nonstopwords) words in the title of the card.\n",
    "\n",
    "    # first, we need to get the title of the card and split it into a list of words\n",
    "    card_title = card['title']\n",
    "\n",
    "    # Now, remove any exact matches of the card title phrase from the summary phrase before we split the summary phrase into a list of words.\n",
    "    # This is because the card title phrase may be a substring of the summary phrase, and we don't want to remove the substring from the summary phrase.\n",
    "\n",
    "    # how? we can use the re.sub() function to replace the card title phrase with an empty string in the summary phrase.\n",
    "    # the re.sub() function takes 3 arguments: the regex pattern to match, the string to replace the match with, and the string to search for the match in.\n",
    "    regex_pattern = r\"\\b\" + card_title.lower() + r\"\\b\"\n",
    "    string_to_replace_with = \"This/They/It\"\n",
    "    string_to_search = card['summary'][1]\n",
    "    card['summary'][1] = re.sub(regex_pattern, string_to_replace_with, string_to_search, flags=re.IGNORECASE)\n",
    "\n",
    "\n",
    "    # now split the title of the card into a list of words, and remove any stopwords from the list of words using nltk stopwords\n",
    "    stopwords = nltk.corpus.stopwords.words('english')\n",
    "    card_title_words = card_title.split()\n",
    "    card_title_words = [word for word in card_title_words if word not in stopwords]\n",
    "    # now we have a list of words that are in the title of the card, but not stopwords. (i.e. Hobbit, Eragon, etc.)\n",
    "    # if these words appear in the card summary, we want to hide them in the summary by replacing them with the phrase \"clue_hider\" (or something similar)\n",
    "    # we can use the re.sub() function to replace the words in the card title with the phrase \"clue_hider\" in the summary phrase.\n",
    "\n",
    "    for word in card_title_words: # for every word in the card title\n",
    "        word = word.lower()\n",
    "        string_to_replace_with = \"---\"\n",
    "        # replace '(',')' with '' in the word with regex\n",
    "        word = re.sub(r'[\\(\\)]', '', word) # replace the '(' and ')' with an empty string\n",
    "        regex_pattern1 = r'\\b' + word + r'\\b' # the regex pattern to match is the word\n",
    "        #print(regex_pattern)\n",
    "        # regex_pattern2 = r'listen(.*?);'\n",
    "        string_to_search = str(card['summary'][1]).lower() #! summary\n",
    "        card['summary'][1] = re.sub(regex_pattern1, string_to_replace_with, string_to_search) # replace the word with the phrase \"clue_hider\" in the summary phrase.\n",
    "\n",
    "# save the card_deck to a new file\n",
    "with open(\"ppn_deck_cleaned_clues_hidden.json\", \"w\") as write_file:\n",
    "    json.dump(card_deck, write_file, indent=4)\n"
   ]
  },
  {
   "cell_type": "code",
   "execution_count": 18,
   "metadata": {},
   "outputs": [
    {
     "name": "stdout",
     "output_type": "stream",
     "text": [
      "Climate change and cities\n",
      "this/they/it are deeply connected. --- are one of the greatest contributors and likely best opportunities for addressing --- ---. --- are also one of the most vulnerable parts of the human society to the effects of --- ---, and likely one of the most important solutions for reducing the environmental impact of humans. more than half of the worlds population is in ---, consuming a large portion of food and goods produced outside of ---. the increase of urban population growth is one of the main factors in air-quality problems. in the year 2016, 31 mega---- reported having at least 10 million in their population, 8 of which surrear endd 20 million people. the un projects that 68% of the world population will live in urban areas by 2050. hence, --- have a significant influence on construction and transportationtwo of the key contributors to global warming emissions. moreover, because of processes that create --- conflict and --- refugees, city areas are expected to grow during the next several decades, stressing infrastructure and concentrating more impoverished peoples in ---.because of the high density and effects like the urban heat island affect, weather changes due to --- --- are likely to greatly effect ---, exacerbating existing problems, such as air pollution, water scarcity, and heat illness in the metropolitan areas. studies have shown that if body temperature exceeds 39c for a period of time, serious heat stroke may occur. some of the other extreme weather conditions caused by --- --- include extreme floods, deathly snowstorms, ice storms, heat waves, droughts, and hurricanes, which are often deathly and harmful. studies have shown that heat waves are three times more likely to occur and have become more intense since the 1960s. moreover, because most --- have been built on rivers or coastal areas, --- are frequently vulnerable to the subsequent effects of sea level rise, which cause coastal flooding and erosion, and those effects are deeply connected with other urban environmental problems, like subsidence and aquifer depletion.\n",
      "a report by the c40 --- --- leadership group described consumption based emissions as having significantly more impact than production-based emissions within ---. the report estimates that 85% of the emissions associated with goods within a city is generated outside of that city. --- --- adaptation and mitigation investments in --- will be important in reducing the impacts of some of the largest contributors of greenhouse gas emissions: for example, increased density allows for redistribution of land use for agriculture and reforestation, improving transportation efficiencies, and greening construction largely due to cements outsized role in --- --- and improvements in sustainable construction practices and weatherization.in the most recent past, increasing urbanization has also been proposed as a phenomenon that has a reducing effect on the global rate of carbon emission primarily because with urbanization comes technical prowess which can help drive sustainability. lists of high impact --- --- solutions tend to include city-focused solutions; for example, project drawdown recommends several major urban investments, including improved bicycle infrastructure, building retrofitting, district heating, public transit, and walkable --- as important solutions.because of this, the international community has formed coalitions of --- such as the c40 --- --- leadership group and iclei and policy goals, such as sustainable development goal 11 sustainable --- and communities, to activate and focus attention on these solutions.\n",
      "\n",
      "Rosetta Cammeniti\n",
      "this/they/it, --- rosie --- is a fictional character from the australian soap opera neighbours, played by natalie saleeba. the character was introduced into the serial as part of a group of four 20 somethings. saleeba began filming in july and she made her first on-screen appearance on 12 october 2006. rosettas storylines included an arranged marriage, a same-sex kiss and pseudocyesis. she departed on 25 april 2008.\n",
      "\n",
      "Spy Muppets: License to Croak\n",
      "this/they/it, this/they/it is an action video game, part of the muppets franchise and released in 2003 made for microsoft windows and game boy advance by vicarious visions and published by tdk mediactive. it is a spoof of the james bond films, the title being a reference to licence to kill. the player controls kermit the frog through several stages in order to stop the bad guys.\n",
      "\n",
      "Fame in the 20th Century\n",
      "this/they/it, this/they/it is a 1993 bbc documentary television series and book by clive james. the book and series examined the phenomenon of --- and how it expanded to international mass media proportions throughout the --- ---. the series first aired starting in january 1993, with 8 episodes divided in roughly 8 decades, from the 1900s to the 1980s. each episode highlighted world-famous people during that part of the ---. james delivered interesting and amusing comments about the portrayed celebrities and the various ways they became famous.\\nin the united states, the series were broadcast on pbs and in australia on abc, though some footage was occasionally cut if the rights to it were too expensive. the series has never been repeated on television since, which james attributes to the fact that every inch of footage in the gigantic compilation belonged to some agency legally equipped to charge the earth. he further points out that the book contains the text almost exactly as i read it out on screen. but i took care even at the time to write it as if it might have to survive on its own.\\n\\n\n",
      "\n",
      "Becca Hayton\n",
      "this/they/it, --- dean also --- is a fictional character from the channel 4 soap opera hollyoaks, played by ali bastian. she first appeared on-screen on 19 september 2001 and departed on 16 february 2007.\n",
      "\n",
      "Brigitte Bardot\n",
      "this/they/it, --- anne-marie --- listen brizh-eet bar-doh; french: biit bado listen; born 28 september 1934, often referred to by her initials b.b., is a former french actress, singer and model. famous for portraying sexually emancipated characters with hedonistic lifestyles, she was one of the best known sex symbols of the 1950s and 1960s. although she withdrew from the entertainment industry in 1973, she remains a major popular culture icon.born and raised in paris, --- was an aspiring ballerina in her early life. she started her acting career in 1952. she achieved international recognition in 1957 for her role in and god created woman 1956, and also caught the attention of french intellectuals. she was the subject of simone de beauvoirs 1959 essay the lolita syndrome, which described her as a locomotive of womens history and built upon existentialist themes to declare her the first and most liberated woman of post-war france. she won a 1961 david di donatello best foreign actress award for her work in the truth. --- later starred in jean-luc godards film le mpris 1963. for her role in louis malles film viva maria! 1965 she was nominated for the bafta award for best foreign actress.\\nbardot retired from the entertainment industry in 1973. she had acted in 47 films, performed in several musicals, and recorded more than 60 songs. she was awarded the legion of honour in 1985. after retiring, she became an animal rights activist and created the fondation this/they/it. --- is known for her strong personality, outspokenness, and speeches on animal defence; she has been fined twice for public insults. she has also been a controversial political figure, having been fined five times for inciting racial hatred when she criticised immigration and islam in france. she is married to bernard dormale, a former adviser to jean-marie le pen, a french far-right politician. --- is a member of the global 500 roll of honour of the united nations environment programme and has received awards from unesco and peta. los angeles times magazine ranked her second on the 50 most beautiful women in film.\n",
      "\n",
      "error\n",
      "this/they/it\n",
      "\n",
      "Road traffic safety\n",
      "this/they/it, this/they/it refers to the methods and measures used to prevent --- users from being killed or seriously injured. typical --- users include pedestrians, cyclists, motorists, vehicle passengers, horse riders, and passengers of on---- public transport mainly buses and trams.\\nbest practices in modern --- --- strategy: \\n\\nthe basic strategy of a safe system approach is to ensure that in the event of a crash, the impact energies remain below the threshold likely to produce either death or serious injury. this threshold will vary from crash scenario to crash scenario, depending upon the level of protection offered to the --- users involved. for example, the chances of survival for an unprotected pedestrian hit by a vehicle diminish rapidly at speeds greater than 30 km/h, whereas for a properly restrained motor vehicle occupant the critical impact speed is 50 km/h for side impact crashes and 70 km/h for head-on crashes.\\nas sustainable solutions for classes of --- --- have not been identified, particularly low---- rural and remote roads, a hierarchy of control should be applied, similar to classifications used to improve occupational --- and health. at the highest level is sustainable prevention of serious injury and death crashes, with sustainable requiring all key result areas to be considered. at the second level is real-time risk reduction, which involves providing users at severe risk with a specific warning to enable them to take mitigating action. the third level is about reducing the crash risk which involves applying the ----design standards and guidelines such as from aashto, improving driver behavior and enforcement.--- --- has been studied as a science for more than 75 years.\n",
      "\n",
      "The Entente: Battlefields WW1\n",
      "this/they/it, this/they/it russian: , romanized: antanta; also known as world war i: --- great war is a real-time strategy video game developed by lesta studio and published in 2003 by buka entertainment. a western version was released by encore, inc. in 2004. it simulates world war i from --- perspective of --- five main combatants: russia, france, germany, britain and --- austrian-hungarian empire. it is similar in many ways to other real-time strategy games, focusing on economy and military paths to victory.\n",
      "\n",
      "Animal Crackers in My Soup\n",
      "this/they/it, this/they/it is a song introduced by shirley temple in the film curly top 1935. the lyrics were written by irving caesar and ted koehler and the music by ray henderson; the sheet music was published by sam fox publishing company.numerous singles and albums containing the shirley temple version of the song exist, including at least one cd with it as title track. temples version made the hit parade, but did not attain the popularity of her earlier hit on the good ship lollipop, which was no.2 for the year.\\nit was recorded by don bestor and his orchestra brunswick 7495 and mae questel, voice of betty boop and olive oyl, released a recording of the song in the 1930s.two members of the irish rovers, one of whom is dressed up like temple, sing the song in one sketch as part of one of the 1971 episodes of the irish rovers show. the song was performed by elke sommer on the muppet show in 1979. it was also on the anne murray album theres a hippo in --- tub.\\nanother cover version appears on the 2002 album maria muldaur presents - this/they/it: songs of shirley temple. barbra streisand performed the first verse of this song in her color me barbra medley for the television special and album color me barbra.the song was covered by joanie bartels on her 1980 sillytime magic album, releasing it as a single, and was also on the video the rainy day adventure and it also appeared on the compilation album the stars of discovery music. the song is performed by sammee lee jones as a lookalike of temple in the 1971 film whats the matter with helen?.\\nan updated recording of the song was used as theme music for the 1985 australian tv series zoo family.\n",
      "\n"
     ]
    }
   ],
   "source": [
    "# print the first 10 cards in the card_deck\n",
    "for i in range(10):\n",
    "    print(card_deck[i]['title'])\n",
    "    print(card_deck[i]['summary'][1])\n",
    "    print()"
   ]
  }
 ],
 "metadata": {
  "kernelspec": {
   "display_name": "Python 3.9.13 ('base')",
   "language": "python",
   "name": "python3"
  },
  "language_info": {
   "codemirror_mode": {
    "name": "ipython",
    "version": 3
   },
   "file_extension": ".py",
   "mimetype": "text/x-python",
   "name": "python",
   "nbconvert_exporter": "python",
   "pygments_lexer": "ipython3",
   "version": "3.9.13"
  },
  "orig_nbformat": 4,
  "vscode": {
   "interpreter": {
    "hash": "40d3a090f54c6569ab1632332b64b2c03c39dcf918b08424e98f38b5ae0af88f"
   }
  }
 },
 "nbformat": 4,
 "nbformat_minor": 2
}
