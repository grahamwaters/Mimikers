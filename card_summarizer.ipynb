{
 "cells": [
  {
   "cell_type": "code",
   "execution_count": 118,
   "metadata": {},
   "outputs": [
    {
     "name": "stdout",
     "output_type": "stream",
     "text": [
      "Requirement already satisfied: PyDictionary in /opt/anaconda3/lib/python3.9/site-packages (2.0.1)\n",
      "Requirement already satisfied: requests in /opt/anaconda3/lib/python3.9/site-packages (from PyDictionary) (2.20.1)\n",
      "Requirement already satisfied: goslate in /opt/anaconda3/lib/python3.9/site-packages (from PyDictionary) (1.5.4)\n",
      "Requirement already satisfied: bs4 in /opt/anaconda3/lib/python3.9/site-packages (from PyDictionary) (0.0.1)\n",
      "Requirement already satisfied: click in /Users/grahamwaters/.local/lib/python3.9/site-packages (from PyDictionary) (8.1.3)\n",
      "Requirement already satisfied: beautifulsoup4 in /opt/anaconda3/lib/python3.9/site-packages (from bs4->PyDictionary) (4.11.1)\n",
      "Requirement already satisfied: futures in /opt/anaconda3/lib/python3.9/site-packages (from goslate->PyDictionary) (3.0.5)\n",
      "Requirement already satisfied: urllib3<1.25,>=1.21.1 in /opt/anaconda3/lib/python3.9/site-packages (from requests->PyDictionary) (1.24.3)\n",
      "Requirement already satisfied: chardet<3.1.0,>=3.0.2 in /opt/anaconda3/lib/python3.9/site-packages (from requests->PyDictionary) (3.0.4)\n",
      "Requirement already satisfied: certifi>=2017.4.17 in /opt/anaconda3/lib/python3.9/site-packages (from requests->PyDictionary) (2022.12.7)\n",
      "Requirement already satisfied: idna<2.8,>=2.5 in /opt/anaconda3/lib/python3.9/site-packages (from requests->PyDictionary) (2.7)\n",
      "Requirement already satisfied: soupsieve>1.2 in /opt/anaconda3/lib/python3.9/site-packages (from beautifulsoup4->bs4->PyDictionary) (2.3.2.post1)\n"
     ]
    }
   ],
   "source": [
    "!pip install PyDictionary"
   ]
  },
  {
   "cell_type": "code",
   "execution_count": 119,
   "metadata": {},
   "outputs": [],
   "source": [
    "from PyDictionary import PyDictionary\n",
    "import nltk\n",
    "from nltk.corpus import stopwords\n",
    "from nltk.tokenize import word_tokenize\n",
    "# PlaintextParser, and LexRankSummarizer\n",
    "from sumy.parsers.plaintext import PlaintextParser\n",
    "from sumy.nlp.tokenizers import Tokenizer\n",
    "from sumy.summarizers.lsa import LsaSummarizer\n",
    "from sumy.summarizers.lex_rank import LexRankSummarizer\n",
    "\n",
    "# initialize PyDictionary and stopwords list\n",
    "dictionary = PyDictionary()\n",
    "stop_words = set(stopwords.words(\"english\"))\n"
   ]
  },
  {
   "cell_type": "code",
   "execution_count": 120,
   "metadata": {},
   "outputs": [],
   "source": [
    "# function that returns the synonyms of a word\n",
    "# read the jsonl file and convert it to a dictionary for easier access\n",
    "import json\n",
    "from tqdm import tqdm\n",
    "with open('thesaurus.jsonl', 'r') as f:\n",
    "    thesaurus = [json.loads(line) for line in f]\n",
    "\n",
    "def get_synonyms(word):\n",
    "    # iterate through the dictionary\n",
    "    for entry in thesaurus:\n",
    "        #print(entry)\n",
    "        if entry['word'] == word:\n",
    "            return entry['synonyms']\n",
    "    # return None if the word is not in the dictionary\n",
    "    return None"
   ]
  },
  {
   "cell_type": "code",
   "execution_count": 121,
   "metadata": {},
   "outputs": [
    {
     "name": "stdout",
     "output_type": "stream",
     "text": [
      "['international', 'planetary', 'worldwide', 'global', 'world-wide']\n"
     ]
    }
   ],
   "source": [
    "print(get_synonyms('world'))"
   ]
  },
  {
   "cell_type": "code",
   "execution_count": 122,
   "metadata": {},
   "outputs": [],
   "source": [
    "def summarize_text(text, num_sentences):\n",
    "    \"\"\"\n",
    "    Summarize the given text using the LSA or LexRank summarization algorithms and return the summary as a list of sentences\n",
    "    \"\"\"\n",
    "    # create a PlaintextParser object to parse the text\n",
    "    parser = PlaintextParser.from_string(text, Tokenizer(\"english\"))\n",
    "    # choose a summarization algorithm\n",
    "    # algorithm = LsaSummarizer()\n",
    "    algorithm = LexRankSummarizer()\n",
    "\n",
    "    # summarize the text and return the summary as a list of sentences\n",
    "    summary = algorithm(parser.document, num_sentences)\n",
    "\n",
    "    return summary\n"
   ]
  },
  {
   "cell_type": "code",
   "execution_count": 127,
   "metadata": {},
   "outputs": [],
   "source": [
    "from PyDictionary import PyDictionary\n",
    "from nltk.corpus import stopwords\n",
    "from nltk.tokenize import word_tokenize\n",
    "import re\n",
    "from nltk.corpus import wordnet\n",
    "\n",
    "# initialize PyDictionary and stopwords list\n",
    "dictionary = PyDictionary()\n",
    "stop_words = set(stopwords.words(\"english\"))\n",
    "\n",
    "def summarize_and_replace(paragraph, sentence, title):\n",
    "    # summarize the paragraph\n",
    "    place_holder = 'This '\n",
    "    summary = summarize_text(paragraph, num_sentences=3)\n",
    "    # convert the Sentence objects to strings and join them into a single string\n",
    "    summary_text = \" \".join([str(s) for s in summary])\n",
    "    # create a set of the words in the title\n",
    "    title_words = set(word_tokenize(title))\n",
    "    # initialize a list to store the modified words\n",
    "    modified_words = []\n",
    "    # tokenize the summary text\n",
    "    words = word_tokenize(summary_text)\n",
    "    # iterate through the words\n",
    "    for w in words:\n",
    "        # check if the word is in the title\n",
    "        if w in title_words and w not in stop_words:\n",
    "            # find synonyms for the word\n",
    "            #print(f'Debug: {w} needs to be replaced with a synonym')\n",
    "            synonyms = get_synonyms(w.lower())\n",
    "            #print(f'Debug: synonyms: {synonyms}')\n",
    "            modified_word = w #!place_holder\n",
    "        else:\n",
    "            # use the original word if it is not in the title\n",
    "            modified_word = w\n",
    "        # append the modified word to the list of modified words\n",
    "        modified_words.append(modified_word)\n",
    "    # join the modified words into a string\n",
    "    modified_text = \" \".join(modified_words)\n",
    "    # replace the original sentence with the modified text if it contains the placeholder 'This '\n",
    "    modified_sentence = sentence.replace(sentence, modified_text) if place_holder in modified_text else sentence\n",
    "    # find this pattern \"This  , This  \" and replace it with \"This  \"\n",
    "    modified_sentence = re.sub(r'This\\s+,\\s+This', 'This', modified_sentence)\n",
    "    # remove double spaces, double dots, and double commas\n",
    "    modified_sentence = re.sub(r'\\s+', ' ', modified_sentence) # remove double spaces\n",
    "    modified_sentence = re.sub(r'\\.\\s+\\.', '.', modified_sentence) # remove double dots\n",
    "    modified_sentence = re.sub(r',\\s+,', ',', modified_sentence) # remove double commas\n",
    "    # remove any leading or trailing spaces that are followed by punctuation marks\n",
    "    modified_sentence = re.sub(r'\\s+([.,?!])', r'\\1', modified_sentence)\n",
    "    return modified_sentence\n"
   ]
  },
  {
   "cell_type": "code",
   "execution_count": 126,
   "metadata": {},
   "outputs": [
    {
     "name": "stdout",
     "output_type": "stream",
     "text": [
      "Debug: World needs to be replaced with a synonym\n",
      "Debug: synonyms: ['international', 'planetary', 'worldwide', 'global', 'world-wide']\n",
      "Debug: War needs to be replaced with a synonym\n",
      "Debug: synonyms: ['state of war']\n",
      "Debug: II needs to be replaced with a synonym\n",
      "Debug: synonyms: ['cardinal', '2', 'two']\n",
      "Debug: World needs to be replaced with a synonym\n",
      "Debug: synonyms: ['international', 'planetary', 'worldwide', 'global', 'world-wide']\n",
      "Debug: War needs to be replaced with a synonym\n",
      "Debug: synonyms: ['state of war']\n",
      "Debug: II needs to be replaced with a synonym\n",
      "Debug: synonyms: ['cardinal', '2', 'two']\n",
      "Debug: World needs to be replaced with a synonym\n",
      "Debug: synonyms: ['international', 'planetary', 'worldwide', 'global', 'world-wide']\n",
      "Debug: War needs to be replaced with a synonym\n",
      "Debug: synonyms: ['state of war']\n",
      "Summary:\n",
      "World War II\n"
     ]
    }
   ],
   "source": [
    "Example_Sentence = 'World War II'\n",
    "Example_Paragraph = 'World War II, World War II or the Second World War, often abbreviated as WWII or WW2, was a world war that lasted from 1939 to 1945. It involved the vast majority of the worlds countriesincluding all of the great powersforming two opposing military alliances: the Allies and the Axis powers. World War II was a total war that directly involved more than 100 million personnel from more than 30 countries.\\\\nThe major participants in the war threw their entire economic, industrial, and scientific capabilities behind the war effort, blurring the distinction between civilian and military resources. Aircraft played a major role in the conflict, enabling the strategic bombing of population centres and deploying the only two nuclear weapons ever used in war.\\\\nWorld War II was by far the deadliest conflict in human history; it resulted in 70 to 85 million fatalities, mostly among civilians. Tens of millions died due to genocides including the Holocaust, starvation, massacres, and disease. In the wake of the Axis defeat, Germany and Japan were occupied, and war crimes tribunals were conducted against German and Japanese leaders.\\\\nThe causes of World War II are debated, but contributing factors included the Second Italo-Ethiopian War, Spanish Civil War, Second Sino-Japanese War, SovietJapanese border conflicts, rise of fascism in Europe and rising European tensions since World War I. World War II is generally considered to have begun on 1 September 1939, when Nazi Germany, under Adolf Hitler, invaded Poland. The United Kingdom and France subsequently declared war on Germany on 3 September. Under the MolotovRibbentrop Pact of August 1939, Germany and the Soviet Union had partitioned Poland and marked out their spheres of influence across Finland, Estonia, Latvia, Lithuania and Romania. From late 1939 to early 1941, in a series of campaigns and treaties, Germany conquered or controlled much of continental Europe, and formed the Axis alliance with Italy and Japan with other countries later. Following the onset of campaigns in North Africa and East Africa, and the fall of France in mid-1940, the war continued primarily between the European Axis powers and the British Empire, with war in the Balkans, the aerial Battle of Britain, the Blitz of the United Kingdom, and the Battle of the Atlantic. On 22 June 1941, Germany led the European Axis powers in an invasion of the Soviet Union, opening the Eastern Front, the largest land theatre of war in history.\\\\nJapan, which aimed to dominate Asia and the Pacific, was at war with the Republic of China by 1937. In December 1941, Japan attacked American and British territories with near-simultaneous offensives against Southeast Asia and the Central Pacific, including an attack on the US fleet at Pearl Harbor which resulted in the United States declaring war against Japan. The European Axis powers declared war on the United States in solidarity. Japan soon captured much of the western Pacific, but its advances were halted in 1942 after losing the critical Battle of Midway; later, Germany and Italy were defeated in North Africa and at Stalingrad in the Soviet Union. Key setbacks in 1943including a series of German defeats on the Eastern Front, the Allied invasions of Sicily and the Italian mainland, and Allied offensives in the Pacificcost the Axis powers their initiative and forced them into strategic retreat on all fronts. In 1944, the Western Allies invaded German-occupied France, while the Soviet Union regained its territorial losses and turned towards Germany and its allies. During 1944 and 1945, Japan suffered reversals in mainland Asia, while the Allies crippled the Japanese Navy and captured key western Pacific islands.\\\\nThe war in Europe concluded with the liberation of German-occupied territories and the invasion of Germany by the Western Allies and the Soviet Union, culminating in the Fall of Berlin to Soviet troops, Hitlers suicide, and the German unconditional surrender on 8 May 1945. Following the refusal of Japan to surrender on the terms of the Potsdam Declaration issued 26 July 1945, the United States dropped the first atomic bombs on the Japanese cities of Hiroshima on 6 August and Nagasaki on 9 August. Faced with an imminent invasion of the Japanese archipelago, the possibility of additional atomic bombings, and the Soviet Unions declared entry into the war against Japan on the eve of invading Manchuria, Japan announced on 10 August its intention to surrender, signing a surrender document on 2 September 1945.\\\\nWorld War II changed the political alignment and social structure of the globe. The United Nations was established to foster international co-operation and prevent future conflicts, with the victorious great powersChina, France, the Soviet Union, the United Kingdom, and the United Statesbecoming the permanent members of its Security Council. The Soviet Union and the United States emerged as rival superpowers, setting the stage for the nearly half-century-long Cold War. In the wake of European devastation, the influence of its great powers waned, triggering the decolonisation of Africa and Asia. Most countries whose industries had been damaged moved towards economic recovery and expansion. Political and economic integration, especially in Europe, began as an effort to forestall future hostilities, end pre-war enmities and forge a sense of common identity.'\n",
    "\n",
    "# summarize the paragraph\n",
    "summary = summarize_and_replace(Example_Paragraph, Example_Sentence, Example_Sentence)\n",
    "# print the summary\n",
    "print(\"Summary:\")\n",
    "print(summary)\n"
   ]
  },
  {
   "cell_type": "code",
   "execution_count": null,
   "metadata": {},
   "outputs": [],
   "source": []
  }
 ],
 "metadata": {
  "kernelspec": {
   "display_name": "Python 3.9.13 ('base')",
   "language": "python",
   "name": "python3"
  },
  "language_info": {
   "codemirror_mode": {
    "name": "ipython",
    "version": 3
   },
   "file_extension": ".py",
   "mimetype": "text/x-python",
   "name": "python",
   "nbconvert_exporter": "python",
   "pygments_lexer": "ipython3",
   "version": "3.9.13"
  },
  "orig_nbformat": 4,
  "vscode": {
   "interpreter": {
    "hash": "40d3a090f54c6569ab1632332b64b2c03c39dcf918b08424e98f38b5ae0af88f"
   }
  }
 },
 "nbformat": 4,
 "nbformat_minor": 2
}
