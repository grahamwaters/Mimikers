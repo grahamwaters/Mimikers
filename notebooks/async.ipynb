{
 "cells": [
  {
   "cell_type": "code",
   "execution_count": 4,
   "metadata": {},
   "outputs": [
    {
     "name": "stdout",
     "output_type": "stream",
     "text": [
      "\u001b[31mERROR: Could not find a version that satisfies the requirement wikipediaapi (from versions: none)\u001b[0m\u001b[31m\n",
      "\u001b[0m\u001b[31mERROR: No matching distribution found for wikipediaapi\u001b[0m\u001b[31m\n",
      "\u001b[0mRequirement already satisfied: aiohttp in /opt/anaconda3/lib/python3.9/site-packages (3.8.3)\n",
      "Requirement already satisfied: attrs>=17.3.0 in /opt/anaconda3/lib/python3.9/site-packages (from aiohttp) (22.1.0)\n",
      "Requirement already satisfied: aiosignal>=1.1.2 in /opt/anaconda3/lib/python3.9/site-packages (from aiohttp) (1.2.0)\n",
      "Requirement already satisfied: yarl<2.0,>=1.0 in /opt/anaconda3/lib/python3.9/site-packages (from aiohttp) (1.8.1)\n",
      "Requirement already satisfied: charset-normalizer<3.0,>=2.0 in /opt/anaconda3/lib/python3.9/site-packages (from aiohttp) (2.0.4)\n",
      "Requirement already satisfied: frozenlist>=1.1.1 in /opt/anaconda3/lib/python3.9/site-packages (from aiohttp) (1.3.3)\n",
      "Requirement already satisfied: async-timeout<5.0,>=4.0.0a3 in /opt/anaconda3/lib/python3.9/site-packages (from aiohttp) (4.0.2)\n",
      "Requirement already satisfied: multidict<7.0,>=4.5 in /opt/anaconda3/lib/python3.9/site-packages (from aiohttp) (6.0.2)\n",
      "Requirement already satisfied: idna>=2.0 in /opt/anaconda3/lib/python3.9/site-packages (from yarl<2.0,>=1.0->aiohttp) (2.7)\n",
      "Requirement already satisfied: asyncio in /opt/anaconda3/lib/python3.9/site-packages (3.4.3)\n"
     ]
    }
   ],
   "source": [
    "!pip install wikipediaapi\n",
    "!pip install aiohttp\n",
    "!pip install asyncio"
   ]
  },
  {
   "cell_type": "code",
   "execution_count": 7,
   "metadata": {},
   "outputs": [],
   "source": [
    "import wikipedia\n",
    "import re\n",
    "import random\n",
    "import requests\n",
    "import urllib\n",
    "\n",
    "def get_random_page_url(categories, category_sample_size):\n",
    "    base_url = \"https://randomincategory.toolforge.org/Random_page_in_category?\"\n",
    "    for i, cat in enumerate(categories):\n",
    "        base_url += f\"&category{i}={urllib.parse.quote(str(cat).lower())}\"\n",
    "    base_url += \"&server=en.wikipedia.org&cmnamespace=0&cmtype=page&returntype=\"\n",
    "    print(base_url)\n",
    "    return base_url\n",
    "\n",
    "from bs4 import BeautifulSoup\n",
    "\n",
    "def get_page_title_and_summary(html):\n",
    "    soup = BeautifulSoup(html, 'html.parser')\n",
    "    title = soup.title.string.replace(\" - Wikipedia\", \"\").replace(\"Wiki\", \"\")\n",
    "    summary = soup.find('p').text\n",
    "    return title, summary\n",
    "\n",
    "\n",
    "def get_random_wiki_entry_dict(original_categories, category_sample_size):\n",
    "    while True:\n",
    "        categories = random.sample(original_categories, category_sample_size)\n",
    "        random_page_url = get_random_page_url(categories, category_sample_size)\n",
    "        response = requests.get(random_page_url)\n",
    "        redirected_url = response.url\n",
    "        html = response.text\n",
    "        title, summary = get_page_title_and_summary(html)\n",
    "        if redirected_url == \"https://randomincategory.toolforge.org/\":\n",
    "            continue\n",
    "        else:\n",
    "            break\n",
    "    return {\"title\": title, \"summary\": summary}\n",
    "def get_random_wiki_entries_dict(original_categories, category_sample_size, num_entries):\n",
    "    entries = []\n",
    "    for _ in range(num_entries):\n",
    "        entry = get_random_wiki_entry_dict(original_categories, category_sample_size)\n",
    "        entries.append(entry)\n",
    "\n",
    "def main():\n",
    "    original_categories = [\"Technology\", \"Arts\", \"Geography\"]\n",
    "    category_sample_size = 2\n",
    "    num_entries = 5\n",
    "    entries = get_random_wiki_entries_dict(original_categories, category_sample_size, num_entries)\n",
    "    print(entries)\n",
    "\n",
    "\n"
   ]
  },
  {
   "cell_type": "code",
   "execution_count": 8,
   "metadata": {},
   "outputs": [
    {
     "name": "stdout",
     "output_type": "stream",
     "text": [
      "https://randomincategory.toolforge.org/Random_page_in_category?&category0=arts&category1=geography&server=en.wikipedia.org&cmnamespace=0&cmtype=page&returntype=\n",
      "https://randomincategory.toolforge.org/Random_page_in_category?&category0=technology&category1=arts&server=en.wikipedia.org&cmnamespace=0&cmtype=page&returntype=\n",
      "https://randomincategory.toolforge.org/Random_page_in_category?&category0=arts&category1=technology&server=en.wikipedia.org&cmnamespace=0&cmtype=page&returntype=\n",
      "https://randomincategory.toolforge.org/Random_page_in_category?&category0=arts&category1=technology&server=en.wikipedia.org&cmnamespace=0&cmtype=page&returntype=\n",
      "https://randomincategory.toolforge.org/Random_page_in_category?&category0=arts&category1=geography&server=en.wikipedia.org&cmnamespace=0&cmtype=page&returntype=\n",
      "None\n"
     ]
    }
   ],
   "source": [
    "main()\n"
   ]
  }
 ],
 "metadata": {
  "kernelspec": {
   "display_name": "Python 3.9.13 ('base')",
   "language": "python",
   "name": "python3"
  },
  "language_info": {
   "codemirror_mode": {
    "name": "ipython",
    "version": 3
   },
   "file_extension": ".py",
   "mimetype": "text/x-python",
   "name": "python",
   "nbconvert_exporter": "python",
   "pygments_lexer": "ipython3",
   "version": "3.9.13"
  },
  "orig_nbformat": 4,
  "vscode": {
   "interpreter": {
    "hash": "40d3a090f54c6569ab1632332b64b2c03c39dcf918b08424e98f38b5ae0af88f"
   }
  }
 },
 "nbformat": 4,
 "nbformat_minor": 2
}
