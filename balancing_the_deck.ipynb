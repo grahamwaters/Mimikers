{
 "cells": [
  {
   "cell_type": "markdown",
   "metadata": {},
   "source": [
    "I want to design a function now that can evenly distribute the cards into the deck so there is a diverse array of subject material. I don't have categories for most of the cards. Can I use text clustering to determine the categories and then use those clusters to make a balanced deck?"
   ]
  },
  {
   "cell_type": "markdown",
   "metadata": {},
   "source": [
    "Yes, you can use text clustering to determine categories for your cards, and then use those clusters to create a balanced deck.\n",
    "\n",
    "Text clustering involves grouping similar documents together based on their content. There are various algorithms that you can use for text clustering, such as K-Means, Agglomerative Hierarchical Clustering, and DBSCAN.\n",
    "\n",
    "Once you have grouped your cards into clusters, you can use the number of cards in each cluster to determine the proportion of each cluster that should be included in the deck. For example, if you have 100 cards in total and 20 of them are in cluster A, 40 of them are in cluster B, and the remaining 40 are in cluster C, you might decide to include 20 cards from cluster A, 20 from cluster B, and 10 from cluster C in your deck to achieve a balanced distribution of subject material.\n",
    "\n",
    "Keep in mind that text clustering can be a complex and time-consuming task, and the quality of the results will depend on the quality of your data and the parameters you choose for the clustering algorithm. You may need to experiment with different approaches and fine-tune your parameters to achieve the best results."
   ]
  },
  {
   "cell_type": "code",
   "execution_count": 10,
   "metadata": {},
   "outputs": [],
   "source": [
    "lemmatizing = False\n",
    "stemming = True\n",
    "minimum_word_length = 4"
   ]
  },
  {
   "cell_type": "code",
   "execution_count": 11,
   "metadata": {},
   "outputs": [],
   "source": [
    "import pandas as pd\n",
    "import json\n",
    "\n",
    "with open('ppn_deck.json') as f:\n",
    "    cards = json.load(f)\n",
    "df = pd.DataFrame(cards)\n",
    "# drop any rows where the title or summary is null or 'error' and where the text does not contain 'error'\n",
    "df = df.dropna(subset=['title', 'summary'])\n",
    "df = df[df['summary'] != 'error']\n",
    "df = df[df['summary'].str.contains('error') == False]\n",
    "df = df[df['title'].str.contains('error') == False]\n",
    "\n",
    "# save the dataframe to the json file\n",
    "df.to_json('ppn_deck.json', orient='records')\n"
   ]
  },
  {
   "cell_type": "code",
   "execution_count": 12,
   "metadata": {},
   "outputs": [
    {
     "name": "stderr",
     "output_type": "stream",
     "text": [
      "100%|██████████| 3723/3723 [00:11<00:00, 331.94it/s]"
     ]
    },
    {
     "name": "stdout",
     "output_type": "stream",
     "text": [
      "{'title': 'Michael Buffer', 'summary': ['[', \"'michael\", 'buffer', \"'\", ',', \"'michael\", 'buffer', 'born', 'novemb', '2', ',', '1944', 'american', 'ring', 'announc', 'mc', 'box', ',', 'profession', 'wrestl', ',', 'nation', 'footbal', 'leagu', 'match', '.', 'he', 'known', 'trademark', 'catchphras', ':', 'let', 'get', 'readi', 'rumbl', '!', \"'\", ']']}\n"
     ]
    },
    {
     "name": "stderr",
     "output_type": "stream",
     "text": [
      "\n"
     ]
    }
   ],
   "source": [
    "# collect cards and store in a list\n",
    "import re\n",
    "import nltk\n",
    "from nltk.corpus import stopwords\n",
    "from nltk.stem import PorterStemmer\n",
    "from nltk.stem import WordNetLemmatizer\n",
    "from tqdm import tqdm\n",
    "# Gather all the cards that you want to include in the deck\n",
    "# read in the ppn_deck.json file\n",
    "# read in the ppn_deck.json file\n",
    "import json\n",
    "with open('ppn_deck.json') as f:\n",
    "    cards = json.load(f)\n",
    "\n",
    "# cards = [\n",
    "#     {\"title\": \"Card 1\", \"text\": \"This is the text for card 1\"},\n",
    "#     {\"title\": \"Card 2\", \"text\": \"This is the text for card 2\"},\n",
    "#     {\"title\": \"Card 3\", \"text\": \"This is the text for card 3\"},\n",
    "# ]\n",
    "\n",
    "# Preprocess the data by removing irrelevant information\n",
    "processed_cards = []\n",
    "\n",
    "# Initialize the stemmer and stopwords\n",
    "stemmer = PorterStemmer()\n",
    "stopwords = set(stopwords.words('english'))\n",
    "lemmatizer = WordNetLemmatizer()\n",
    "\n",
    "for card in tqdm(cards):\n",
    "    # Tokenize the text\n",
    "    tokens = nltk.word_tokenize(str(card[\"summary\"]))\n",
    "    # lemmatize the tokens\n",
    "    if lemmatizing:\n",
    "        filtered_tokens = [lemmatizer.lemmatize(t) for t in tokens]\n",
    "    else:\n",
    "        filtered_tokens = tokens\n",
    "    # Remove any non-alphabetic characters\n",
    "    filtered_tokens = [re.sub(r'[^a-zA-Z]', '', t) for t in filtered_tokens]\n",
    "    # Remove words less than 4 characters long\n",
    "    filtered_tokens = [t for t in filtered_tokens if len(t) > minimum_word_length]\n",
    "    # Remove stopwords and stem the remaining words\n",
    "    if stemming:\n",
    "        filtered_tokens = [stemmer.stem(t) for t in tokens if t not in stopwords]\n",
    "\n",
    "    # Store the preprocessed data in a new list\n",
    "    processed_cards.append({\"title\": str(card[\"title\"]), \"summary\": filtered_tokens})\n",
    "\n",
    "# The processed_cards list now contains the preprocessed data\n",
    "print(processed_cards[0])\n"
   ]
  },
  {
   "cell_type": "markdown",
   "metadata": {},
   "source": [
    "# TFIDF Vectorizer"
   ]
  },
  {
   "cell_type": "code",
   "execution_count": 13,
   "metadata": {},
   "outputs": [
    {
     "name": "stdout",
     "output_type": "stream",
     "text": [
      "[ 'michael buffer ' , 'michael buffer born novemb 2 , 1944 american ring announc mc box , profession wrestl , nation footbal leagu match . he known trademark catchphras : let get readi rumbl ! ' ]\n"
     ]
    }
   ],
   "source": [
    "# using the tfidf vectorizer to create a vector for each card from sklearn\n",
    "from sklearn.feature_extraction.text import TfidfVectorizer\n",
    "# Create a list of documents\n",
    "documents = []\n",
    "for card in processed_cards:\n",
    "    documents.append(\" \".join(card[\"summary\"]))\n",
    "\n",
    "# print the documents list\n",
    "print(documents[0])"
   ]
  },
  {
   "cell_type": "code",
   "execution_count": 14,
   "metadata": {},
   "outputs": [],
   "source": [
    "\n",
    "# Initialize the TfidfVectorizer\n",
    "vectorizer = TfidfVectorizer()\n",
    "\n",
    "# Use the fit_transform method to calculate the TF-IDF values for each word\n",
    "try:\n",
    "    X = vectorizer.fit_transform(documents)\n",
    "except ValueError as e:\n",
    "    print(\"Error! The vectorizer was unable to process the data\")\n",
    "    print(e)"
   ]
  },
  {
   "cell_type": "markdown",
   "metadata": {},
   "source": [
    "This will create a sparse matrix X that contains the TF-IDF values for each word in each document. The rows represent the documents and the columns represent the words.\n",
    "\n",
    "You can then use this matrix as input to a machine learning algorithm to perform text clustering."
   ]
  },
  {
   "cell_type": "markdown",
   "metadata": {},
   "source": [
    "Once you have collected and preprocessed the data, the next step would be to create a document-term matrix (DTM) from the preprocessed data. A document-term matrix is a matrix where each row represents a document (in this case, a card), and each column represents a term (a word or phrase) in the vocabulary. The entries in the matrix indicate the frequency with which each term appears in each document.\n",
    "\n",
    "To create a document-term matrix, you can use a tool such as the TfidfVectorizer from the sklearn library. This tool allows you to specify the minimum and maximum number of times a term must appear in the documents to be included in the vocabulary, as well as the maximum number of terms to include in the vocabulary.\n",
    "\n",
    "Once you have created the document-term matrix, you can then use it as input to a clustering algorithm, such as K-Means, to identify clusters of similar documents. You can then use these clusters to evenly distribute the cards into the deck.\n",
    "\n",
    "Here is an example of how you might create a document-term matrix using the TfidfVectorizer and cluster the documents using K-Means:"
   ]
  },
  {
   "cell_type": "code",
   "execution_count": 15,
   "metadata": {},
   "outputs": [
    {
     "name": "stdout",
     "output_type": "stream",
     "text": [
      "{'title': 'Michael Buffer', 'summary': \"['Michael Buffer', 'Michael Buffer born November 2, 1944 is an American ring announcer or MC for boxing, professional wrestling, and National Football League matches. He is known for his trademarked catchphrase: Lets get ready to rumble!']\", 'related': 174, 'point_value': 174, 'grade_level': 9.1, 'summary_length': 239, 'points_for_card': 1.0, 'acronym': False, 'years_in_summary': 1, 'years_in_title': 0, 'points_by_year_mentioned': 1, 'summary_short': \"['Michael Buffer', 'Michael Buffer born November 2, 1944 is an American ring announcer or MC for boxing, professional wrestling, and National Football League matches.He is known for his trademarked catchphrase: Lets get ready to rumble!']\", 'cluster': 6}\n"
     ]
    }
   ],
   "source": [
    "from sklearn.feature_extraction.text import TfidfVectorizer\n",
    "from sklearn.cluster import KMeans\n",
    "\n",
    "# Cluster the documents using K-Means\n",
    "km = KMeans(n_clusters=10, random_state=0)\n",
    "km.fit(X)\n",
    "\n",
    "# Assign each card to a cluster\n",
    "clusters = km.labels_.tolist()\n",
    "for i, cluster in enumerate(clusters):\n",
    "    cards[i][\"cluster\"] = cluster\n",
    "\n",
    "# The cards list now contains the cluster assignment for each card\n",
    "print(cards[0]) # Print the first 10 cards\n"
   ]
  },
  {
   "cell_type": "code",
   "execution_count": 16,
   "metadata": {},
   "outputs": [
    {
     "data": {
      "text/html": [
       "<div>\n",
       "<style scoped>\n",
       "    .dataframe tbody tr th:only-of-type {\n",
       "        vertical-align: middle;\n",
       "    }\n",
       "\n",
       "    .dataframe tbody tr th {\n",
       "        vertical-align: top;\n",
       "    }\n",
       "\n",
       "    .dataframe thead th {\n",
       "        text-align: right;\n",
       "    }\n",
       "</style>\n",
       "<table border=\"1\" class=\"dataframe\">\n",
       "  <thead>\n",
       "    <tr style=\"text-align: right;\">\n",
       "      <th></th>\n",
       "      <th>title</th>\n",
       "      <th>summary</th>\n",
       "      <th>related</th>\n",
       "      <th>point_value</th>\n",
       "      <th>grade_level</th>\n",
       "      <th>summary_length</th>\n",
       "      <th>points_for_card</th>\n",
       "      <th>acronym</th>\n",
       "      <th>years_in_summary</th>\n",
       "      <th>years_in_title</th>\n",
       "      <th>points_by_year_mentioned</th>\n",
       "      <th>summary_short</th>\n",
       "      <th>cluster</th>\n",
       "    </tr>\n",
       "  </thead>\n",
       "  <tbody>\n",
       "    <tr>\n",
       "      <th>0</th>\n",
       "      <td>Michael Buffer</td>\n",
       "      <td>['Michael Buffer', 'Michael Buffer born Novemb...</td>\n",
       "      <td>174</td>\n",
       "      <td>174</td>\n",
       "      <td>9.1</td>\n",
       "      <td>239</td>\n",
       "      <td>1.0</td>\n",
       "      <td>False</td>\n",
       "      <td>1</td>\n",
       "      <td>0</td>\n",
       "      <td>1</td>\n",
       "      <td>['Michael Buffer', 'Michael Buffer born Novemb...</td>\n",
       "      <td>6</td>\n",
       "    </tr>\n",
       "    <tr>\n",
       "      <th>1</th>\n",
       "      <td>Kwang Soo Kim</td>\n",
       "      <td>['Kwang Soo Kim', 'Kwang Soo Kim, Kwang Soo Ki...</td>\n",
       "      <td>53</td>\n",
       "      <td>53</td>\n",
       "      <td>11.1</td>\n",
       "      <td>758</td>\n",
       "      <td>6.0</td>\n",
       "      <td>False</td>\n",
       "      <td>5</td>\n",
       "      <td>0</td>\n",
       "      <td>2</td>\n",
       "      <td>('Kwang Soo Kim', 'Kwang Soo Kim, Kwang Soo Ki...</td>\n",
       "      <td>6</td>\n",
       "    </tr>\n",
       "    <tr>\n",
       "      <th>2</th>\n",
       "      <td>Fame in the 20th Century</td>\n",
       "      <td>['Fame in the 20th Century', 'Fame in the 20th...</td>\n",
       "      <td>591</td>\n",
       "      <td>591</td>\n",
       "      <td>10.8</td>\n",
       "      <td>1178</td>\n",
       "      <td>6.0</td>\n",
       "      <td>False</td>\n",
       "      <td>4</td>\n",
       "      <td>0</td>\n",
       "      <td>2</td>\n",
       "      <td>('Fame in the 20th Century', 'Fame in the 20th...</td>\n",
       "      <td>8</td>\n",
       "    </tr>\n",
       "    <tr>\n",
       "      <th>3</th>\n",
       "      <td>Lock of hair</td>\n",
       "      <td>['Lock of hair', 'Lock of hair, A lock of hair...</td>\n",
       "      <td>247</td>\n",
       "      <td>247</td>\n",
       "      <td>8.9</td>\n",
       "      <td>275</td>\n",
       "      <td>1.0</td>\n",
       "      <td>False</td>\n",
       "      <td>0</td>\n",
       "      <td>0</td>\n",
       "      <td>1</td>\n",
       "      <td>('Lock of hair', 'Lock of hair, A lock of hair...</td>\n",
       "      <td>6</td>\n",
       "    </tr>\n",
       "    <tr>\n",
       "      <th>4</th>\n",
       "      <td>Johnny Depp</td>\n",
       "      <td>['Johnny Depp', 'Johnny Depp, John Christopher...</td>\n",
       "      <td>875</td>\n",
       "      <td>875</td>\n",
       "      <td>12.8</td>\n",
       "      <td>2752</td>\n",
       "      <td>6.0</td>\n",
       "      <td>False</td>\n",
       "      <td>36</td>\n",
       "      <td>0</td>\n",
       "      <td>2</td>\n",
       "      <td>('Johnny Depp', 'Johnny Depp, John Christopher...</td>\n",
       "      <td>3</td>\n",
       "    </tr>\n",
       "    <tr>\n",
       "      <th>5</th>\n",
       "      <td>Normative social influence</td>\n",
       "      <td>['Normative social influence', 'Normative soci...</td>\n",
       "      <td>119</td>\n",
       "      <td>119</td>\n",
       "      <td>12.4</td>\n",
       "      <td>1340</td>\n",
       "      <td>5.0</td>\n",
       "      <td>False</td>\n",
       "      <td>0</td>\n",
       "      <td>0</td>\n",
       "      <td>1</td>\n",
       "      <td>('Normative social influence', 'Normative soci...</td>\n",
       "      <td>2</td>\n",
       "    </tr>\n",
       "    <tr>\n",
       "      <th>6</th>\n",
       "      <td>Simone de Beauvoir</td>\n",
       "      <td>['Simone de Beauvoir', 'Simone de Beauvoir, Si...</td>\n",
       "      <td>980</td>\n",
       "      <td>980</td>\n",
       "      <td>13.3</td>\n",
       "      <td>1178</td>\n",
       "      <td>6.0</td>\n",
       "      <td>False</td>\n",
       "      <td>9</td>\n",
       "      <td>0</td>\n",
       "      <td>2</td>\n",
       "      <td>('Simone de Beauvoir', 'Simone de Beauvoir, Si...</td>\n",
       "      <td>5</td>\n",
       "    </tr>\n",
       "    <tr>\n",
       "      <th>7</th>\n",
       "      <td>William J. Dominik</td>\n",
       "      <td>['William J. Dominik', 'William J. Dominik, Wi...</td>\n",
       "      <td>43</td>\n",
       "      <td>43</td>\n",
       "      <td>10.1</td>\n",
       "      <td>325</td>\n",
       "      <td>6.0</td>\n",
       "      <td>False</td>\n",
       "      <td>3</td>\n",
       "      <td>0</td>\n",
       "      <td>2</td>\n",
       "      <td>('William J. Dominik', 'William J. Dominik, Wi...</td>\n",
       "      <td>6</td>\n",
       "    </tr>\n",
       "    <tr>\n",
       "      <th>8</th>\n",
       "      <td>Lofi hip hop</td>\n",
       "      <td>['Lofi hip hop', 'Lofi hip hop, Lofi hip hop a...</td>\n",
       "      <td>595</td>\n",
       "      <td>595</td>\n",
       "      <td>9.7</td>\n",
       "      <td>269</td>\n",
       "      <td>3.0</td>\n",
       "      <td>False</td>\n",
       "      <td>1</td>\n",
       "      <td>0</td>\n",
       "      <td>2</td>\n",
       "      <td>('Lofi hip hop', 'Lofi hip hop, Lofi hip hop a...</td>\n",
       "      <td>2</td>\n",
       "    </tr>\n",
       "    <tr>\n",
       "      <th>9</th>\n",
       "      <td>Candle Cove</td>\n",
       "      <td>['Candle Cove', 'Candle Cove, Candle Cove is a...</td>\n",
       "      <td>14</td>\n",
       "      <td>14</td>\n",
       "      <td>13.6</td>\n",
       "      <td>1229</td>\n",
       "      <td>6.0</td>\n",
       "      <td>False</td>\n",
       "      <td>3</td>\n",
       "      <td>0</td>\n",
       "      <td>2</td>\n",
       "      <td>('Candle Cove', 'Candle Cove, Candle Cove is a...</td>\n",
       "      <td>8</td>\n",
       "    </tr>\n",
       "  </tbody>\n",
       "</table>\n",
       "</div>"
      ],
      "text/plain": [
       "                        title  \\\n",
       "0              Michael Buffer   \n",
       "1               Kwang Soo Kim   \n",
       "2    Fame in the 20th Century   \n",
       "3                Lock of hair   \n",
       "4                 Johnny Depp   \n",
       "5  Normative social influence   \n",
       "6          Simone de Beauvoir   \n",
       "7          William J. Dominik   \n",
       "8                Lofi hip hop   \n",
       "9                 Candle Cove   \n",
       "\n",
       "                                             summary  related  point_value  \\\n",
       "0  ['Michael Buffer', 'Michael Buffer born Novemb...      174          174   \n",
       "1  ['Kwang Soo Kim', 'Kwang Soo Kim, Kwang Soo Ki...       53           53   \n",
       "2  ['Fame in the 20th Century', 'Fame in the 20th...      591          591   \n",
       "3  ['Lock of hair', 'Lock of hair, A lock of hair...      247          247   \n",
       "4  ['Johnny Depp', 'Johnny Depp, John Christopher...      875          875   \n",
       "5  ['Normative social influence', 'Normative soci...      119          119   \n",
       "6  ['Simone de Beauvoir', 'Simone de Beauvoir, Si...      980          980   \n",
       "7  ['William J. Dominik', 'William J. Dominik, Wi...       43           43   \n",
       "8  ['Lofi hip hop', 'Lofi hip hop, Lofi hip hop a...      595          595   \n",
       "9  ['Candle Cove', 'Candle Cove, Candle Cove is a...       14           14   \n",
       "\n",
       "   grade_level  summary_length  points_for_card  acronym  years_in_summary  \\\n",
       "0          9.1             239              1.0    False                 1   \n",
       "1         11.1             758              6.0    False                 5   \n",
       "2         10.8            1178              6.0    False                 4   \n",
       "3          8.9             275              1.0    False                 0   \n",
       "4         12.8            2752              6.0    False                36   \n",
       "5         12.4            1340              5.0    False                 0   \n",
       "6         13.3            1178              6.0    False                 9   \n",
       "7         10.1             325              6.0    False                 3   \n",
       "8          9.7             269              3.0    False                 1   \n",
       "9         13.6            1229              6.0    False                 3   \n",
       "\n",
       "   years_in_title  points_by_year_mentioned  \\\n",
       "0               0                         1   \n",
       "1               0                         2   \n",
       "2               0                         2   \n",
       "3               0                         1   \n",
       "4               0                         2   \n",
       "5               0                         1   \n",
       "6               0                         2   \n",
       "7               0                         2   \n",
       "8               0                         2   \n",
       "9               0                         2   \n",
       "\n",
       "                                       summary_short  cluster  \n",
       "0  ['Michael Buffer', 'Michael Buffer born Novemb...        6  \n",
       "1  ('Kwang Soo Kim', 'Kwang Soo Kim, Kwang Soo Ki...        6  \n",
       "2  ('Fame in the 20th Century', 'Fame in the 20th...        8  \n",
       "3  ('Lock of hair', 'Lock of hair, A lock of hair...        6  \n",
       "4  ('Johnny Depp', 'Johnny Depp, John Christopher...        3  \n",
       "5  ('Normative social influence', 'Normative soci...        2  \n",
       "6  ('Simone de Beauvoir', 'Simone de Beauvoir, Si...        5  \n",
       "7  ('William J. Dominik', 'William J. Dominik, Wi...        6  \n",
       "8  ('Lofi hip hop', 'Lofi hip hop, Lofi hip hop a...        2  \n",
       "9  ('Candle Cove', 'Candle Cove, Candle Cove is a...        8  "
      ]
     },
     "execution_count": 16,
     "metadata": {},
     "output_type": "execute_result"
    }
   ],
   "source": [
    "# print the clusters and their value_counts in the df\n",
    "\n",
    "import pandas as pd\n",
    "df = pd.DataFrame(cards)\n",
    "df.head(10)"
   ]
  },
  {
   "cell_type": "code",
   "execution_count": 17,
   "metadata": {},
   "outputs": [],
   "source": [
    "# !pip install seaborn"
   ]
  },
  {
   "cell_type": "code",
   "execution_count": 18,
   "metadata": {},
   "outputs": [
    {
     "data": {
      "image/png": "[encoded data removed]",
      "text/plain": [
       "<Figure size 1000x500 with 1 Axes>"
      ]
     },
     "metadata": {},
     "output_type": "display_data"
    }
   ],
   "source": [
    "# visualize the clusters\n",
    "import matplotlib.pyplot as plt\n",
    "import seaborn as sns\n",
    "df = pd.DataFrame(cards)\n",
    "%matplotlib inline\n",
    "plt.figure(figsize=(10, 5))\n",
    "sns.countplot(x=\"cluster\", data=df)\n",
    "plt.title(\"Number of cards in each cluster\")\n",
    "plt.show()\n"
   ]
  },
  {
   "cell_type": "markdown",
   "metadata": {},
   "source": [
    "# ---"
   ]
  },
  {
   "cell_type": "code",
   "execution_count": 19,
   "metadata": {},
   "outputs": [],
   "source": [
    "max_clusters = 15 # The maximum number of clusters to try (categories)"
   ]
  },
  {
   "cell_type": "code",
   "execution_count": 21,
   "metadata": {},
   "outputs": [
    {
     "name": "stderr",
     "output_type": "stream",
     "text": [
      "100%|██████████| 14/14 [00:32<00:00,  2.29s/it]\n"
     ]
    }
   ],
   "source": [
    "from sklearn.metrics import silhouette_score\n",
    "import numpy as np\n",
    "# Initialize an empty list to store the silhouette scores\n",
    "scores = []\n",
    "\n",
    "# Iterate over a range of possible number of clusters\n",
    "for n_clusters in tqdm(range(2, max_clusters+1)):\n",
    "    # Run the k-means clustering algorithm with the current number of clusters\n",
    "    kmeans = KMeans(n_clusters=n_clusters)\n",
    "    cluster_labels = kmeans.fit_predict(X)\n",
    "    # Calculate the silhouette score for the current clusters\n",
    "    score = silhouette_score(X, cluster_labels)\n",
    "    # Add the score to the list of scores\n",
    "    scores.append(score)\n",
    "\n",
    "# Find the number of clusters that resulted in the highest silhouette score\n",
    "best_n_clusters = np.argmax(scores) + 2\n",
    "\n",
    "# Re-run the k-means clustering algorithm with the best number of clusters\n",
    "kmeans = KMeans(n_clusters=best_n_clusters)\n",
    "cluster_labels = kmeans.fit_predict(X)\n"
   ]
  },
  {
   "cell_type": "markdown",
   "metadata": {},
   "source": [
    "# Perform k-means clustering with the best number of clusters\n",
    "km = KMeans(n_clusters=best_n_clusters)\n",
    "cluster_labels = km.fit_predict(tfidf_matrix)\n"
   ]
  },
  {
   "cell_type": "code",
   "execution_count": 22,
   "metadata": {},
   "outputs": [
    {
     "name": "stdout",
     "output_type": "stream",
     "text": [
      "Number of clusters: 14\n",
      "cluster labels [2 2 4 ... 5 9 3]\n"
     ]
    }
   ],
   "source": [
    "# Perform k-means clustering with the best number of clusters\n",
    "km = KMeans(n_clusters=best_n_clusters)\n",
    "tfidf_matrix = vectorizer.fit_transform(documents)\n",
    "cluster_labels = km.fit_predict(tfidf_matrix)\n",
    "print(\"Number of clusters:\", best_n_clusters)\n",
    "print(f'cluster labels {cluster_labels}')\n",
    "# Assign each card to a cluster\n",
    "clusters = km.labels_.tolist()\n",
    "for i, cluster in enumerate(clusters):\n",
    "    cards[i][\"cluster\"] = cluster # The cards list now contains the cluster assignment for each card"
   ]
  },
  {
   "cell_type": "code",
   "execution_count": 23,
   "metadata": {},
   "outputs": [
    {
     "data": {
      "image/png": "[encoded data removed]",
      "text/plain": [
       "<Figure size 1000x500 with 1 Axes>"
      ]
     },
     "metadata": {},
     "output_type": "display_data"
    }
   ],
   "source": [
    "# visualize the clusters\n",
    "import matplotlib.pyplot as plt\n",
    "import seaborn as sns\n",
    "df = pd.DataFrame(cards)\n",
    "%matplotlib inline\n",
    "plt.figure(figsize=(10, 5))\n",
    "sns.countplot(x=\"cluster\", data=df)\n",
    "plt.title(\"Number of cards in each cluster\")\n",
    "plt.show()\n",
    "\n",
    "number_of_cluster = len\n"
   ]
  },
  {
   "cell_type": "code",
   "execution_count": 24,
   "metadata": {},
   "outputs": [
    {
     "data": {
      "text/html": [
       "<div>\n",
       "<style scoped>\n",
       "    .dataframe tbody tr th:only-of-type {\n",
       "        vertical-align: middle;\n",
       "    }\n",
       "\n",
       "    .dataframe tbody tr th {\n",
       "        vertical-align: top;\n",
       "    }\n",
       "\n",
       "    .dataframe thead th {\n",
       "        text-align: right;\n",
       "    }\n",
       "</style>\n",
       "<table border=\"1\" class=\"dataframe\">\n",
       "  <thead>\n",
       "    <tr style=\"text-align: right;\">\n",
       "      <th></th>\n",
       "      <th>title</th>\n",
       "      <th>summary</th>\n",
       "      <th>related</th>\n",
       "      <th>point_value</th>\n",
       "      <th>grade_level</th>\n",
       "      <th>summary_length</th>\n",
       "      <th>points_for_card</th>\n",
       "      <th>acronym</th>\n",
       "      <th>years_in_summary</th>\n",
       "      <th>years_in_title</th>\n",
       "      <th>points_by_year_mentioned</th>\n",
       "      <th>summary_short</th>\n",
       "      <th>cluster</th>\n",
       "    </tr>\n",
       "  </thead>\n",
       "  <tbody>\n",
       "    <tr>\n",
       "      <th>8</th>\n",
       "      <td>Lofi hip hop</td>\n",
       "      <td>['Lofi hip hop', 'Lofi hip hop, Lofi hip hop a...</td>\n",
       "      <td>595</td>\n",
       "      <td>595</td>\n",
       "      <td>9.7</td>\n",
       "      <td>269</td>\n",
       "      <td>3.0</td>\n",
       "      <td>False</td>\n",
       "      <td>1</td>\n",
       "      <td>0</td>\n",
       "      <td>2</td>\n",
       "      <td>('Lofi hip hop', 'Lofi hip hop, Lofi hip hop a...</td>\n",
       "      <td>3</td>\n",
       "    </tr>\n",
       "    <tr>\n",
       "      <th>9</th>\n",
       "      <td>Candle Cove</td>\n",
       "      <td>['Candle Cove', 'Candle Cove, Candle Cove is a...</td>\n",
       "      <td>14</td>\n",
       "      <td>14</td>\n",
       "      <td>13.6</td>\n",
       "      <td>1229</td>\n",
       "      <td>6.0</td>\n",
       "      <td>False</td>\n",
       "      <td>3</td>\n",
       "      <td>0</td>\n",
       "      <td>2</td>\n",
       "      <td>('Candle Cove', 'Candle Cove, Candle Cove is a...</td>\n",
       "      <td>3</td>\n",
       "    </tr>\n",
       "    <tr>\n",
       "      <th>11</th>\n",
       "      <td>'O sole mio</td>\n",
       "      <td>[\"'O sole mio\", 'O sole mio, O sole mio Neapol...</td>\n",
       "      <td>60</td>\n",
       "      <td>60</td>\n",
       "      <td>8.3</td>\n",
       "      <td>386</td>\n",
       "      <td>1.0</td>\n",
       "      <td>False</td>\n",
       "      <td>5</td>\n",
       "      <td>0</td>\n",
       "      <td>1</td>\n",
       "      <td>(\"'O sole mio\", 'O sole mio, O sole mio Neapol...</td>\n",
       "      <td>3</td>\n",
       "    </tr>\n",
       "    <tr>\n",
       "      <th>17</th>\n",
       "      <td>Hatsune Miku</td>\n",
       "      <td>['Hatsune Miku', 'Hatsune Miku, Hatsune Miku J...</td>\n",
       "      <td>349</td>\n",
       "      <td>349</td>\n",
       "      <td>13.0</td>\n",
       "      <td>1312</td>\n",
       "      <td>5.0</td>\n",
       "      <td>False</td>\n",
       "      <td>0</td>\n",
       "      <td>0</td>\n",
       "      <td>1</td>\n",
       "      <td>Mikus personification has been marketed as a v...</td>\n",
       "      <td>3</td>\n",
       "    </tr>\n",
       "    <tr>\n",
       "      <th>21</th>\n",
       "      <td>Johnny Kaw</td>\n",
       "      <td>['Johnny Kaw', 'Johnny Kaw, Johnny Kaw is a fi...</td>\n",
       "      <td>107</td>\n",
       "      <td>107</td>\n",
       "      <td>11.4</td>\n",
       "      <td>1553</td>\n",
       "      <td>6.0</td>\n",
       "      <td>False</td>\n",
       "      <td>5</td>\n",
       "      <td>0</td>\n",
       "      <td>2</td>\n",
       "      <td>('Johnny Kaw', 'Johnny Kaw, Johnny Kaw is a fi...</td>\n",
       "      <td>3</td>\n",
       "    </tr>\n",
       "  </tbody>\n",
       "</table>\n",
       "</div>"
      ],
      "text/plain": [
       "           title                                            summary  related  \\\n",
       "8   Lofi hip hop  ['Lofi hip hop', 'Lofi hip hop, Lofi hip hop a...      595   \n",
       "9    Candle Cove  ['Candle Cove', 'Candle Cove, Candle Cove is a...       14   \n",
       "11   'O sole mio  [\"'O sole mio\", 'O sole mio, O sole mio Neapol...       60   \n",
       "17  Hatsune Miku  ['Hatsune Miku', 'Hatsune Miku, Hatsune Miku J...      349   \n",
       "21    Johnny Kaw  ['Johnny Kaw', 'Johnny Kaw, Johnny Kaw is a fi...      107   \n",
       "\n",
       "    point_value  grade_level  summary_length  points_for_card  acronym  \\\n",
       "8           595          9.7             269              3.0    False   \n",
       "9            14         13.6            1229              6.0    False   \n",
       "11           60          8.3             386              1.0    False   \n",
       "17          349         13.0            1312              5.0    False   \n",
       "21          107         11.4            1553              6.0    False   \n",
       "\n",
       "    years_in_summary  years_in_title  points_by_year_mentioned  \\\n",
       "8                  1               0                         2   \n",
       "9                  3               0                         2   \n",
       "11                 5               0                         1   \n",
       "17                 0               0                         1   \n",
       "21                 5               0                         2   \n",
       "\n",
       "                                        summary_short  cluster  \n",
       "8   ('Lofi hip hop', 'Lofi hip hop, Lofi hip hop a...        3  \n",
       "9   ('Candle Cove', 'Candle Cove, Candle Cove is a...        3  \n",
       "11  (\"'O sole mio\", 'O sole mio, O sole mio Neapol...        3  \n",
       "17  Mikus personification has been marketed as a v...        3  \n",
       "21  ('Johnny Kaw', 'Johnny Kaw, Johnny Kaw is a fi...        3  "
      ]
     },
     "execution_count": 24,
     "metadata": {},
     "output_type": "execute_result"
    }
   ],
   "source": [
    "# show the top five cards in the cluster with the most rows in the df (i.e. the cluster with the most cards)\n",
    "df = pd.DataFrame(cards)\n",
    "cluster_with_most = df['cluster'].value_counts().index[0]\n",
    "df[df['cluster'] == cluster_with_most].head(5)"
   ]
  },
  {
   "cell_type": "code",
   "execution_count": 25,
   "metadata": {},
   "outputs": [
    {
     "data": {
      "text/plain": [
       "8    ['Lofi hip hop', 'Lofi hip hop, Lofi hip hop a...\n",
       "9    ['Candle Cove', 'Candle Cove, Candle Cove is a...\n",
       "Name: summary, dtype: object"
      ]
     },
     "execution_count": 25,
     "metadata": {},
     "output_type": "execute_result"
    }
   ],
   "source": [
    "# show the top two full summaries of the top two cards in the cluster with the most rows in the df (i.e. the cluster with the most cards)\n",
    "df = pd.DataFrame(cards)\n",
    "cluster_with_most = df['cluster'].value_counts().index[0]\n",
    "df[df['cluster'] == cluster_with_most].head(2)['summary']\n"
   ]
  },
  {
   "cell_type": "code",
   "execution_count": 26,
   "metadata": {},
   "outputs": [],
   "source": [
    "# Randomly sample the cards from each cluster to add to a new deck of cards that has at most the same number of cards as the smallest cluster\n",
    "import random\n",
    "def balance_the_deck_by_cluster(deck_df):\n",
    "    # Find the smallest cluster\n",
    "    min_cluster_size = min(df[\"cluster\"].value_counts())\n",
    "    # Create a new list to store the new deck of cards\n",
    "    new_deck = []\n",
    "    # Randomly sample the cards from each cluster\n",
    "    for cluster in range(10):\n",
    "        new_deck.extend(random.sample(list(df[df[\"cluster\"] == cluster].to_dict(\"records\")), min_cluster_size))\n",
    "    return new_deck # Return the new deck of cards\n"
   ]
  },
  {
   "cell_type": "code",
   "execution_count": 27,
   "metadata": {},
   "outputs": [
    {
     "ename": "NameError",
     "evalue": "name 'new_deck' is not defined",
     "output_type": "error",
     "traceback": [
      "\u001b[0;31m---------------------------------------------------------------------------\u001b[0m",
      "\u001b[0;31mNameError\u001b[0m                                 Traceback (most recent call last)",
      "Cell \u001b[0;32mIn[27], line 6\u001b[0m\n\u001b[1;32m      4\u001b[0m \u001b[38;5;28;01mimport\u001b[39;00m \u001b[38;5;21;01mseaborn\u001b[39;00m \u001b[38;5;28;01mas\u001b[39;00m \u001b[38;5;21;01msns\u001b[39;00m\n\u001b[1;32m      5\u001b[0m get_ipython()\u001b[38;5;241m.\u001b[39mrun_line_magic(\u001b[38;5;124m'\u001b[39m\u001b[38;5;124mmatplotlib\u001b[39m\u001b[38;5;124m'\u001b[39m, \u001b[38;5;124m'\u001b[39m\u001b[38;5;124minline\u001b[39m\u001b[38;5;124m'\u001b[39m)\n\u001b[0;32m----> 6\u001b[0m new_deck \u001b[38;5;241m=\u001b[39m pd\u001b[38;5;241m.\u001b[39mDataFrame(\u001b[43mnew_deck\u001b[49m)\n\u001b[1;32m      7\u001b[0m plt\u001b[38;5;241m.\u001b[39mfigure(figsize\u001b[38;5;241m=\u001b[39m(\u001b[38;5;241m10\u001b[39m, \u001b[38;5;241m5\u001b[39m))\n\u001b[1;32m      8\u001b[0m sns\u001b[38;5;241m.\u001b[39mcountplot(x\u001b[38;5;241m=\u001b[39m\u001b[38;5;124m\"\u001b[39m\u001b[38;5;124mcluster\u001b[39m\u001b[38;5;124m\"\u001b[39m, data\u001b[38;5;241m=\u001b[39mnew_deck)\n",
      "\u001b[0;31mNameError\u001b[0m: name 'new_deck' is not defined"
     ]
    }
   ],
   "source": [
    "# show the distribution of the new deck (clusters)\n",
    "# visualize the clusters\n",
    "import matplotlib.pyplot as plt\n",
    "import seaborn as sns\n",
    "%matplotlib inline\n",
    "new_deck = pd.DataFrame(new_deck)\n",
    "plt.figure(figsize=(10, 5))\n",
    "sns.countplot(x=\"cluster\", data=new_deck)\n",
    "plt.title(\"Number of cards in each cluster\")\n",
    "plt.show()"
   ]
  },
  {
   "cell_type": "code",
   "execution_count": null,
   "metadata": {},
   "outputs": [
    {
     "name": "stderr",
     "output_type": "stream",
     "text": [
      "/opt/anaconda3/envs/groupme/lib/python3.9/site-packages/sklearn/utils/deprecation.py:87: FutureWarning: Function get_feature_names is deprecated; get_feature_names is deprecated in 1.0 and will be removed in 1.2. Please use get_feature_names_out instead.\n",
      "  warnings.warn(msg, category=FutureWarning)\n"
     ]
    }
   ],
   "source": [
    "# Get the cluster labels for each card\n",
    "cluster_labels = km.labels_\n",
    "\n",
    "# Initialize a list to store the top 10 words for each cluster\n",
    "top_words = []\n",
    "\n",
    "# Iterate over each cluster\n",
    "for i in range(10):\n",
    "    # Get the indices of the cards in this cluster\n",
    "    cluster_indices = [j for j, label in enumerate(cluster_labels) if label == i]\n",
    "\n",
    "    # Get the tf-idf values for each word in this cluster\n",
    "    cluster_tfidf = X[cluster_indices]\n",
    "\n",
    "    # Get the sum of the tf-idf values for each word\n",
    "    word_tfidf_sums = cluster_tfidf.sum(axis=0)\n",
    "\n",
    "    # Convert the sums to a dense array\n",
    "    word_tfidf_sums = cluster_tfidf.sum(axis=0).tolist()[0]\n",
    "\n",
    "    # Get the indices of the words with the highest tf-idf values\n",
    "    sorted_tfidf_indices = sorted(range(len(word_tfidf_sums)), key=lambda i: word_tfidf_sums[i], reverse=True)\n",
    "\n",
    "    # Get the top 10 words\n",
    "    top_10_words = [vectorizer.get_feature_names()[i] for i in sorted_tfidf_indices[:10]]\n",
    "\n",
    "    # Add the top 10 words to the list\n",
    "    top_words.append(top_10_words)\n"
   ]
  },
  {
   "cell_type": "code",
   "execution_count": null,
   "metadata": {},
   "outputs": [
    {
     "name": "stdout",
     "output_type": "stream",
     "text": [
      "Cluster 0: joe, muppet, charact, anim, henson, toylin, show, he, comic, sesam\n",
      "Cluster 1: doctor, who, companion, seri, scienc, charact, the, fiction, appear, british\n",
      "Cluster 2: the, use, it, also, phrase, term, one, in, known, refer\n",
      "Cluster 3: music, he, born, philosophi, philosoph, rock, univers, jazz, professor, record\n",
      "Cluster 4: tree, crown, cherri, plant, fruit, branch, peac, wood, use, pollard\n",
      "Cluster 5: war, he, world, state, parti, presid, unit, elect, nation, the\n",
      "Cluster 6: song, album, releas, singl, music, record, chart, the, number, band\n",
      "Cluster 7: charact, soap, opera, fiction, role, appear, play, she, portray, storylin\n",
      "Cluster 8: rule, use, the, stephen, wiki, state, it, 30, describ, speci\n",
      "Cluster 9: the, game, video, comic, publish, stori, book, tale, film, charact\n"
     ]
    }
   ],
   "source": [
    "# Print the top 10 words for each cluster\n",
    "for i, top_words in enumerate(top_words):\n",
    "    print(\"Cluster {}: {}\".format(i, \", \".join(top_words)))\n"
   ]
  },
  {
   "cell_type": "code",
   "execution_count": null,
   "metadata": {},
   "outputs": [
    {
     "name": "stdout",
     "output_type": "stream",
     "text": [
      "3764  There are this many clusters\n",
      "Cluster 0 has 40 cards\n"
     ]
    },
    {
     "ename": "ValueError",
     "evalue": "too many values to unpack (expected 2)",
     "output_type": "error",
     "traceback": [
      "\u001b[0;31m---------------------------------------------------------------------------\u001b[0m",
      "\u001b[0;31mValueError\u001b[0m                                Traceback (most recent call last)",
      "Cell \u001b[0;32mIn[152], line 89\u001b[0m\n\u001b[1;32m     87\u001b[0m     top_ten \u001b[38;5;241m=\u001b[39m word_counts\u001b[38;5;241m.\u001b[39mmost_common(\u001b[38;5;241m10\u001b[39m) \u001b[38;5;66;03m# returns a list of tuples, each tuple is a word and its count\u001b[39;00m\n\u001b[1;32m     88\u001b[0m     \u001b[38;5;66;03m# if the top word is \"also\" then use the second most common word\u001b[39;00m\n\u001b[0;32m---> 89\u001b[0m     category, categories \u001b[38;5;241m=\u001b[39m define_category(top_ten, categories) \u001b[38;5;66;03m# returns a string of the category name for this cluster\u001b[39;00m\n\u001b[1;32m     90\u001b[0m \u001b[38;5;28;01melse\u001b[39;00m:\n\u001b[1;32m     91\u001b[0m     \u001b[38;5;28;01mbreak\u001b[39;00m\n",
      "\u001b[0;31mValueError\u001b[0m: too many values to unpack (expected 2)"
     ]
    }
   ],
   "source": [
    "def category_filtering(top_ten_words,categories,colors):\n",
    "    # I want to add a check to be sure there are no duplicated mode words and then assign those words as the cluster names which will eventually be the categories on the cards.\n",
    "    # Initialize an empty list mode_words to store the mode words for each cluster.\n",
    "    # Iterate through each cluster:\n",
    "    # Initialize an empty list words to store the words for this cluster.\n",
    "    # Iterate through each card in the cluster:\n",
    "    # Get the title and summary text of the card.\n",
    "    # Preprocess the text by removing stopwords, punctuation, and words that are less than 4 characters long.\n",
    "    # Add the filtered tokens to the list of words.\n",
    "    # Find the word with the highest frequency in the list of words.\n",
    "    # Check if the mode word is already in the list of mode words. If it is, generate a new word by concatenating the mode word with the cluster number (e.g. \"word1_1\" for the first cluster).\n",
    "    # Add the mode word to the list of mode words.\n",
    "    # The list mode_words now contains the unique mode words for each cluster, which can be used as the cluster names.\n",
    "    \n",
    "    # going from most frequent to least frequent in top_ten_words list pick the first noun that is not already in the categories list as the cluster's name and add it to the categories list.\n",
    "    # if there are no nouns in the top_ten_words list then pick the first word that is not already in the categories list as the cluster's name and add it to the categories list.\n",
    "    # else throw an error\n",
    "\n",
    "    # Initialize an empty list mode_words to store the mode words for each cluster.\n",
    "    mode_words = []\n",
    "    existing_categories = categories.copy() # from the passed argument above.\n",
    "    # Iterate through each cluster:\n",
    "    for i, word in enumerate(top_ten_words):\n",
    "        # top words already has the top ten words for each cluster so we can just iterate through that list\n",
    "        if word in categories:\n",
    "            # if the word is already in the categories list then we don't want to add it again\n",
    "            continue\n",
    "        else:\n",
    "            #* the word is new\n",
    "            # now check if it is a noun with nltk pos_tag\n",
    "            token = nltk.word_tokenize(word)\n",
    "            pos = nltk.pos_tag(token) # returns a list of tuples\n",
    "            if pos[0][1] in ['NN','NNS','NNP','NNPS']: # if the first word in the tuple is a noun then we can add it to the categories list\n",
    "                categories.append(word)\n",
    "                mode_words.append(word)\n",
    "                break\n",
    "            else:\n",
    "                continue\n",
    "\n",
    "def define_category(top_ten_words, categories):\n",
    "    \"\"\"\n",
    "    get_categories is a function that takes in the top ten words for each cluster and returns a set of the nouns in the top ten words.\n",
    "    :param top_ten_words: the top ten words for this cluster as a list (cluster is a category)\n",
    "    :type top_ten_words: a list of strings\n",
    "    :return: a single category name for this cluster that is a noun and unique in the categories list   \n",
    "    :rtype: a string\n",
    "    \"\"\"\n",
    "    # the top_ten_words is a list of tuples, the first is a word and the second is the tf-idf value\n",
    "    top_ten_strings = [word[0] for word in top_ten_words] # get the first element of each tuple in the list\n",
    "    for word in top_ten_strings:\n",
    "        token = nltk.word_tokenize(str(word)) # tokenize the word\n",
    "        pos = nltk.pos_tag(token) # get the part of speech for the word\n",
    "        if pos[0][1] in ['NN','NNS','NNP','NNPS']: # if the first word in the tuple is a noun then we can add it to the categories list\n",
    "            if str(word).lower() not in categories: # if the word is not already in the categories list then we can add it\n",
    "                categories.append(str(word).lower()) # add the word to the set of categories\n",
    "                return str(word).lower() # return the word as the category name\n",
    "    else:\n",
    "        return 'mystery', categories\n",
    "\n",
    "# now get the mode of each cluster (by looking at the combination of title and summary text words without lemmatizing or stemming) after removal of stopwords, punctuation, and words less than 4 characters long and show the mode word for each cluster.\n",
    "# Initialize an empty list to store the mode words\n",
    "mode_words = []\n",
    "categories = [] # initialize an empty list to store the categories\n",
    "print(len(clusters), \" There are this many clusters\")\n",
    "# Iterate through each cluster\n",
    "for cluster_id in range(len(clusters)):\n",
    "    # Initialize an empty list to store the words for this cluster\n",
    "    words = []\n",
    "    cluster = [cards[i] for i, label in enumerate(cluster_labels) if label == cluster_id]\n",
    "    # Iterate through each card in the cluster\n",
    "    print(\"Cluster {} has {} cards\".format(cluster_id, len(cluster)))\n",
    "    for card in cluster:\n",
    "        # Get the title and summary text of the card\n",
    "        text = str(card[\"title\"]) + \" \" + str(card[\"summary\"])\n",
    "        # Preprocess the text\n",
    "        # Remove stopwords, punctuation, and words that are less\n",
    "\n",
    "        # Remove stopwords, punctuation, and words thaat are less than 4 characters long\n",
    "        tokens = nltk.word_tokenize(text)\n",
    "        filtered_tokens = [t for t in tokens if t not in stopwords and t.isalpha() and len(t) >= 4]\n",
    "        # Add the filtered tokens to the list of words\n",
    "        words.extend(filtered_tokens)\n",
    "    \n",
    "    if words:\n",
    "        word_counts = nltk.FreqDist(words)\n",
    "        # get the top 10 most common words\n",
    "        top_ten = word_counts.most_common(10) # returns a list of tuples, each tuple is a word and its count\n",
    "        # if the top word is \"also\" then use the second most common word\n",
    "        category, categories = define_category(top_ten, categories) # returns a string of the category name for this cluster\n",
    "    else:\n",
    "        break\n",
    "\n",
    "# The mode_words list now contains the mode word for each cluster\n",
    "print(categories)\n",
    "print(f'The length of the categories list is {len(categories)}, which should be the same as the number of clusters: {len(clusters)}')\n"
   ]
  },
  {
   "cell_type": "code",
   "execution_count": null,
   "metadata": {},
   "outputs": [],
   "source": [
    "# now get the mode of each cluster (by looking at the combination of title and summary text words without lemmatizing or stemming) after removal of stopwords, punctuation, and words less than 4 characters long and show the mode word for each cluster.\n",
    "# Initialize an empty list to store the mode words\n",
    "mode_words = []\n",
    "categories = [] # initialize an empty list to store the categories\n",
    "print(len(clusters), \" There are this many clusters\")\n",
    "# Iterate through each cluster\n",
    "for cluster_id in range(len(clusters)):\n",
    "    # Initialize an empty list to store the words for this cluster\n",
    "    words = []\n",
    "    cluster = [cards[i] for i, label in enumerate(cluster_labels) if label == cluster_id]\n",
    "    # Iterate through each card in the cluster\n",
    "    print(\"Cluster {} has {} cards\".format(cluster_id, len(cluster)))\n",
    "    for card in cluster:\n",
    "        # Get the title and summary text of the card\n",
    "        text = str(card[\"title\"]) + \" \" + str(card[\"summary\"])\n",
    "        # Preprocess the text\n",
    "        # Remove stopwords, punctuation, and words that are less\n",
    "\n",
    "        # Remove stopwords, punctuation, and words thaat are less than 4 characters long\n",
    "        tokens = nltk.word_tokenize(text)\n",
    "        filtered_tokens = [t for t in tokens if t not in stopwords and t.isalpha() and len(t) >= 4]\n",
    "        # Add the filtered tokens to the list of words\n",
    "        words.extend(filtered_tokens)\n",
    "    \n",
    "    if words:\n",
    "        word_counts = nltk.FreqDist(words)\n",
    "        # get the top 10 most common words\n",
    "        top_ten = word_counts.most_common(10) # returns a list of tuples, each tuple is a word and its count\n",
    "        # if the top word is \"also\" then use the second most common word\n",
    "        category, categories = define_category(top_ten, categories) # returns a string of the category name for this cluster\n",
    "    else:\n",
    "        break\n",
    "\n",
    "# The mode_words list now contains the mode word for each cluster\n",
    "print(categories)\n",
    "print(f'The length of the categories list is {len(categories)}, which should be the same as the number of clusters: {len(clusters)}')\n",
    "\n"
   ]
  },
  {
   "cell_type": "code",
   "execution_count": null,
   "metadata": {},
   "outputs": [],
   "source": []
  }
 ],
 "metadata": {
  "kernelspec": {
   "display_name": "Python 3.9.6 ('groupme')",
   "language": "python",
   "name": "python3"
  },
  "language_info": {
   "codemirror_mode": {
    "name": "ipython",
    "version": 3
   },
   "file_extension": ".py",
   "mimetype": "text/x-python",
   "name": "python",
   "nbconvert_exporter": "python",
   "pygments_lexer": "ipython3",
   "version": "3.9.6"
  },
  "orig_nbformat": 4,
  "vscode": {
   "interpreter": {
    "hash": "28dd76f97a2595215b3511d9563b8125e93469ee739d17a6b25584482d270cb8"
   }
  }
 },
 "nbformat": 4,
 "nbformat_minor": 2
}
