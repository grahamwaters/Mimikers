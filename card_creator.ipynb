{
 "cells": [
  {
   "cell_type": "code",
   "execution_count": 1,
   "metadata": {},
   "outputs": [
    {
     "name": "stdout",
     "output_type": "stream",
     "text": [
      "Requirement already satisfied: html2image in /opt/anaconda3/envs/groupme/lib/python3.9/site-packages (2.0.1)\n"
     ]
    }
   ],
   "source": [
    "!pip install html2image"
   ]
  },
  {
   "cell_type": "markdown",
   "metadata": {},
   "source": [
    "# Start Here"
   ]
  },
  {
   "cell_type": "code",
   "execution_count": 43,
   "metadata": {},
   "outputs": [
    {
     "name": "stdout",
     "output_type": "stream",
     "text": [
      "Clearing card_images folder...\n",
      "Initialized process, and ready to generate physical cards...\n"
     ]
    }
   ],
   "source": [
    "import json\n",
    "import textwrap\n",
    "import pytrends\n",
    "from pytrends.request import TrendReq\n",
    "import nltk\n",
    "from nltk.corpus import wordnet\n",
    "import random\n",
    "from tqdm import tqdm\n",
    "from nltk.corpus import wordnet\n",
    "from nltk.metrics.distance import edit_distance\n",
    "from nltk.corpus import stopwords\n",
    "# PlaintextParser\n",
    "from sumy.parsers.plaintext import PlaintextParser\n",
    "# LexRankSummarizer\n",
    "from sumy.summarizers.lex_rank import LexRankSummarizer\n",
    "# LsaSummarizer\n",
    "from sumy.summarizers.lsa import LsaSummarizer\n",
    "# define Tokenizer\n",
    "from sumy.nlp.tokenizers import Tokenizer\n",
    "# define Stemmer\n",
    "from sumy.nlp.stemmers import Stemmer\n",
    "# define language\n",
    "from html2image import Html2Image\n",
    "\n",
    "stopwords = nltk.corpus.stopwords.words('english')\n",
    "\n",
    "\n",
    "import os\n",
    "from PIL import Image, ImageDraw, ImageFont\n",
    "# with open(\"ppn_deck_cleaned.json\", \"w\") as write_file:\n",
    "#     json.dump(card_deck, write_file, indent=4)\n",
    "\n",
    "# read card_deck from ppn_deck.json file\n",
    "# with open(\"ppn_deck.json\", \"r\") as read_file:\n",
    "    # card_deck = json.load(read_file)\n",
    "with open('ppn_deck.json', 'r') as read_file:\n",
    "    card_deck = json.load(read_file)\n",
    "\n",
    "# clear the card_images folder\n",
    "print(\"Clearing card_images folder...\")\n",
    "for filename in os.listdir(\"card_box\"):\n",
    "    os.remove(os.path.join(\"card_box\", filename))\n",
    "\n",
    "\n",
    "\n",
    "def summarize_text(text, num_sentences):\n",
    "    \"\"\"\n",
    "    Summarize the given text using the LSA or LexRank summarization algorithms and return the summary as a string\n",
    "    \"\"\"\n",
    "    # create a PlaintextParser object to parse the text\n",
    "    parser = PlaintextParser.from_string(text, Tokenizer(\"english\"))\n",
    "    # choose a summarization algorithm\n",
    "    # algorithm = LsaSummarizer()\n",
    "    algorithm = LexRankSummarizer()\n",
    "\n",
    "    # summarize the text and return the summary as a string\n",
    "    summary = algorithm(parser.document, num_sentences)\n",
    "    summary_text = \"\\n\".join([str(sentence) for sentence in summary])\n",
    "\n",
    "    return summary_text\n",
    "\n",
    "# def generate_card(title, definition, points, name=None):\n",
    "#     # if the font is 20 then the max width of the text is 40 characters. Use this to determine how large the title should be.\n",
    "#     image = Image.new('RGB', (550, 850), (255, 255, 255))\n",
    "#     draw = ImageDraw.Draw(image)\n",
    "#     # the title is wrapped to 40 characters, so the height of the rectangle is the number of characters * 20 (the height of the font)\n",
    "#     title_size = 20\n",
    "#     font_title = ImageFont.truetype('./fonts/SFNSMono.ttf', title_size)\n",
    "#     font_description = ImageFont.truetype('./fonts/SFNSMono.ttf', 20)\n",
    "#     font_points = ImageFont.truetype('./fonts/SFNSMono.ttf', 18)\n",
    "#     title_wrapped = textwrap.wrap(title, width=40)\n",
    "#     # draw the title centered horizontally, and 30 pixels from the top. The title is wrapped to 40 characters, so the height of the rectangle is the number of characters * 20 (the height of the font)\n",
    "\n",
    "#     title_rectangle_height = len(title_wrapped) * 20\n",
    "#     draw.rectangle([(10, 10), (540, 10 + title_rectangle_height)], fill='lightblue')\n",
    "#     y_text = 20\n",
    "#     for line in title_wrapped:\n",
    "#         draw.text((270, y_text), line, fill=(0, 0, 0), font=font_title, anchor='mm')\n",
    "#         y_text += 20\n",
    "#     # draw the definition left justified, and 10 pixels from the the bottom of the title rectangle. The definition is wrapped to 40 characters, so the height of the rectangle is the number of characters / 40 * 20 (the height of the font). \n",
    "#     definition_wrapped = textwrap.wrap(definition, width=40)\n",
    "#     definition_rectangle_height = len(definition_wrapped) * 20\n",
    "#     draw.rectangle([(10, 10 + title_rectangle_height + 10), (540, 10 + title_rectangle_height + 10 + definition_rectangle_height)], fill='white')\n",
    "#     y_text = 10 + title_rectangle_height + 20\n",
    "#     for line in definition_wrapped:\n",
    "#         draw.text((10, y_text), line, fill=(0, 0, 0), font=font_description, anchor='lm')\n",
    "#         y_text += 20\n",
    "\n",
    "\n",
    "\n",
    "#     # draw the points at the bottom of the card centered horizontally, and 20 pixels from the bottom\n",
    "#     # draw the rectangle around the points, with a light green background, add 10 pixels to the height of the rectangle to make it a little bigger and center the text within the rectangle vertically\n",
    "#     draw.rectangle([(10, 850 - 30 - 10), (540, 850 - 10)], fill='lightgreen')\n",
    "#     # draw the text in the rectangle\n",
    "#     draw.text((270, 850 - 30 - 5), str(points), fill=(0, 0, 0), font=font_points, anchor='mm') # anchor='mm' centers the text horizontally and vertically\n",
    "#     # save the image with the name of the card if not None\n",
    "#     if name is not None:\n",
    "#         image.save('./card_box/{}.png'.format(name)) # save the image with the name of the card, if it's not None\n",
    "#     else:\n",
    "#         image.save('./card_box/{}.png'.format(len(os.listdir('./card_box/')))) # save the image with the name of the number of images in the folder\n",
    "\n",
    "with open('card_html.txt', 'r') as f:\n",
    "    html_template = f.read()\n",
    "\n",
    "def generate_card(title: str, description: str, points: str, html_template,  name):\n",
    "    \"\"\"\n",
    "    generate_card generates a card image from the given title, description, and points\n",
    "\n",
    "    :param title: _description_\n",
    "    :type title: str\n",
    "    :param description: _description_\n",
    "    :type description: str\n",
    "    :param points: _description_\n",
    "    :type points: str\n",
    "    \"\"\"\n",
    "    # Create the HTML content for the card\n",
    "    # The card is 550x850 pixels\n",
    "    # read the template file from the current directory 'card_html.txt'\n",
    "\n",
    "    # replace the placeholders with the actual values\n",
    "    html = html_template\n",
    "    html = html.replace('Card Title', title)\n",
    "    html = html.replace('Card Description', description)\n",
    "    html = html.replace('Point Value', str(points))\n",
    "    space_to_fill = str(850 - len(description) - 100)\n",
    "    html = html.replace('MIDDLE_HEIGHT',str(space_to_fill))\n",
    "    # create blank lines to fill the space\n",
    "    Middle_Content = ' '*int(space_to_fill)\n",
    "    html = html.replace('Middle Content',str(Middle_Content))\n",
    "\n",
    "    # Create an Html2Image object\n",
    "    hti = Html2Image()\n",
    "\n",
    "    # Generate a screenshot of the HTML content and save it to a file\n",
    "    hti.screenshot(html_str=html, save_as='./new_card_box/{}.png'.format(len(os.listdir('./card_box/'))))\n",
    "\n",
    "\n",
    "\n",
    "def generate_physical_cards():\n",
    "    # Choose a random card to print\n",
    "    card = random.choice(card_deck)\n",
    "    print(card)\n",
    "\n",
    "    # Prepare the summary and points variables\n",
    "    summary = card['summary']\n",
    "    if isinstance(summary, list):\n",
    "        summary = summary[1]\n",
    "    summary = summarize_text(summary, 2)\n",
    "    if isinstance(summary, list):\n",
    "        summary = ' '.join(summary)\n",
    "    points = len(set(summary.split()))\n",
    "\n",
    "    # Generate the card\n",
    "    # With this:\n",
    "    generate_card(str(card['title']), summary, points=points, html_template=html_template, name=str(card['title']))\n",
    "\n",
    "    # Iterate through each card and generate a card image for it\n",
    "    for card in tqdm(card_deck):\n",
    "        title = card['title']\n",
    "        summary = card['summary']\n",
    "        if isinstance(summary, list):\n",
    "            summary = summary[1]\n",
    "        summary = summarize_text(summary, 2)\n",
    "        if isinstance(summary, list):\n",
    "            summary = ' '.join(summary)\n",
    "        points = card['point_value']\n",
    "        name = card['title']\n",
    "        # Generate the card\n",
    "        generate_card(str(card['title']), summary, points=points, html_template=html_template, name=name)\n",
    "\n",
    "print(\"Initialized process, and ready to generate physical cards...\")\n"
   ]
  },
  {
   "cell_type": "code",
   "execution_count": 44,
   "metadata": {},
   "outputs": [
    {
     "name": "stdout",
     "output_type": "stream",
     "text": [
      "{'title': 'Jim Pressdee', 'summary': 'Jim Pressdee, James Stuart Pressdee 19 June 1933 20 July 2016 was a Welsh first class cricketer. He was a left-arm spinner and aggressive right-handed batsman. He also played association football in the Football League and Welsh Football League where he played as a left-back.', 'related': 23, 'summary_short': 'Jim Pressdee, James Stuart Pressdee 19 June 1933 20 July 2016 was a Welsh first class cricketer. He was a left-arm spinner and aggressive right-handed batsman. He also played association football in the Football League and Welsh Football League where he played as a left-back.', 'summary_clean': nan, 'point_value': 23}\n"
     ]
    },
    {
     "ename": "ValueError",
     "evalue": "the output_file parameter should be a filename and not a path.\nChange the output path by modifying the output_path attribute.",
     "output_type": "error",
     "traceback": [
      "\u001b[0;31m---------------------------------------------------------------------------\u001b[0m",
      "\u001b[0;31mValueError\u001b[0m                                Traceback (most recent call last)",
      "Cell \u001b[0;32mIn[44], line 1\u001b[0m\n\u001b[0;32m----> 1\u001b[0m \u001b[43mgenerate_physical_cards\u001b[49m\u001b[43m(\u001b[49m\u001b[43m)\u001b[49m\n\u001b[1;32m      2\u001b[0m \u001b[38;5;28mprint\u001b[39m(\u001b[38;5;124m\"\u001b[39m\u001b[38;5;124mDone\u001b[39m\u001b[38;5;124m\"\u001b[39m)\n",
      "Cell \u001b[0;32mIn[43], line 155\u001b[0m, in \u001b[0;36mgenerate_physical_cards\u001b[0;34m()\u001b[0m\n\u001b[1;32m    151\u001b[0m points \u001b[38;5;241m=\u001b[39m \u001b[38;5;28mlen\u001b[39m(\u001b[38;5;28mset\u001b[39m(summary\u001b[38;5;241m.\u001b[39msplit()))\n\u001b[1;32m    153\u001b[0m \u001b[38;5;66;03m# Generate the card\u001b[39;00m\n\u001b[1;32m    154\u001b[0m \u001b[38;5;66;03m# With this:\u001b[39;00m\n\u001b[0;32m--> 155\u001b[0m \u001b[43mgenerate_card\u001b[49m\u001b[43m(\u001b[49m\u001b[38;5;28;43mstr\u001b[39;49m\u001b[43m(\u001b[49m\u001b[43mcard\u001b[49m\u001b[43m[\u001b[49m\u001b[38;5;124;43m'\u001b[39;49m\u001b[38;5;124;43mtitle\u001b[39;49m\u001b[38;5;124;43m'\u001b[39;49m\u001b[43m]\u001b[49m\u001b[43m)\u001b[49m\u001b[43m,\u001b[49m\u001b[43m \u001b[49m\u001b[43msummary\u001b[49m\u001b[43m,\u001b[49m\u001b[43m \u001b[49m\u001b[43mpoints\u001b[49m\u001b[38;5;241;43m=\u001b[39;49m\u001b[43mpoints\u001b[49m\u001b[43m,\u001b[49m\u001b[43m \u001b[49m\u001b[43mhtml_template\u001b[49m\u001b[38;5;241;43m=\u001b[39;49m\u001b[43mhtml_template\u001b[49m\u001b[43m,\u001b[49m\u001b[43m \u001b[49m\u001b[43mname\u001b[49m\u001b[38;5;241;43m=\u001b[39;49m\u001b[38;5;28;43mstr\u001b[39;49m\u001b[43m(\u001b[49m\u001b[43mcard\u001b[49m\u001b[43m[\u001b[49m\u001b[38;5;124;43m'\u001b[39;49m\u001b[38;5;124;43mtitle\u001b[39;49m\u001b[38;5;124;43m'\u001b[39;49m\u001b[43m]\u001b[49m\u001b[43m)\u001b[49m\u001b[43m)\u001b[49m\n\u001b[1;32m    157\u001b[0m \u001b[38;5;66;03m# Iterate through each card and generate a card image for it\u001b[39;00m\n\u001b[1;32m    158\u001b[0m \u001b[38;5;28;01mfor\u001b[39;00m card \u001b[38;5;129;01min\u001b[39;00m tqdm(card_deck):\n",
      "Cell \u001b[0;32mIn[43], line 135\u001b[0m, in \u001b[0;36mgenerate_card\u001b[0;34m(title, description, points, html_template, name)\u001b[0m\n\u001b[1;32m    132\u001b[0m hti \u001b[38;5;241m=\u001b[39m Html2Image()\n\u001b[1;32m    134\u001b[0m \u001b[38;5;66;03m# Generate a screenshot of the HTML content and save it to a file\u001b[39;00m\n\u001b[0;32m--> 135\u001b[0m \u001b[43mhti\u001b[49m\u001b[38;5;241;43m.\u001b[39;49m\u001b[43mscreenshot\u001b[49m\u001b[43m(\u001b[49m\u001b[43mhtml_str\u001b[49m\u001b[38;5;241;43m=\u001b[39;49m\u001b[43mhtml\u001b[49m\u001b[43m,\u001b[49m\u001b[43m \u001b[49m\u001b[43msave_as\u001b[49m\u001b[38;5;241;43m=\u001b[39;49m\u001b[38;5;124;43m'\u001b[39;49m\u001b[38;5;124;43m./new_card_box/\u001b[39;49m\u001b[38;5;132;43;01m{}\u001b[39;49;00m\u001b[38;5;124;43m.png\u001b[39;49m\u001b[38;5;124;43m'\u001b[39;49m\u001b[38;5;241;43m.\u001b[39;49m\u001b[43mformat\u001b[49m\u001b[43m(\u001b[49m\u001b[38;5;28;43mlen\u001b[39;49m\u001b[43m(\u001b[49m\u001b[43mos\u001b[49m\u001b[38;5;241;43m.\u001b[39;49m\u001b[43mlistdir\u001b[49m\u001b[43m(\u001b[49m\u001b[38;5;124;43m'\u001b[39;49m\u001b[38;5;124;43m./card_box/\u001b[39;49m\u001b[38;5;124;43m'\u001b[39;49m\u001b[43m)\u001b[49m\u001b[43m)\u001b[49m\u001b[43m)\u001b[49m\u001b[43m)\u001b[49m\n",
      "File \u001b[0;32m/opt/anaconda3/envs/groupme/lib/python3.9/site-packages/html2image/html2image.py:480\u001b[0m, in \u001b[0;36mHtml2Image.screenshot\u001b[0;34m(self, html_str, html_file, css_str, css_file, other_file, url, save_as, size)\u001b[0m\n\u001b[1;32m    476\u001b[0m     content \u001b[39m=\u001b[39m Html2Image\u001b[39m.\u001b[39m_prepare_html_string(\n\u001b[1;32m    477\u001b[0m         html, css_style_string\n\u001b[1;32m    478\u001b[0m     )\n\u001b[1;32m    479\u001b[0m     \u001b[39mself\u001b[39m\u001b[39m.\u001b[39mload_str(content\u001b[39m=\u001b[39mcontent, as_filename\u001b[39m=\u001b[39mhtml_filename)\n\u001b[0;32m--> 480\u001b[0m     \u001b[39mself\u001b[39;49m\u001b[39m.\u001b[39;49mscreenshot_loaded_file(\n\u001b[1;32m    481\u001b[0m         file\u001b[39m=\u001b[39;49mhtml_filename,\n\u001b[1;32m    482\u001b[0m         output_file\u001b[39m=\u001b[39;49mname,\n\u001b[1;32m    483\u001b[0m         size\u001b[39m=\u001b[39;49mcurrent_size,\n\u001b[1;32m    484\u001b[0m     )\n\u001b[1;32m    486\u001b[0m     screenshot_paths\u001b[39m.\u001b[39mappend(os\u001b[39m.\u001b[39mpath\u001b[39m.\u001b[39mjoin(\u001b[39mself\u001b[39m\u001b[39m.\u001b[39moutput_path, name))\n\u001b[1;32m    488\u001b[0m \u001b[39mfor\u001b[39;00m screenshot_target \u001b[39min\u001b[39;00m html_file \u001b[39m+\u001b[39m other_file:\n",
      "File \u001b[0;32m/opt/anaconda3/envs/groupme/lib/python3.9/site-packages/html2image/html2image.py:187\u001b[0m, in \u001b[0;36mHtml2Image.screenshot_loaded_file\u001b[0;34m(self, file, output_file, size)\u001b[0m\n\u001b[1;32m    184\u001b[0m file \u001b[39m=\u001b[39m os\u001b[39m.\u001b[39mpath\u001b[39m.\u001b[39mjoin(\u001b[39mself\u001b[39m\u001b[39m.\u001b[39mtemp_path, file)\n\u001b[1;32m    186\u001b[0m \u001b[39mif\u001b[39;00m os\u001b[39m.\u001b[39mpath\u001b[39m.\u001b[39mdirname(output_file) \u001b[39m!=\u001b[39m \u001b[39m'\u001b[39m\u001b[39m'\u001b[39m:\n\u001b[0;32m--> 187\u001b[0m     \u001b[39mraise\u001b[39;00m \u001b[39mValueError\u001b[39;00m(\n\u001b[1;32m    188\u001b[0m         \u001b[39m\"\u001b[39m\u001b[39mthe output_file parameter should be a filename \u001b[39m\u001b[39m\"\u001b[39m\n\u001b[1;32m    189\u001b[0m         \u001b[39m\"\u001b[39m\u001b[39mand not a path.\u001b[39m\u001b[39m\\n\u001b[39;00m\u001b[39mChange the output path by \u001b[39m\u001b[39m\"\u001b[39m\n\u001b[1;32m    190\u001b[0m         \u001b[39m\"\u001b[39m\u001b[39mmodifying the output_path attribute.\u001b[39m\u001b[39m\"\u001b[39m\n\u001b[1;32m    191\u001b[0m     )\n\u001b[1;32m    193\u001b[0m \u001b[39mself\u001b[39m\u001b[39m.\u001b[39mbrowser\u001b[39m.\u001b[39mscreenshot(\n\u001b[1;32m    194\u001b[0m     output_path\u001b[39m=\u001b[39m\u001b[39mself\u001b[39m\u001b[39m.\u001b[39moutput_path,\n\u001b[1;32m    195\u001b[0m     output_file\u001b[39m=\u001b[39moutput_file,\n\u001b[1;32m    196\u001b[0m     \u001b[39minput\u001b[39m\u001b[39m=\u001b[39mfile,\n\u001b[1;32m    197\u001b[0m     size\u001b[39m=\u001b[39msize,\n\u001b[1;32m    198\u001b[0m )\n",
      "\u001b[0;31mValueError\u001b[0m: the output_file parameter should be a filename and not a path.\nChange the output path by modifying the output_path attribute."
     ]
    }
   ],
   "source": [
    "\n",
    "generate_physical_cards()\n",
    "print(\"Done\")"
   ]
  }
 ],
 "metadata": {
  "kernelspec": {
   "display_name": "Python 3.9.6 ('groupme')",
   "language": "python",
   "name": "python3"
  },
  "language_info": {
   "codemirror_mode": {
    "name": "ipython",
    "version": 3
   },
   "file_extension": ".py",
   "mimetype": "text/x-python",
   "name": "python",
   "nbconvert_exporter": "python",
   "pygments_lexer": "ipython3",
   "version": "3.9.6"
  },
  "orig_nbformat": 4,
  "vscode": {
   "interpreter": {
    "hash": "28dd76f97a2595215b3511d9563b8125e93469ee739d17a6b25584482d270cb8"
   }
  }
 },
 "nbformat": 4,
 "nbformat_minor": 2
}
