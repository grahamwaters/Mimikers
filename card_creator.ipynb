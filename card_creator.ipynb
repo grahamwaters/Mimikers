{
 "cells": [
  {
   "cell_type": "code",
   "execution_count": 62,
   "metadata": {},
   "outputs": [],
   "source": [
    "# !pip install html2image"
   ]
  },
  {
   "cell_type": "markdown",
   "metadata": {},
   "source": [
    "# Start Here"
   ]
  },
  {
   "cell_type": "code",
   "execution_count": 63,
   "metadata": {},
   "outputs": [],
   "source": [
    "import json\n",
    "import os\n",
    "import random\n",
    "import re\n",
    "import textwrap\n",
    "\n",
    "from html2image import Html2Image\n",
    "from nltk.corpus import stopwords, wordnet\n",
    "from nltk.metrics.distance import edit_distance\n",
    "import pytrends\n",
    "import nltk\n",
    "from tqdm import tqdm\n",
    "\n",
    "from sumy.nlp.stemmers import Stemmer\n",
    "from sumy.nlp.tokenizers import Tokenizer\n",
    "from sumy.parsers.plaintext import PlaintextParser\n",
    "from sumy.summarizers.lex_rank import LexRankSummarizer\n",
    "from sumy.summarizers.lsa import LsaSummarizer"
   ]
  },
  {
   "cell_type": "code",
   "execution_count": 64,
   "metadata": {},
   "outputs": [],
   "source": [
    "spell_check_flag = False"
   ]
  },
  {
   "cell_type": "code",
   "execution_count": 65,
   "metadata": {},
   "outputs": [],
   "source": [
    "stopwords = stopwords.words('english')"
   ]
  },
  {
   "cell_type": "code",
   "execution_count": 66,
   "metadata": {},
   "outputs": [],
   "source": [
    "with open('ppn_deck.json', 'r') as read_file:\n",
    "    card_deck = json.load(read_file)\n",
    "\n"
   ]
  },
  {
   "cell_type": "code",
   "execution_count": 67,
   "metadata": {},
   "outputs": [],
   "source": [
    "def clear_card_box(card_box_directory):\n",
    "    for file in os.listdir(card_box_directory):\n",
    "        os.remove(os.path.join(card_box_directory, file))\n",
    "\n",
    "# clear the card box directory\n",
    "clear_card_box('new_card_box')"
   ]
  },
  {
   "cell_type": "code",
   "execution_count": 68,
   "metadata": {},
   "outputs": [],
   "source": [
    "from PIL import Image\n",
    "\n",
    "def crop_image(input_file, output_file):\n",
    "    # Open the input image\n",
    "    img = Image.open(input_file)\n",
    "\n",
    "    # Crop the image to maintain a 14px buffer on the left, top, bottom, and right\n",
    "    # of a rectangle that is 1182px wide and 1779px tall, starting from the upper left\n",
    "    left = 14 # buffer\n",
    "    cropped_img = img.crop((left, 14, 1182+left, 1779+left))\n",
    "\n",
    "    # Save the cropped image to the specified output file\n",
    "    cropped_img.save(output_file)\n"
   ]
  },
  {
   "cell_type": "code",
   "execution_count": 69,
   "metadata": {},
   "outputs": [],
   "source": [
    "with open('card_html.txt', 'r') as f:\n",
    "    html_template = f.read()"
   ]
  },
  {
   "cell_type": "code",
   "execution_count": 70,
   "metadata": {},
   "outputs": [],
   "source": [
    "# using contextual spell checking\n",
    "# verify that python -m spacy download en_core_web_sm has been run\n",
    "#!python -m spacy download en_core_web_sm\n",
    "\n",
    "#!pip install textblob\n",
    "from textblob import TextBlob\n",
    "#!pip install autocorrect \n",
    "from autocorrect import Speller # for spell checking"
   ]
  },
  {
   "cell_type": "code",
   "execution_count": 71,
   "metadata": {},
   "outputs": [],
   "source": [
    "import spacy\n",
    "import re\n",
    "import textblob\n",
    "\n",
    "import contextualSpellCheck\n",
    "nlp = spacy.load('en_core_web_sm')\n",
    "contextualSpellCheck.add_to_pipe(nlp)"
   ]
  },
  {
   "cell_type": "code",
   "execution_count": 84,
   "metadata": {},
   "outputs": [
    {
     "name": "stderr",
     "output_type": "stream",
     "text": [
      "<>:164: SyntaxWarning: assertion is always true, perhaps remove parentheses?\n",
      "<>:164: SyntaxWarning: assertion is always true, perhaps remove parentheses?\n",
      "/var/folders/34/d1tlq3k91hb0lj6x90xpzb4r0000gn/T/ipykernel_96892/225915091.py:164: SyntaxWarning: assertion is always true, perhaps remove parentheses?\n",
      "  assert('summary' in card.keys(), 'Card does not have a summary!')\n"
     ]
    }
   ],
   "source": [
    "def summarize_text(text, num_sentences):\n",
    "    \"\"\"\n",
    "    Summarize the given text using the LSA or LexRank summarization algorithms and return the summary as a string\n",
    "    \"\"\"\n",
    "    # create a PlaintextParser object to parse the text\n",
    "    parser = PlaintextParser.from_string(text, Tokenizer(\"english\"))\n",
    "    # choose a summarization algorithm\n",
    "    # algorithm = LsaSummarizer()\n",
    "    algorithm = LexRankSummarizer()\n",
    "\n",
    "    # summarize the text and return the summary as a string\n",
    "    summary = algorithm(parser.document, num_sentences)\n",
    "    summary_text = \"\\n\".join([str(sentence) for sentence in summary])\n",
    "\n",
    "    return summary_text\n",
    "\n",
    "def generate_card(title: str, description: str, points: str, html_template,  name, links_on_wikipedia):\n",
    "    filename = '{}.png'.format(title.replace(' ', '_'))\n",
    "    if os.path.exists('./card_box/{}'.format(filename)) and 'Test_Card' not in filename:\n",
    "        print(f'Card {title} already exists, skipping...')\n",
    "        return # skip this card if it already exists\n",
    "    # Set the dimensions in centimeters\n",
    "    width_cm = 5.5\n",
    "    height_cm = 8.5\n",
    "    card_color = 'green'\n",
    "    # Convert the dimensions to pixels\n",
    "    # 1 cm is equal to 96 pixels\n",
    "    width_pixels = int(width_cm * 96)\n",
    "    height_pixels = int(height_cm * 96)\n",
    "    points = int(points) # removes the decimal point\n",
    "    points = str(points) # now it's a string\n",
    "    links_on_wikipedia = str(links_on_wikipedia)\n",
    "    # replace the placeholders with the actual values\n",
    "    html = html_template\n",
    "    # identify any bigrams from the title that are in the description\n",
    "    # if there are any, remove them from the description\n",
    "    # this is to prevent the same information from being revealed in the description from the title\n",
    "    title_bigrams = list(nltk.bigrams(title.split()))\n",
    "    # predict the category of the card\n",
    "    title_features = {} # initialize the title features dictionary to be empty\n",
    "    for word in title.split():\n",
    "        title_features['contains({})'.format(word.lower())] = True # add the word to the title features dictionary\n",
    "    # predict the category of the card\n",
    "    #!category = max(nltk.classify.util.apply_features(title_features, [title]), key=lambda x: x[1]).label()\n",
    "    # category = nltk.classify.util.apply_features(title_features, [title])# -> this is a list of tuples, where the first element is the category and the second element is the probability\n",
    "    # print(category)\n",
    "    # category = category[0][0] # get the first element of the first tuple in the list, which is the category\n",
    "    category = 'Wild Card'\n",
    " \n",
    "\n",
    "    # replace the category in the description with 'THIS'\n",
    "\n",
    "\n",
    "\n",
    "\n",
    "    for bigram in title_bigrams:\n",
    "        bigram = ' '.join(bigram)\n",
    "        if bigram in description:\n",
    "            description = description.replace(bigram, ' THIS {} '.format(category))\n",
    "    # also, in the description, remove the ' - ' phrase and replace it with 'SUBJECT'\n",
    "    description = description.replace(' - ', ' ')\n",
    "    # keep removing double spaces until there are no more double spaces in the description.\n",
    "    def format_description(description):\n",
    "        while '  ' in description:\n",
    "            description = description.replace('  ', ' ')\n",
    "\n",
    "    description = clean_string(description) # clean the description\n",
    "    html = html.replace('CARD_TITLE', title)\n",
    "    html = html.replace('CARD_DESCRIPTION', description)\n",
    "    html = html.replace('CARD_POINTS', str(points))\n",
    "    html = html.replace('CARD_NAME',str(title))\n",
    "    html = html.replace('CARD_COLOR',str(card_color))\n",
    "    # replace the width_pixels and height_pixels with the actual values\n",
    "    html = html.replace('WIDTH_PIXELS',str(width_pixels))\n",
    "    html = html.replace('HEIGHT_PIXELS',str(height_pixels))\n",
    "    html = html.replace('WIKILINKS',str(links_on_wikipedia))\n",
    "    # Create an Html2Image object\n",
    "    hti = Html2Image()\n",
    "\n",
    "    # Generate a screenshot of the HTML content and save it to a file\n",
    "    output_path = './card_box/'\n",
    "    if not os.path.exists(output_path):\n",
    "        os.makedirs(output_path)\n",
    "    \n",
    "    savepath = os.path.join(output_path, filename)\n",
    "    hti.output_path = output_path\n",
    "\n",
    "\n",
    "    # Generate the image\n",
    "    # make the filename the title of the card, with underscores instead of spaces, and no punctuation or special characters.\n",
    "    filename = '{}.png'.format(title.replace(' ', '_')) # make the filename the title of the card, with underscores instead of spaces, and no punctuation or special characters.\n",
    "    filename = filename.lower()\n",
    "    hti.screenshot(html_str=html, save_as=filename)\n",
    "    # Crop the image (at the filename (path))\n",
    "    print(f'Generated card {title} at {savepath}!')\n",
    "    \n",
    "    savepath_out = './new_card_box/{}.png'.format(title.replace(' ', '_').replace('.', '').replace(',', '').replace(';', '').replace(':', '').replace('?', '').replace('!', '').replace('-', '').replace('\"', '').replace(\"'\", '').replace('(', '').replace(')', '')).lower() # make the filename the title of the card, with underscores instead of spaces, and no punctuation or special characters.\n",
    "    crop_image(savepath, savepath_out)\n",
    "    # delete the original image\n",
    "    os.remove(savepath)\n",
    "    print(f'Cropped card {title} at {savepath}!')\n",
    "\n",
    "def run_spell_check_on_cards(nlp):\n",
    "    #note: this function takes a long time to run, very top heavy\n",
    "    # open the json file\n",
    "    with open('ppn_deck.json', 'r') as f:\n",
    "        card_deck = json.load(f)\n",
    "    \n",
    "    # loop through the cards\n",
    "    for card in tqdm(card_deck):\n",
    "        # get the summary\n",
    "        summary = card['summary_short']\n",
    "        if isinstance(summary, list):\n",
    "            summary = summary[1]\n",
    "\n",
    "        # using contextualSpellCheck to correct the spelling\n",
    "        doc = nlp(summary)\n",
    "        if doc._.performed_spellCheck: # if the spell check was performed\n",
    "            # reassign summary to the corrected version\n",
    "            summary = doc._.outcome_spellCheck\n",
    "            card['summary_short'] = summary # update the card\n",
    "        else:\n",
    "            print('Spell check was not performed')\n",
    "\n",
    "def generate_physical_cards(options):\n",
    "    # get the options from the options dictionary\n",
    "    cards_to_generate = options['cards_to_generate'] # the number of cards to generate\n",
    "    profanity = options['profanity'] # if True, profanity will be allowed in the cards\n",
    "    grade_level = options['grade_level'] # the maximum grade level of the cards\n",
    "    keywords = options['keywords'] # if card summary (full) contains any of these keywords, it will be included in the deck of cards as a card with the category matching the keyword. If the keyword is not in the list of categories, it will be added to the list of categories.\n",
    "\n",
    "    # Iterate through each card and generate a card image for it\n",
    "    for card in tqdm(card_deck):\n",
    "        if gandalf_card_finder(card, keywords, grade_level, profanity=False):\n",
    "            pass # get it?\n",
    "        else:\n",
    "            continue\n",
    "        # Prepare the summary and points variables\n",
    "        summary = card['summary_short']\n",
    "        summary = str(summary)\n",
    "        if isinstance(summary, str):\n",
    "            # if the summarized text fills more than 3/4 the height of the card, summarize it again with one fewer sentence. This is to prevent the text from overflowing the card.\n",
    "            # max at font size 20 is 25 lines\n",
    "            sentence_count = 5 # the number of sentences in the summary (initially)\n",
    "            while len(summary) > 10 * 40:# and sentence_count > 1:\n",
    "                summary = summarize_text(summary, sentence_count)\n",
    "                sentence_count -= 1\n",
    "            if isinstance(summary, list):\n",
    "                summary = ' '.join(summary)\n",
    "        else:\n",
    "            raise ValueError('Summary is not a string!')\n",
    "        card['final_summary'] = summary\n",
    "        points = card['points_for_card']\n",
    "        # Generate the card\n",
    "        generate_card(str(card['title']),\n",
    "                      summary, points=points,\n",
    "                      html_template=html_template,\n",
    "                      name=str(card['title']),\n",
    "                      links_on_wikipedia=card['related'])\n",
    "\n",
    "def gandalf_card_finder(card, keywords, grade_level, profanity):\n",
    "    # gandalf scans the card and determines if it is a good card or not for the game. For example, if the card contains any profanity and the profanity is set to false AND it contains a keyword, it is still not a good card because it failed one of the two requirements, with profanity being the most important.\n",
    "    # if the card is good, it returns True, otherwise it returns False\n",
    "    assert('summary' in card.keys(), 'Card does not have a summary!')\n",
    "    full_summary = card['summary']\n",
    "    if isinstance(full_summary, list):\n",
    "        full_summary = full_summary[1]\n",
    "    # check if the card contains any of the keywords using regex and word boundaries (r'\\b')\n",
    "    found_keyword = False # initialize the found_keyword variable\n",
    "    for keyword in keywords:\n",
    "        if re.search(r'\\b' + keyword + r'\\b', full_summary, re.IGNORECASE):\n",
    "            # if the keyword is found, return True\n",
    "            found_keyword = True\n",
    "            break\n",
    "        else:\n",
    "            print(f'Keyword {keyword} not found in card {card[\"title\"]}.')\n",
    "            found_keyword = False\n",
    "    # profanity check here\n",
    "    profanity = False #note: this is not implemented yet\n",
    "    \n",
    "    #todo - implement profanity check\n",
    "    #todo - implement grade level check\n",
    "    grade_level_check = True #note: this is not implemented yet\n",
    "    # check the grade level of the card\n",
    "    if float(card['grade_level']) > float(grade_level):\n",
    "        grade_level_check = False # if the grade level is too high, the card is not a good card\n",
    "    # if the card is good, return True, otherwise return False\n",
    "    if (found_keyword and grade_level_check) or grade_level_check:\n",
    "        return True\n",
    "    else:\n",
    "        return False\n",
    "\n",
    "def clean_string(string):\n",
    "    # Remove non-alphanumeric characters at the beginning of sentences\n",
    "    string = re.sub(r'(?<=[.!?])\\s*[^a-zA-Z\\d]', '', string)\n",
    "    \n",
    "    # Use TextBlob to correct syntax errors\n",
    "    corrected_string = textblob.TextBlob(string).correct()\n",
    "    \n",
    "    # convert to string from TextBlob object\n",
    "    corrected_string = str(corrected_string)\n",
    "    description = corrected_string\n",
    "    description = re.sub(r'\\.(?=[^ ])', '. ', description)\n",
    "    description = re.sub(r',(?=[^ ])', ', ', description)\n",
    "    description = re.sub(r';(?=[^ ])', '; ', description)\n",
    "    description = re.sub(r':(?=[^ ])', ': ', description)\n",
    "    description = re.sub(r'\\?(?=[^ ])', '? ', description)\n",
    "    description = re.sub(r'!(?=[^ ])', '! ', description)\n",
    "    description = re.sub(r'-(?=[^ ])', '- ', description)\n",
    "    description = re.sub(r'\"(?=[^ ])', '\" ', description)\n",
    "    description = re.sub(r\"'(?=[^ ])\", \"' \", description)\n",
    "    description = re.sub(r'\\((?=[^ ])', '( ', description)\n",
    "    description = re.sub(r'\\)(?=[^ ])', ') ', description)\n",
    "    corrected_string = description\n",
    "    # Remove non-ASCII characters\n",
    "    cleaned_string = re.sub(r'[^\\x00-\\x7F]+', '', corrected_string)\n",
    "\n",
    "    # remove \\n characters from the string\n",
    "    cleaned_string = cleaned_string.replace('\\n', ' ')\n",
    "\n",
    "    # capitalize the first letter of each sentence in the description\n",
    "    description = description.capitalize() # capitalize the first letter of the description\n",
    "    # capitalize the first letter of each sentence in the description\n",
    "    description = re.sub(r'[\\.\\?\\!]\\s(?=[a-z])', '. ', description) # capitalize the first letter of each sentence, except for the first sentence, which is already capitalized, and except for sentences that start with a number, which are not capitalized in the original text\n",
    "    # replace the placeholders with the actual values\n",
    "    return cleaned_string\n",
    "\n",
    "def run_cleaner_on_cards():\n",
    "    # open the json file\n",
    "    with open('ppn_deck.json', 'r') as f:\n",
    "        card_deck = json.load(f)\n",
    "\n",
    "    # loop through the cards\n",
    "    for card in tqdm(card_deck):\n",
    "        # get the summary\n",
    "        if 'cleaned' in card.keys():\n",
    "            continue\n",
    "        summary = card['summary_short']\n",
    "        if isinstance(summary, list):\n",
    "            summary = summary[1]\n",
    "        if isinstance(summary, list):\n",
    "            summary = ' '.join(summary)\n",
    "        # convert summary to string in case it's a list\n",
    "        summary = str(summary)\n",
    "        # clean the summary\n",
    "        summary = clean_string(summary)\n",
    "        # update the card\n",
    "        card['summary_short'] = summary\n",
    "        # add a new key to the card called 'cleaned' and set it to True\n",
    "        card['cleaned'] = True\n",
    "        # every 10 cards, save the json file\n",
    "        if card_deck.index(card) % 10 == 0:\n",
    "            #print(f'Saving at card {card_deck.index(card)}')\n",
    "            with open('ppn_deck.json', 'w') as f:\n",
    "                json.dump(card_deck, f)\n",
    "        #print(f'Cleaned card {card[\"title\"]} at index {card_deck.index(card)}! Summary: {summary}')\n",
    "    # save the updated json file\n",
    "    with open('ppn_deck.json', 'w') as f:\n",
    "        json.dump(card_deck, f)"
   ]
  },
  {
   "cell_type": "code",
   "execution_count": 85,
   "metadata": {},
   "outputs": [
    {
     "name": "stdout",
     "output_type": "stream",
     "text": [
      "Initialized, ready to spell check!\n",
      "Spell check complete, ready to generate cards!\n"
     ]
    }
   ],
   "source": [
    "print(\"Initialized, ready to spell check!\")\n",
    "# run_spell_check_on_cards(nlp) # run the spell check\n",
    "if spell_check_flag:\n",
    "    run_cleaner_on_cards()\n",
    "print(\"Spell check complete, ready to generate cards!\")\n"
   ]
  },
  {
   "cell_type": "code",
   "execution_count": 86,
   "metadata": {},
   "outputs": [
    {
     "name": "stderr",
     "output_type": "stream",
     "text": [
      "objc[19148]: Class WebSwapCGLLayer is implemented in both /System/Library/Frameworks/WebKit.framework/Versions/A/Frameworks/WebCore.framework/Versions/A/Frameworks/libANGLE-shared.dylib (0x7ffa59435aa0) and /Applications/Google Chrome.app/Contents/Frameworks/Google Chrome Framework.framework/Versions/108.0.5359.124/Libraries/libGLESv2.dylib (0x11442b568). One of the two will be used. Which one is undefined.\n",
      "[1227/160237.029495:INFO:headless_shell.cc(623)] Written to file /Users/grahamwaters/Library/Mobile Documents/com~apple~CloudDocs/Mimikers/card_box/test_card.png.\n"
     ]
    },
    {
     "name": "stdout",
     "output_type": "stream",
     "text": [
      "Generated card Test Card at ./card_box/Test_Card.png!\n",
      "Cropped card Test Card at ./card_box/Test_Card.png!\n"
     ]
    }
   ],
   "source": [
    "# generate a test card\n",
    "generate_card('Test Card', 'from Armentires is an English song that was particularly popular during World War I. It is also known by its ersatz French hook line, Inky Pinky Parlez Vous, or the American variant Hinky Dinky Parlez-vous variant: Parlay voo. Inky Pinky was a Scottish childrens name for parsnip and potato cakes, but it has been suggested that an onomatopoeic reference to the sound of bed springs is a more likely soldiers ribald derivation.', 10, html_template, 'Mademoiselle from Armentières', 0)"
   ]
  },
  {
   "cell_type": "code",
   "execution_count": 90,
   "metadata": {},
   "outputs": [],
   "source": [
    "# set the options for the game\n",
    "options = {\n",
    "    'grade_level': 12, # maximum grade level of the cards\n",
    "    'profanity': True,\n",
    "    'cards_to_generate': 10,\n",
    "    'keywords': [],\n",
    "    'categories': [],\n",
    "}\n"
   ]
  },
  {
   "cell_type": "code",
   "execution_count": 91,
   "metadata": {},
   "outputs": [],
   "source": [
    "# keywords that we want to include from the cards in the deck (cards with these words should be included in the deck).\n",
    "keywords = [\n",
    "    'amish',\n",
    "    'funny',\n",
    "    'nasa',\n",
    "    'famous',\n",
    "    'viral',\n",
    "    'dog poop',\n",
    "    'poop',\n",
    "    'therapy',\n",
    "    'vegetables',\n",
    "    'melon',\n",
    "    'die',\n",
    "    'embarrassing'\n",
    "]"
   ]
  },
  {
   "cell_type": "code",
   "execution_count": 92,
   "metadata": {},
   "outputs": [
    {
     "name": "stderr",
     "output_type": "stream",
     "text": [
      "  0%|          | 0/9296 [00:00<?, ?it/s]objc[20158]: Class WebSwapCGLLayer is implemented in both /System/Library/Frameworks/WebKit.framework/Versions/A/Frameworks/WebCore.framework/Versions/A/Frameworks/libANGLE-shared.dylib (0x7ffa59435aa0) and /Applications/Google Chrome.app/Contents/Frameworks/Google Chrome Framework.framework/Versions/108.0.5359.124/Libraries/libGLESv2.dylib (0x114c01568). One of the two will be used. Which one is undefined.\n",
      "[1227/160356.991205:INFO:headless_shell.cc(623)] Written to file /Users/grahamwaters/Library/Mobile Documents/com~apple~CloudDocs/Mimikers/card_box/rosetta_cammeniti.png.\n"
     ]
    },
    {
     "name": "stdout",
     "output_type": "stream",
     "text": [
      "Generated card Rosetta Cammeniti at ./card_box/Rosetta_Cammeniti.png!\n"
     ]
    },
    {
     "name": "stderr",
     "output_type": "stream",
     "text": [
      "  0%|          | 2/9296 [00:06<7:52:59,  3.05s/it]"
     ]
    },
    {
     "name": "stdout",
     "output_type": "stream",
     "text": [
      "Cropped card Rosetta Cammeniti at ./card_box/Rosetta_Cammeniti.png!\n"
     ]
    },
    {
     "name": "stderr",
     "output_type": "stream",
     "text": [
      "objc[20210]: Class WebSwapCGLLayer is implemented in both /System/Library/Frameworks/WebKit.framework/Versions/A/Frameworks/WebCore.framework/Versions/A/Frameworks/libANGLE-shared.dylib (0x7ffa59435aa0) and /Applications/Google Chrome.app/Contents/Frameworks/Google Chrome Framework.framework/Versions/108.0.5359.124/Libraries/libGLESv2.dylib (0x112401568). One of the two will be used. Which one is undefined.\n",
      "[1227/160358.964989:ERROR:command_buffer_proxy_impl.cc(128)] ContextResult::kTransientFailure: Failed to send GpuControl.CreateCommandBuffer.\n",
      "[1227/160359.809918:INFO:headless_shell.cc(623)] Written to file /Users/grahamwaters/Library/Mobile Documents/com~apple~CloudDocs/Mimikers/card_box/spy_muppets:_license_to_croak.png.\n"
     ]
    },
    {
     "name": "stdout",
     "output_type": "stream",
     "text": [
      "Generated card Spy Muppets: License to Croak at ./card_box/Spy_Muppets:_License_to_Croak.png!\n"
     ]
    },
    {
     "name": "stderr",
     "output_type": "stream",
     "text": [
      "  0%|          | 3/9296 [00:08<7:34:05,  2.93s/it]"
     ]
    },
    {
     "name": "stdout",
     "output_type": "stream",
     "text": [
      "Cropped card Spy Muppets: License to Croak at ./card_box/Spy_Muppets:_License_to_Croak.png!\n"
     ]
    },
    {
     "name": "stderr",
     "output_type": "stream",
     "text": [
      "objc[20247]: Class WebSwapCGLLayer is implemented in both /System/Library/Frameworks/WebKit.framework/Versions/A/Frameworks/WebCore.framework/Versions/A/Frameworks/libANGLE-shared.dylib (0x7ffa59435aa0) and /Applications/Google Chrome.app/Contents/Frameworks/Google Chrome Framework.framework/Versions/108.0.5359.124/Libraries/libGLESv2.dylib (0x114ebf568). One of the two will be used. Which one is undefined.\n",
      "[1227/160401.225084:ERROR:command_buffer_proxy_impl.cc(128)] ContextResult::kTransientFailure: Failed to send GpuControl.CreateCommandBuffer.\n",
      "[1227/160402.114704:INFO:headless_shell.cc(623)] Written to file /Users/grahamwaters/Library/Mobile Documents/com~apple~CloudDocs/Mimikers/card_box/fame_in_the_20th_century.png.\n"
     ]
    },
    {
     "name": "stdout",
     "output_type": "stream",
     "text": [
      "Generated card Fame in the 20th Century at ./card_box/Fame_in_the_20th_Century.png!\n"
     ]
    },
    {
     "name": "stderr",
     "output_type": "stream",
     "text": [
      "  0%|          | 4/9296 [00:11<6:56:05,  2.69s/it]"
     ]
    },
    {
     "name": "stdout",
     "output_type": "stream",
     "text": [
      "Cropped card Fame in the 20th Century at ./card_box/Fame_in_the_20th_Century.png!\n"
     ]
    },
    {
     "name": "stderr",
     "output_type": "stream",
     "text": [
      "objc[20295]: Class WebSwapCGLLayer is implemented in both /System/Library/Frameworks/WebKit.framework/Versions/A/Frameworks/WebCore.framework/Versions/A/Frameworks/libANGLE-shared.dylib (0x7ffa59435aa0) and /Applications/Google Chrome.app/Contents/Frameworks/Google Chrome Framework.framework/Versions/108.0.5359.124/Libraries/libGLESv2.dylib (0x1146bf568). One of the two will be used. Which one is undefined.\n",
      "[1227/160403.593434:ERROR:command_buffer_proxy_impl.cc(128)] ContextResult::kTransientFailure: Failed to send GpuControl.CreateCommandBuffer.\n",
      "[1227/160404.495805:INFO:headless_shell.cc(623)] Written to file /Users/grahamwaters/Library/Mobile Documents/com~apple~CloudDocs/Mimikers/card_box/becca_hayton.png.\n"
     ]
    },
    {
     "name": "stdout",
     "output_type": "stream",
     "text": [
      "Generated card Becca Hayton at ./card_box/Becca_Hayton.png!\n"
     ]
    }
   ],
   "source": [
    "generate_physical_cards(options)\n",
    "print(\"Done\")"
   ]
  },
  {
   "cell_type": "code",
   "execution_count": null,
   "metadata": {},
   "outputs": [],
   "source": []
  }
 ],
 "metadata": {
  "kernelspec": {
   "display_name": "Python 3.9.6 ('groupme')",
   "language": "python",
   "name": "python3"
  },
  "language_info": {
   "codemirror_mode": {
    "name": "ipython",
    "version": 3
   },
   "file_extension": ".py",
   "mimetype": "text/x-python",
   "name": "python",
   "nbconvert_exporter": "python",
   "pygments_lexer": "ipython3",
   "version": "3.9.6"
  },
  "orig_nbformat": 4,
  "vscode": {
   "interpreter": {
    "hash": "28dd76f97a2595215b3511d9563b8125e93469ee739d17a6b25584482d270cb8"
   }
  }
 },
 "nbformat": 4,
 "nbformat_minor": 2
}
