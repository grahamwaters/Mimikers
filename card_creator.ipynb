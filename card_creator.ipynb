{
 "cells": [
  {
   "cell_type": "code",
   "execution_count": 462,
   "metadata": {},
   "outputs": [],
   "source": [
    "# !pip install html2image"
   ]
  },
  {
   "cell_type": "markdown",
   "metadata": {},
   "source": [
    "# Start Here"
   ]
  },
  {
   "cell_type": "code",
   "execution_count": 463,
   "metadata": {},
   "outputs": [],
   "source": [
    "import json\n",
    "import os\n",
    "import random\n",
    "import re\n",
    "import textwrap\n",
    "\n",
    "from html2image import Html2Image\n",
    "from nltk.corpus import stopwords, wordnet\n",
    "from nltk.metrics.distance import edit_distance\n",
    "import pytrends\n",
    "import nltk\n",
    "from tqdm import tqdm\n",
    "\n",
    "from sumy.nlp.stemmers import Stemmer\n",
    "from sumy.nlp.tokenizers import Tokenizer\n",
    "from sumy.parsers.plaintext import PlaintextParser\n",
    "from sumy.summarizers.lex_rank import LexRankSummarizer\n",
    "from sumy.summarizers.lsa import LsaSummarizer"
   ]
  },
  {
   "cell_type": "code",
   "execution_count": 464,
   "metadata": {},
   "outputs": [],
   "source": [
    "spell_check_flag = False"
   ]
  },
  {
   "cell_type": "code",
   "execution_count": 465,
   "metadata": {},
   "outputs": [],
   "source": [
    "stopwords = stopwords.words('english')"
   ]
  },
  {
   "cell_type": "code",
   "execution_count": 466,
   "metadata": {},
   "outputs": [],
   "source": [
    "import textstat\n",
    "\n",
    "def determine_grade_level(summary):\n",
    "    \"\"\"\n",
    "    determine_grade_level - generates a grade level for the given summary using the Flesch-Kincaid Grade Level formula\n",
    "\n",
    "    The Flesch-Kincaid Grade Level formula is a readability test designed to indicate how difficult a passage in English is to understand. The score is based on the average number of syllables per 100 words and the average number of words per sentence. The higher the score, the more difficult the text is to understand.\n",
    "\n",
    "    :param summary: _description_\n",
    "    :type summary: _type_\n",
    "    :return: _description_\n",
    "    :rtype: float\n",
    "    \"\"\"\n",
    "    grade_level = textstat.flesch_kincaid_grade(summary)\n",
    "    return grade_level"
   ]
  },
  {
   "cell_type": "code",
   "execution_count": 467,
   "metadata": {},
   "outputs": [],
   "source": [
    "with open('ppn_deck.json', 'r') as read_file:\n",
    "    card_deck = json.load(read_file)\n",
    "\n"
   ]
  },
  {
   "cell_type": "code",
   "execution_count": 468,
   "metadata": {},
   "outputs": [
    {
     "name": "stderr",
     "output_type": "stream",
     "text": [
      "100%|██████████| 7384/7384 [00:02<00:00, 3068.08it/s]\n"
     ]
    }
   ],
   "source": [
    "# for each of the cards, generate a grade_level score and add it to the json file under the key \"grade_level\"\n",
    "for card in tqdm(card_deck):\n",
    "    summary = card['summary']\n",
    "    grade_level = determine_grade_level(summary)\n",
    "    card['grade_level'] = grade_level"
   ]
  },
  {
   "cell_type": "code",
   "execution_count": 469,
   "metadata": {},
   "outputs": [],
   "source": [
    "# add length of summary to the df column \"summary_length\"\n",
    "import pandas as pd\n",
    "df = pd.DataFrame(card_deck)\n",
    "df['summary_length'] = df['summary'].apply(lambda x: len(x))\n"
   ]
  },
  {
   "cell_type": "code",
   "execution_count": 470,
   "metadata": {},
   "outputs": [
    {
     "data": {
      "text/html": [
       "<div>\n",
       "<style scoped>\n",
       "    .dataframe tbody tr th:only-of-type {\n",
       "        vertical-align: middle;\n",
       "    }\n",
       "\n",
       "    .dataframe tbody tr th {\n",
       "        vertical-align: top;\n",
       "    }\n",
       "\n",
       "    .dataframe thead th {\n",
       "        text-align: right;\n",
       "    }\n",
       "</style>\n",
       "<table border=\"1\" class=\"dataframe\">\n",
       "  <thead>\n",
       "    <tr style=\"text-align: right;\">\n",
       "      <th></th>\n",
       "      <th>title</th>\n",
       "      <th>summary</th>\n",
       "      <th>related</th>\n",
       "      <th>summary_short</th>\n",
       "      <th>summary_clean</th>\n",
       "      <th>point_value</th>\n",
       "      <th>grade_level</th>\n",
       "      <th>points_for_card</th>\n",
       "      <th>acronym</th>\n",
       "      <th>years_in_summary</th>\n",
       "      <th>years_in_title</th>\n",
       "      <th>points_by_year_mentioned</th>\n",
       "      <th>cleaned</th>\n",
       "      <th>summary_length</th>\n",
       "    </tr>\n",
       "  </thead>\n",
       "  <tbody>\n",
       "    <tr>\n",
       "      <th>0</th>\n",
       "      <td>Rosetta Cammeniti</td>\n",
       "      <td>Rosetta Cammeniti, Rosetta Rosie Cammeniti is ...</td>\n",
       "      <td>321</td>\n",
       "      <td>-  Rose  -  is a sectional character from the...</td>\n",
       "      <td>None</td>\n",
       "      <td>321</td>\n",
       "      <td>9.8</td>\n",
       "      <td>1.0</td>\n",
       "      <td>False</td>\n",
       "      <td>2</td>\n",
       "      <td>0</td>\n",
       "      <td>2</td>\n",
       "      <td>True</td>\n",
       "      <td>434</td>\n",
       "    </tr>\n",
       "    <tr>\n",
       "      <th>1</th>\n",
       "      <td>Spy Muppets: License to Croak</td>\n",
       "      <td>Spy Muppets: License to Croak, Spy Muppets: Li...</td>\n",
       "      <td>164</td>\n",
       "      <td>is an action video game, part of The Suppers f...</td>\n",
       "      <td>None</td>\n",
       "      <td>164</td>\n",
       "      <td>10.6</td>\n",
       "      <td>5.0</td>\n",
       "      <td>False</td>\n",
       "      <td>1</td>\n",
       "      <td>0</td>\n",
       "      <td>2</td>\n",
       "      <td>True</td>\n",
       "      <td>415</td>\n",
       "    </tr>\n",
       "    <tr>\n",
       "      <th>2</th>\n",
       "      <td>Fame in the 20th Century</td>\n",
       "      <td>Fame in the 20th Century, Fame in the 20th Cen...</td>\n",
       "      <td>591</td>\n",
       "      <td>is a 1993 BBC documentary television series an...</td>\n",
       "      <td>None</td>\n",
       "      <td>591</td>\n",
       "      <td>10.6</td>\n",
       "      <td>5.0</td>\n",
       "      <td>False</td>\n",
       "      <td>4</td>\n",
       "      <td>0</td>\n",
       "      <td>2</td>\n",
       "      <td>True</td>\n",
       "      <td>1143</td>\n",
       "    </tr>\n",
       "    <tr>\n",
       "      <th>3</th>\n",
       "      <td>Becca Hayton</td>\n",
       "      <td>Becca Hayton, Becca Dean also Hayton is a fict...</td>\n",
       "      <td>271</td>\n",
       "      <td>-  Mean also  -  is a sectional character fro...</td>\n",
       "      <td>None</td>\n",
       "      <td>271</td>\n",
       "      <td>10.1</td>\n",
       "      <td>5.0</td>\n",
       "      <td>False</td>\n",
       "      <td>2</td>\n",
       "      <td>0</td>\n",
       "      <td>2</td>\n",
       "      <td>True</td>\n",
       "      <td>209</td>\n",
       "    </tr>\n",
       "    <tr>\n",
       "      <th>4</th>\n",
       "      <td>Brigitte Bardot</td>\n",
       "      <td>Brigitte Bardot, Brigitte Anne-Marie Bardot li...</td>\n",
       "      <td>773</td>\n",
       "      <td>-  Anne-Marie  -  listen bring-EET bar-DOH; F...</td>\n",
       "      <td>None</td>\n",
       "      <td>773</td>\n",
       "      <td>9.8</td>\n",
       "      <td>3.0</td>\n",
       "      <td>False</td>\n",
       "      <td>13</td>\n",
       "      <td>0</td>\n",
       "      <td>2</td>\n",
       "      <td>True</td>\n",
       "      <td>2139</td>\n",
       "    </tr>\n",
       "  </tbody>\n",
       "</table>\n",
       "</div>"
      ],
      "text/plain": [
       "                           title  \\\n",
       "0              Rosetta Cammeniti   \n",
       "1  Spy Muppets: License to Croak   \n",
       "2       Fame in the 20th Century   \n",
       "3                   Becca Hayton   \n",
       "4                Brigitte Bardot   \n",
       "\n",
       "                                             summary related  \\\n",
       "0  Rosetta Cammeniti, Rosetta Rosie Cammeniti is ...     321   \n",
       "1  Spy Muppets: License to Croak, Spy Muppets: Li...     164   \n",
       "2  Fame in the 20th Century, Fame in the 20th Cen...     591   \n",
       "3  Becca Hayton, Becca Dean also Hayton is a fict...     271   \n",
       "4  Brigitte Bardot, Brigitte Anne-Marie Bardot li...     773   \n",
       "\n",
       "                                       summary_short summary_clean  \\\n",
       "0   -  Rose  -  is a sectional character from the...          None   \n",
       "1  is an action video game, part of The Suppers f...          None   \n",
       "2  is a 1993 BBC documentary television series an...          None   \n",
       "3   -  Mean also  -  is a sectional character fro...          None   \n",
       "4   -  Anne-Marie  -  listen bring-EET bar-DOH; F...          None   \n",
       "\n",
       "   point_value  grade_level  points_for_card  acronym  years_in_summary  \\\n",
       "0          321          9.8              1.0    False                 2   \n",
       "1          164         10.6              5.0    False                 1   \n",
       "2          591         10.6              5.0    False                 4   \n",
       "3          271         10.1              5.0    False                 2   \n",
       "4          773          9.8              3.0    False                13   \n",
       "\n",
       "   years_in_title  points_by_year_mentioned cleaned  summary_length  \n",
       "0               0                         2    True             434  \n",
       "1               0                         2    True             415  \n",
       "2               0                         2    True            1143  \n",
       "3               0                         2    True             209  \n",
       "4               0                         2    True            2139  "
      ]
     },
     "execution_count": 470,
     "metadata": {},
     "output_type": "execute_result"
    }
   ],
   "source": [
    "# convert the card_deck to a json file, to a df using pandas and then to a csv file\n",
    "with open(\"ppn_deck_cleaned.json\", \"w\") as write_file:\n",
    "    json.dump(card_deck, write_file, indent=4)\n",
    "\n",
    "# read card_deck from ppn_deck.json file\n",
    "# with open(\"ppn_deck.json\", \"r\") as read_file:\n",
    "# card_deck = json.load(read_file)\n",
    "with open(\"ppn_deck_cleaned.json\", \"r\") as read_file:\n",
    "    card_deck = json.load(read_file)\n",
    "    \n",
    "# convert card_deck to a pandas dataframe\n",
    "df.head()"
   ]
  },
  {
   "cell_type": "code",
   "execution_count": 471,
   "metadata": {},
   "outputs": [
    {
     "data": {
      "text/html": [
       "<div>\n",
       "<style scoped>\n",
       "    .dataframe tbody tr th:only-of-type {\n",
       "        vertical-align: middle;\n",
       "    }\n",
       "\n",
       "    .dataframe tbody tr th {\n",
       "        vertical-align: top;\n",
       "    }\n",
       "\n",
       "    .dataframe thead th {\n",
       "        text-align: right;\n",
       "    }\n",
       "</style>\n",
       "<table border=\"1\" class=\"dataframe\">\n",
       "  <thead>\n",
       "    <tr style=\"text-align: right;\">\n",
       "      <th></th>\n",
       "      <th>title</th>\n",
       "      <th>summary</th>\n",
       "      <th>related</th>\n",
       "      <th>summary_short</th>\n",
       "      <th>summary_clean</th>\n",
       "      <th>point_value</th>\n",
       "      <th>grade_level</th>\n",
       "      <th>points_for_card</th>\n",
       "      <th>acronym</th>\n",
       "      <th>years_in_summary</th>\n",
       "      <th>years_in_title</th>\n",
       "      <th>points_by_year_mentioned</th>\n",
       "      <th>cleaned</th>\n",
       "      <th>summary_length</th>\n",
       "    </tr>\n",
       "  </thead>\n",
       "  <tbody>\n",
       "    <tr>\n",
       "      <th>0</th>\n",
       "      <td>Rosetta Cammeniti</td>\n",
       "      <td>Rosetta Cammeniti, Rosetta Rosie Cammeniti is ...</td>\n",
       "      <td>321</td>\n",
       "      <td>-  Rose  -  is a sectional character from the...</td>\n",
       "      <td>None</td>\n",
       "      <td>321</td>\n",
       "      <td>9.8</td>\n",
       "      <td>1</td>\n",
       "      <td>False</td>\n",
       "      <td>2</td>\n",
       "      <td>0</td>\n",
       "      <td>2</td>\n",
       "      <td>True</td>\n",
       "      <td>434</td>\n",
       "    </tr>\n",
       "    <tr>\n",
       "      <th>1</th>\n",
       "      <td>Spy Muppets: License to Croak</td>\n",
       "      <td>Spy Muppets: License to Croak, Spy Muppets: Li...</td>\n",
       "      <td>164</td>\n",
       "      <td>is an action video game, part of The Suppers f...</td>\n",
       "      <td>None</td>\n",
       "      <td>164</td>\n",
       "      <td>10.6</td>\n",
       "      <td>5</td>\n",
       "      <td>False</td>\n",
       "      <td>1</td>\n",
       "      <td>0</td>\n",
       "      <td>2</td>\n",
       "      <td>True</td>\n",
       "      <td>415</td>\n",
       "    </tr>\n",
       "    <tr>\n",
       "      <th>2</th>\n",
       "      <td>Fame in the 20th Century</td>\n",
       "      <td>Fame in the 20th Century, Fame in the 20th Cen...</td>\n",
       "      <td>591</td>\n",
       "      <td>is a 1993 BBC documentary television series an...</td>\n",
       "      <td>None</td>\n",
       "      <td>591</td>\n",
       "      <td>10.6</td>\n",
       "      <td>5</td>\n",
       "      <td>False</td>\n",
       "      <td>4</td>\n",
       "      <td>0</td>\n",
       "      <td>2</td>\n",
       "      <td>True</td>\n",
       "      <td>1143</td>\n",
       "    </tr>\n",
       "    <tr>\n",
       "      <th>3</th>\n",
       "      <td>Becca Hayton</td>\n",
       "      <td>Becca Hayton, Becca Dean also Hayton is a fict...</td>\n",
       "      <td>271</td>\n",
       "      <td>-  Mean also  -  is a sectional character fro...</td>\n",
       "      <td>None</td>\n",
       "      <td>271</td>\n",
       "      <td>10.1</td>\n",
       "      <td>5</td>\n",
       "      <td>False</td>\n",
       "      <td>2</td>\n",
       "      <td>0</td>\n",
       "      <td>2</td>\n",
       "      <td>True</td>\n",
       "      <td>209</td>\n",
       "    </tr>\n",
       "    <tr>\n",
       "      <th>4</th>\n",
       "      <td>Brigitte Bardot</td>\n",
       "      <td>Brigitte Bardot, Brigitte Anne-Marie Bardot li...</td>\n",
       "      <td>773</td>\n",
       "      <td>-  Anne-Marie  -  listen bring-EET bar-DOH; F...</td>\n",
       "      <td>None</td>\n",
       "      <td>773</td>\n",
       "      <td>9.8</td>\n",
       "      <td>3</td>\n",
       "      <td>False</td>\n",
       "      <td>13</td>\n",
       "      <td>0</td>\n",
       "      <td>2</td>\n",
       "      <td>True</td>\n",
       "      <td>2139</td>\n",
       "    </tr>\n",
       "  </tbody>\n",
       "</table>\n",
       "</div>"
      ],
      "text/plain": [
       "                           title  \\\n",
       "0              Rosetta Cammeniti   \n",
       "1  Spy Muppets: License to Croak   \n",
       "2       Fame in the 20th Century   \n",
       "3                   Becca Hayton   \n",
       "4                Brigitte Bardot   \n",
       "\n",
       "                                             summary related  \\\n",
       "0  Rosetta Cammeniti, Rosetta Rosie Cammeniti is ...     321   \n",
       "1  Spy Muppets: License to Croak, Spy Muppets: Li...     164   \n",
       "2  Fame in the 20th Century, Fame in the 20th Cen...     591   \n",
       "3  Becca Hayton, Becca Dean also Hayton is a fict...     271   \n",
       "4  Brigitte Bardot, Brigitte Anne-Marie Bardot li...     773   \n",
       "\n",
       "                                       summary_short summary_clean  \\\n",
       "0   -  Rose  -  is a sectional character from the...          None   \n",
       "1  is an action video game, part of The Suppers f...          None   \n",
       "2  is a 1993 BBC documentary television series an...          None   \n",
       "3   -  Mean also  -  is a sectional character fro...          None   \n",
       "4   -  Anne-Marie  -  listen bring-EET bar-DOH; F...          None   \n",
       "\n",
       "   point_value  grade_level  points_for_card  acronym  years_in_summary  \\\n",
       "0          321          9.8                1    False                 2   \n",
       "1          164         10.6                5    False                 1   \n",
       "2          591         10.6                5    False                 4   \n",
       "3          271         10.1                5    False                 2   \n",
       "4          773          9.8                3    False                13   \n",
       "\n",
       "   years_in_title  points_by_year_mentioned cleaned  summary_length  \n",
       "0               0                         2    True             434  \n",
       "1               0                         2    True             415  \n",
       "2               0                         2    True            1143  \n",
       "3               0                         2    True             209  \n",
       "4               0                         2    True            2139  "
      ]
     },
     "execution_count": 471,
     "metadata": {},
     "output_type": "execute_result"
    }
   ],
   "source": [
    "# points for the card should be calculated by the following formula:\n",
    "# - the higher the grade level of the card, the higher the points.\n",
    "# - the more words in the summary, the lower the points.\n",
    "# - cards with longer titles should have higher points.\n",
    "# - cards with Acronyms should have higher points.\n",
    "\n",
    "# create a new column in the dataframe called \"points_for_card\"\n",
    "df['points_for_card'] = 0\n",
    "df['acronym'] = False # this will need to be updated later to determine if the card has an acronym or not\n",
    "\n",
    "def determine_points(card):\n",
    "    # determine the points for the card based on the following formula:\n",
    "    # - the higher the grade level of the card, the higher the points.\n",
    "    # - the more words in the summary, the lower the points.\n",
    "    # - cards with longer titles should have higher points.\n",
    "    # - cards with Acronyms should have higher points.\n",
    "    grade_level = card['grade_level']\n",
    "    summary = card['summary']\n",
    "    title = card['title']\n",
    "    acronym = card['acronym']\n",
    "    related_pages = card['related']\n",
    "    points = 0\n",
    "    # - the higher the grade level of the card, the higher the points.\n",
    "    # all _score variables will be between 0 and 100\n",
    "    grade_score = grade_level\n",
    "    # - the more words in the summary, the lower the points.\n",
    "    summary_score = len(summary.split())\n",
    "    # - cards with longer titles should have higher points.\n",
    "    title_score = len(title.split())\n",
    "    # - cards with Acronyms should have higher points.\n",
    "    acronym_score = 0\n",
    "    if acronym:\n",
    "        acronym_score = 1\n",
    "    # - cards with related pages should have higher points.\n",
    "    try:\n",
    "        related_pages_score = int(related_pages)\n",
    "    except ValueError:\n",
    "        related_pages_score = 0\n",
    "    except Exception:\n",
    "        related_pages_score = 0\n",
    "    #print(grade_score)\n",
    "    #print(summary_score)\n",
    "    #print(title_score)\n",
    "    #print(acronym_score)\n",
    "\n",
    "    #print(related_pages_score)\n",
    "\n",
    "    # calculate the points\n",
    "    points = grade_score + summary_score + title_score + acronym_score + related_pages_score\n",
    "    #print(points)\n",
    "\n",
    "    return int(points)\n",
    "\n",
    "# apply the determine_points function to each of the cards in the dataframe\n",
    "df['points_for_card'] = df.apply(determine_points, axis=1)\n",
    "# now scale the points_for_card column to be between 1 and 10, and round to the nearest integer\n",
    "df['points_for_card'] = df['points_for_card'].apply(lambda x: round((x - df['points_for_card'].min()) / (df['points_for_card'].max() - df['points_for_card'].min()) * 10))\n",
    "# replace any points_for_card values that are 0 with 1\n",
    "df['points_for_card'] = df['points_for_card'].apply(lambda x: 1 if x == 0 else x)\n",
    "# no card with a grade level above 10 should have a points_for_card value less than 5\n",
    "df['points_for_card'] = df.apply(lambda x: 5 if x['grade_level'] > 10 and x['points_for_card'] < 5 else x['points_for_card'], axis=1)\n",
    "df.head()"
   ]
  },
  {
   "cell_type": "code",
   "execution_count": 472,
   "metadata": {},
   "outputs": [
    {
     "data": {
      "text/html": [
       "<div>\n",
       "<style scoped>\n",
       "    .dataframe tbody tr th:only-of-type {\n",
       "        vertical-align: middle;\n",
       "    }\n",
       "\n",
       "    .dataframe tbody tr th {\n",
       "        vertical-align: top;\n",
       "    }\n",
       "\n",
       "    .dataframe thead th {\n",
       "        text-align: right;\n",
       "    }\n",
       "</style>\n",
       "<table border=\"1\" class=\"dataframe\">\n",
       "  <thead>\n",
       "    <tr style=\"text-align: right;\">\n",
       "      <th></th>\n",
       "      <th>title</th>\n",
       "      <th>summary</th>\n",
       "      <th>related</th>\n",
       "      <th>summary_short</th>\n",
       "      <th>summary_clean</th>\n",
       "      <th>point_value</th>\n",
       "      <th>grade_level</th>\n",
       "      <th>points_for_card</th>\n",
       "      <th>acronym</th>\n",
       "      <th>years_in_summary</th>\n",
       "      <th>years_in_title</th>\n",
       "      <th>points_by_year_mentioned</th>\n",
       "      <th>cleaned</th>\n",
       "      <th>summary_length</th>\n",
       "    </tr>\n",
       "  </thead>\n",
       "  <tbody>\n",
       "    <tr>\n",
       "      <th>0</th>\n",
       "      <td>Rosetta Cammeniti</td>\n",
       "      <td>Rosetta Cammeniti, Rosetta Rosie Cammeniti is ...</td>\n",
       "      <td>321</td>\n",
       "      <td>-  Rose  -  is a sectional character from the...</td>\n",
       "      <td>None</td>\n",
       "      <td>321</td>\n",
       "      <td>9.8</td>\n",
       "      <td>1</td>\n",
       "      <td>False</td>\n",
       "      <td>2</td>\n",
       "      <td>0</td>\n",
       "      <td>2</td>\n",
       "      <td>True</td>\n",
       "      <td>434</td>\n",
       "    </tr>\n",
       "    <tr>\n",
       "      <th>1</th>\n",
       "      <td>Spy Muppets: License to Croak</td>\n",
       "      <td>Spy Muppets: License to Croak, Spy Muppets: Li...</td>\n",
       "      <td>164</td>\n",
       "      <td>is an action video game, part of The Suppers f...</td>\n",
       "      <td>None</td>\n",
       "      <td>164</td>\n",
       "      <td>10.6</td>\n",
       "      <td>5</td>\n",
       "      <td>False</td>\n",
       "      <td>1</td>\n",
       "      <td>0</td>\n",
       "      <td>2</td>\n",
       "      <td>True</td>\n",
       "      <td>415</td>\n",
       "    </tr>\n",
       "    <tr>\n",
       "      <th>2</th>\n",
       "      <td>Fame in the 20th Century</td>\n",
       "      <td>Fame in the 20th Century, Fame in the 20th Cen...</td>\n",
       "      <td>591</td>\n",
       "      <td>is a 1993 BBC documentary television series an...</td>\n",
       "      <td>None</td>\n",
       "      <td>591</td>\n",
       "      <td>10.6</td>\n",
       "      <td>5</td>\n",
       "      <td>False</td>\n",
       "      <td>4</td>\n",
       "      <td>0</td>\n",
       "      <td>2</td>\n",
       "      <td>True</td>\n",
       "      <td>1143</td>\n",
       "    </tr>\n",
       "    <tr>\n",
       "      <th>3</th>\n",
       "      <td>Becca Hayton</td>\n",
       "      <td>Becca Hayton, Becca Dean also Hayton is a fict...</td>\n",
       "      <td>271</td>\n",
       "      <td>-  Mean also  -  is a sectional character fro...</td>\n",
       "      <td>None</td>\n",
       "      <td>271</td>\n",
       "      <td>10.1</td>\n",
       "      <td>5</td>\n",
       "      <td>False</td>\n",
       "      <td>2</td>\n",
       "      <td>0</td>\n",
       "      <td>2</td>\n",
       "      <td>True</td>\n",
       "      <td>209</td>\n",
       "    </tr>\n",
       "    <tr>\n",
       "      <th>4</th>\n",
       "      <td>Brigitte Bardot</td>\n",
       "      <td>Brigitte Bardot, Brigitte Anne-Marie Bardot li...</td>\n",
       "      <td>773</td>\n",
       "      <td>-  Anne-Marie  -  listen bring-EET bar-DOH; F...</td>\n",
       "      <td>None</td>\n",
       "      <td>773</td>\n",
       "      <td>9.8</td>\n",
       "      <td>3</td>\n",
       "      <td>False</td>\n",
       "      <td>13</td>\n",
       "      <td>0</td>\n",
       "      <td>2</td>\n",
       "      <td>True</td>\n",
       "      <td>2139</td>\n",
       "    </tr>\n",
       "  </tbody>\n",
       "</table>\n",
       "</div>"
      ],
      "text/plain": [
       "                           title  \\\n",
       "0              Rosetta Cammeniti   \n",
       "1  Spy Muppets: License to Croak   \n",
       "2       Fame in the 20th Century   \n",
       "3                   Becca Hayton   \n",
       "4                Brigitte Bardot   \n",
       "\n",
       "                                             summary related  \\\n",
       "0  Rosetta Cammeniti, Rosetta Rosie Cammeniti is ...     321   \n",
       "1  Spy Muppets: License to Croak, Spy Muppets: Li...     164   \n",
       "2  Fame in the 20th Century, Fame in the 20th Cen...     591   \n",
       "3  Becca Hayton, Becca Dean also Hayton is a fict...     271   \n",
       "4  Brigitte Bardot, Brigitte Anne-Marie Bardot li...     773   \n",
       "\n",
       "                                       summary_short summary_clean  \\\n",
       "0   -  Rose  -  is a sectional character from the...          None   \n",
       "1  is an action video game, part of The Suppers f...          None   \n",
       "2  is a 1993 BBC documentary television series an...          None   \n",
       "3   -  Mean also  -  is a sectional character fro...          None   \n",
       "4   -  Anne-Marie  -  listen bring-EET bar-DOH; F...          None   \n",
       "\n",
       "   point_value  grade_level  points_for_card  acronym  years_in_summary  \\\n",
       "0          321          9.8                1    False                 2   \n",
       "1          164         10.6                5    False                 1   \n",
       "2          591         10.6                5    False                 4   \n",
       "3          271         10.1                5    False                 2   \n",
       "4          773          9.8                3    False                13   \n",
       "\n",
       "   years_in_title  points_by_year_mentioned cleaned  summary_length  \n",
       "0               0                         2    True             434  \n",
       "1               0                         2    True             415  \n",
       "2               0                         2    True            1143  \n",
       "3               0                         2    True             209  \n",
       "4               0                         2    True            2139  "
      ]
     },
     "execution_count": 472,
     "metadata": {},
     "output_type": "execute_result"
    }
   ],
   "source": [
    "# look for years in the summary and title. Older cards should have higher points, so we will add 1 point for each year found in the summary and title (this will be scaled later)\n",
    "import re\n",
    "df['years_in_summary'] = df['summary'].apply(lambda x: len(re.findall(r'\\d{4}', x)))\n",
    "df['years_in_title'] = df['title'].apply(lambda x: len(re.findall(r'\\d{4}', x)))\n",
    "def points_by_year_mentioned(this_card,years_in_deck):\n",
    "    # assign higher points for years that are older (i.e 1980 has higher points than 2010 etc.) This is on a scale so highest points are for the oldest years.\n",
    "    # this card may mention multiple years, so we will add the points for each year mentioned by where it falls in the scale of years in the deck.\n",
    "    # for example, if the card mentions 1980 and 2010, and the deck has cards from 1980 to 2020, then the points for the card will be 1 + 10 = 11\n",
    "    points = 0\n",
    "    years_in_summary = this_card['years_in_summary']\n",
    "    years_in_title = this_card['years_in_title']\n",
    "    years_mentioned = years_in_summary + years_in_title\n",
    "    if years_mentioned > 0:\n",
    "        # get the year mentioned in the summary and title\n",
    "        years = re.findall(r'\\d{4}', this_card['summary']) + re.findall(r'\\d{4}', this_card['title'])\n",
    "        # convert the years to integers\n",
    "        years = [int(x) for x in years]\n",
    "        # get the min and max year in the deck\n",
    "        min_year = min(years_in_deck)\n",
    "        max_year = max(years_in_deck)\n",
    "        # get the range of years in the deck\n",
    "        range_of_years = max_year - min_year\n",
    "        # get the range of points\n",
    "        range_of_points = 10\n",
    "        # get the points for each year mentioned\n",
    "        for year in years:\n",
    "            points_for_year = round((year - min_year) / range_of_years * range_of_points)\n",
    "            points += points_for_year\n",
    "    return points\n",
    "\n",
    "# get the years in the deck by looking at all summaries and titles for years and getting the unique years mentioned. years are between 1950 and 2022.\n",
    "years_in_deck = []\n",
    "for index, row in df.iterrows():\n",
    "    years_in_deck += re.findall(r'\\d{4}', row['summary'])\n",
    "    years_in_deck += re.findall(r'\\d{4}', row['title'])\n",
    "# convert the years to integers\n",
    "years_in_deck = [int(x) for x in years_in_deck]\n",
    "# get the unique years\n",
    "years_in_deck = list(set([int(x) for x in years_in_deck]))\n",
    "# sort the years\n",
    "years_in_deck.sort()\n",
    "# filter out years that are not between 1950 and 2022\n",
    "years_in_deck = [x for x in years_in_deck if x >= 1950 and x <= 2022]\n",
    "# print(years_in_deck)\n",
    "# apply the points_by_year_mentioned function to each of the cards in the dataframe\n",
    "df['points_by_year_mentioned'] = df.apply(lambda x: points_by_year_mentioned(x,years_in_deck), axis=1)\n",
    "\n",
    "# now scale the points_by_year_mentioned column to be between 1 and 10, and round to the nearest integer\n",
    "df['points_by_year_mentioned'] = df['points_by_year_mentioned'].apply(lambda x: round((x - df['points_by_year_mentioned'].min()) / (df['points_by_year_mentioned'].max() - df['points_by_year_mentioned'].min()) * 10))\n",
    "# replace any points_by_year_mentioned values that are 0 with 1\n",
    "df['points_by_year_mentioned'] = df['points_by_year_mentioned'].apply(lambda x: 1 if x == 0 else x)\n",
    "\n",
    "# now add the points_by_year_mentioned to the points_for_card\n",
    "df['points_for_card'] = df['points_for_card'] + df['points_by_year_mentioned']\n",
    "# now scale the points_for_card column to be between 1 and 10, and round to the nearest integer\n",
    "df['points_for_card'] = df['points_for_card'].apply(lambda x: round((x - df['points_for_card'].min()) / (df['points_for_card'].max() - df['points_for_card'].min()) * 10))\n",
    "# replace any points_for_card values that are 0 with 1\n",
    "df['points_for_card'] = df['points_for_card'].apply(lambda x: 1 if x == 0 else x)\n",
    "df.head()"
   ]
  },
  {
   "cell_type": "code",
   "execution_count": 473,
   "metadata": {},
   "outputs": [
    {
     "data": {
      "image/png": "[encoded data removed]",
      "text/plain": [
       "<Figure size 640x480 with 1 Axes>"
      ]
     },
     "metadata": {},
     "output_type": "display_data"
    }
   ],
   "source": [
    "# remove cards that are beyond the 95th percentile using IQR method\n",
    "# calculate the 95th percentile\n",
    "grade_level_95th_percentile = df['grade_level'].quantile(0.95)\n",
    "# remove cards that are beyond the 95th percentile\n",
    "df = df[df['grade_level'] < grade_level_95th_percentile]\n",
    "# remove any cards with negative point values or grade levels\n",
    "df = df[df['point_value'] > 0]\n",
    "df = df[df['grade_level'] > 0]\n",
    "# show the distribution of grade levels\n",
    "\n",
    "# plot grade levels vs point values\n",
    "import matplotlib.pyplot as plt\n",
    "plt.scatter(df['grade_level'], df['points_for_card'], color='red', alpha=0.5, s=1)\n",
    "plt.xlabel('Grade Level')\n",
    "plt.ylabel('Point Value (points_for_card)')\n",
    "plt.show()"
   ]
  },
  {
   "cell_type": "code",
   "execution_count": 474,
   "metadata": {},
   "outputs": [
    {
     "data": {
      "image/png": "[encoded data removed]",
      "text/plain": [
       "<Figure size 640x480 with 1 Axes>"
      ]
     },
     "metadata": {},
     "output_type": "display_data"
    }
   ],
   "source": [
    "# use min-max normalization to normalize the point values\n",
    "# calculate the min and max point values\n",
    "min_point_value = df['points_for_card'].min()\n",
    "max_point_value = df['points_for_card'].max()\n",
    "# normalize the point values\n",
    "df['points_for_card'] = (df['points_for_card'] - min_point_value) / (max_point_value - min_point_value)\n",
    "# plot grade levels vs point values\n",
    "import matplotlib.pyplot as plt\n",
    "plt.scatter(df['grade_level'], df['points_for_card'], color='red', alpha=0.5, s=1)\n",
    "plt.xlabel('Grade Level')\n",
    "plt.ylabel('Point Value (points_for_card)')\n",
    "plt.show()\n"
   ]
  },
  {
   "cell_type": "code",
   "execution_count": 475,
   "metadata": {},
   "outputs": [
    {
     "data": {
      "image/png": "[encoded data removed]",
      "text/plain": [
       "<Figure size 640x480 with 1 Axes>"
      ]
     },
     "metadata": {},
     "output_type": "display_data"
    }
   ],
   "source": [
    "# now use minmaxscaler to normalize the point values between 0, and 10 by steps of 1 (i.e. 0, 1, 2, 3, 4, 5, 6, 7, 8, 9, 10) using rounding to the nearest integer. This will be used to generate the point values for the cards.\n",
    "from sklearn.preprocessing import MinMaxScaler\n",
    "import numpy as np\n",
    "# create a MinMaxScaler object\n",
    "scaler = MinMaxScaler(feature_range=(1, 10))\n",
    "# fit the scaler to the point values\n",
    "scaler.fit(df[['points_for_card']])\n",
    "# transform the point values\n",
    "df['points_for_card'] = scaler.transform(df[['points_for_card']])\n",
    "# round the point values to the nearest integer\n",
    "df['points_for_card'] = df['points_for_card'].round()\n",
    "# plot grade levels vs point values\n",
    "import matplotlib.pyplot as plt\n",
    "plt.scatter(df['grade_level'], df['points_for_card'], color='red', alpha=0.5, s=1)\n",
    "plt.xlabel('Grade Level')\n",
    "plt.ylabel('Point Value (points_for_card)')\n",
    "plt.show()"
   ]
  },
  {
   "cell_type": "code",
   "execution_count": 476,
   "metadata": {},
   "outputs": [],
   "source": [
    "# save the dataframe to a json file in place of the ppn_deck.json file\n",
    "df.to_json('ppn_deck.json', orient='records')\n"
   ]
  },
  {
   "cell_type": "markdown",
   "metadata": {},
   "source": [
    "---"
   ]
  },
  {
   "cell_type": "code",
   "execution_count": 477,
   "metadata": {},
   "outputs": [],
   "source": [
    "# now remove any cards with profanity in the title or summary\n",
    "# !pip install sklearn --upgrade\n",
    "# !pip install joblib --upgrade\n",
    "# !pip install scipy --upgrade\n",
    "# !pip install alt-profanity-check\n",
    "\n",
    "from profanity_check import predict, predict_prob\n",
    "\n",
    "# if the probability of profanity is greater than 0.7, then remove the card."
   ]
  },
  {
   "cell_type": "markdown",
   "metadata": {},
   "source": [
    "---"
   ]
  },
  {
   "cell_type": "code",
   "execution_count": 478,
   "metadata": {},
   "outputs": [],
   "source": [
    "def clear_card_box(card_box_directory):\n",
    "    for file in os.listdir(card_box_directory):\n",
    "        os.remove(os.path.join(card_box_directory, file))\n",
    "\n",
    "# clear the card box directory\n",
    "clear_card_box('new_card_box')"
   ]
  },
  {
   "cell_type": "code",
   "execution_count": 479,
   "metadata": {},
   "outputs": [],
   "source": [
    "from PIL import Image\n",
    "\n",
    "def crop_image(input_file, output_file):\n",
    "    # Open the input image\n",
    "    img = Image.open(input_file)\n",
    "\n",
    "    # Crop the image to maintain a 14px buffer on the left, top, bottom, and right\n",
    "    # of a rectangle that is 1182px wide and 1779px tall, starting from the upper left\n",
    "    left = 14 # buffer\n",
    "    cropped_img = img.crop((left, 14, 1182+left, 1779+left))\n",
    "\n",
    "    # Save the cropped image to the specified output file\n",
    "    cropped_img.save(output_file)\n"
   ]
  },
  {
   "cell_type": "code",
   "execution_count": 480,
   "metadata": {},
   "outputs": [],
   "source": [
    "with open('card_html.txt', 'r') as f:\n",
    "    html_template = f.read()"
   ]
  },
  {
   "cell_type": "code",
   "execution_count": 481,
   "metadata": {},
   "outputs": [],
   "source": [
    "# using contextual spell checking\n",
    "# verify that python -m spacy download en_core_web_sm has been run\n",
    "#!python -m spacy download en_core_web_sm\n",
    "\n",
    "#!pip install textblob\n",
    "from textblob import TextBlob\n",
    "#!pip install autocorrect \n",
    "from autocorrect import Speller # for spell checking"
   ]
  },
  {
   "cell_type": "code",
   "execution_count": 482,
   "metadata": {},
   "outputs": [],
   "source": [
    "# import spacy\n",
    "\n",
    "\n",
    "# import contextualSpellCheck\n",
    "# nlp = spacy.load('en_core_web_sm')\n",
    "# contextualSpellCheck.add_to_pipe(nlp)"
   ]
  },
  {
   "cell_type": "code",
   "execution_count": 483,
   "metadata": {},
   "outputs": [],
   "source": [
    "import re\n",
    "import textblob"
   ]
  },
  {
   "cell_type": "code",
   "execution_count": 484,
   "metadata": {},
   "outputs": [
    {
     "name": "stderr",
     "output_type": "stream",
     "text": [
      "<>:84: SyntaxWarning: assertion is always true, perhaps remove parentheses?\n",
      "<>:209: SyntaxWarning: assertion is always true, perhaps remove parentheses?\n",
      "<>:271: SyntaxWarning: assertion is always true, perhaps remove parentheses?\n",
      "<>:84: SyntaxWarning: assertion is always true, perhaps remove parentheses?\n",
      "<>:209: SyntaxWarning: assertion is always true, perhaps remove parentheses?\n",
      "<>:271: SyntaxWarning: assertion is always true, perhaps remove parentheses?\n",
      "/var/folders/34/d1tlq3k91hb0lj6x90xpzb4r0000gn/T/ipykernel_96892/564036921.py:84: SyntaxWarning: assertion is always true, perhaps remove parentheses?\n",
      "  assert(len(description) > 0, \"There is no Description\") # make sure the description is not empty\n",
      "/var/folders/34/d1tlq3k91hb0lj6x90xpzb4r0000gn/T/ipykernel_96892/564036921.py:209: SyntaxWarning: assertion is always true, perhaps remove parentheses?\n",
      "  assert('summary' in card.keys(), 'Card does not have a summary!')\n",
      "/var/folders/34/d1tlq3k91hb0lj6x90xpzb4r0000gn/T/ipykernel_96892/564036921.py:271: SyntaxWarning: assertion is always true, perhaps remove parentheses?\n",
      "  assert(len(cleaned_string) > 0, 'Cleaned string is empty!')\n"
     ]
    }
   ],
   "source": [
    "\n",
    "def summarize_text(text, num_sentences):\n",
    "    \"\"\"\n",
    "    Summarize the given text using the LSA or LexRank summarization algorithms and return the summary as a string\n",
    "    \"\"\"\n",
    "    # create a PlaintextParser object to parse the text\n",
    "    parser = PlaintextParser.from_string(text, Tokenizer(\"english\"))\n",
    "    # choose a summarization algorithm\n",
    "    # algorithm = LsaSummarizer()\n",
    "    algorithm = LexRankSummarizer()\n",
    "\n",
    "    # summarize the text and return the summary as a string\n",
    "    summary = algorithm(parser.document, num_sentences)\n",
    "    summary_text = \"\\n\".join([str(sentence) for sentence in summary])\n",
    "\n",
    "    return summary_text\n",
    "\n",
    "def generate_card(title: str, description: str, points: str, html_template: str,  name: str, links_on_wikipedia: str, category = 'Wild Card'):\n",
    "    filename = '{}.png'.format(title.replace(' ', '_'))\n",
    "    if os.path.exists('./card_box/{}'.format(filename)) and 'Test_Card' not in filename:\n",
    "        print(f'Card {title} already exists, skipping...')\n",
    "        return # skip this card if it already exists\n",
    "    # Set the dimensions in centimeters\n",
    "    \n",
    "    #todo - make the color of the card dependent on the number of links on wikipedia\n",
    "    # the shade of green represents the number of links on wikipedia\n",
    "    # the darker the green, the more links on wikipedia\n",
    "    # the lighter the green, the fewer links on wikipedia\n",
    "    # the color is a hex code that is a combination of the red, green, and blue values\n",
    "    # the red value is 0\n",
    "    # the green value is 255 - 255 * (links_on_wikipedia / 100)\n",
    "    # the blue value is 0\n",
    "    #colorcode = int(255 - 255 * (links_on_wikipedia / 100))\n",
    "    #card_color = '#{:02x}{:02x}{:02x}'.format(0, colorcode, 0)\n",
    "    # color_code = 'green'\n",
    "    width_cm = 5.5\n",
    "    height_cm = 8.5\n",
    "    card_color = 'green'\n",
    "    # Convert the dimensions to pixels\n",
    "    # 1 cm is equal to 96 pixels\n",
    "    width_pixels = int(width_cm * 96)\n",
    "    height_pixels = int(height_cm * 96)\n",
    "    points = int(points) # removes the decimal point\n",
    "    points = str(points) # now it's a string\n",
    "    links_on_wikipedia = str(links_on_wikipedia)\n",
    "    # replace the placeholders with the actual values\n",
    "    html = html_template\n",
    "\n",
    "    # replace the category in the description with 'THIS'\n",
    "\n",
    "    # if the title has a \"(\" something \")\" in it then that something is the category of the card, remove it from the title, and assign the category to the category variable.\n",
    "    if '(' in title and ')' in title:\n",
    "        category = title[title.index('(')+1:title.index(')')]\n",
    "        title = title.replace('({})'.format(category), '')\n",
    "        category = category.strip()\n",
    "    # if the title has a \"[\" something \"]\" in it then that something is the category of the card, remove it from the title, and assign the category to the category variable.\n",
    "    elif '[' in title and ']' in title:\n",
    "        category = title[title.index('[')+1:title.index(']')]\n",
    "        title = title.replace('[{}]'.format(category), '')\n",
    "        category = category.strip()\n",
    "    # if the title has a \"{\" something \"}\" in it then that something is the category of the card, remove it from the title, and assign the category to the category variable.\n",
    "    else:\n",
    "        if category == 'other':\n",
    "            category = 'Wild Card'\n",
    "\n",
    "    title_bigrams = list(nltk.bigrams(title.split(' '))) # get the bigrams of the title (e.g. ['this', 'is'] and ['is', 'a'] for the title 'this is a title')\n",
    "    # get the bigrams with no stopwords\n",
    "    stopwords = nltk.corpus.stopwords.words('english')\n",
    "    title_bigrams = [bigram for bigram in title_bigrams if bigram[0] not in stopwords and bigram[1] not in stopwords]\n",
    "\n",
    "    # for each bigram in the title, if the bigram is in the description, replace it with ' this {} '.format(category)\n",
    "    for bigram in title_bigrams:\n",
    "        bigram = ' '.join(bigram)\n",
    "        if bigram in description:\n",
    "            description = description.replace(bigram, ' This {} '.format(category))\n",
    "    # also, in the description, remove the ' - ' phrase and replace it with 'SUBJECT'\n",
    "    description = description.replace(' - ', ' ')\n",
    "    # keep removing double spaces until there are no more double spaces in the description.\n",
    "    def format_description(description):\n",
    "        while '  ' in description:\n",
    "            description = description.replace('  ', ' ')\n",
    "\n",
    "    description = clean_string(description) # clean the description\n",
    "\n",
    "    assert(len(description) > 0, \"There is no Description\") # make sure the description is not empty\n",
    "    html = html.replace('CARD_TITLE', title)\n",
    "    html = html.replace('CARD_DESCRIPTION', description)\n",
    "    html = html.replace('CARD_CATEGORY', category)\n",
    "    html = html.replace('CARD_POINTS', str(points))\n",
    "    html = html.replace('CARD_NAME',str(title))\n",
    "    html = html.replace('CARD_COLOR',str(card_color))\n",
    "    # replace the width_pixels and height_pixels with the actual values\n",
    "    html = html.replace('WIDTH_PIXELS',str(width_pixels))\n",
    "    html = html.replace('HEIGHT_PIXELS',str(height_pixels))\n",
    "    html = html.replace('WIKILINKS',str(links_on_wikipedia))\n",
    "    # Create an Html2Image object\n",
    "    hti = Html2Image()\n",
    "\n",
    "    # Generate a screenshot of the HTML content and save it to a file\n",
    "    output_path = './card_box/'\n",
    "    if not os.path.exists(output_path):\n",
    "        os.makedirs(output_path)\n",
    "    \n",
    "    savepath = os.path.join(output_path, filename)\n",
    "    hti.output_path = output_path\n",
    "\n",
    "\n",
    "    # Generate the image\n",
    "    # make the filename the title of the card, with underscores instead of spaces, and no punctuation or special characters.\n",
    "    filename = '{}.png'.format(title.replace(' ', '_')) # make the filename the title of the card, with underscores instead of spaces, and no punctuation or special characters.\n",
    "    filename = filename.lower()\n",
    "    hti.screenshot(html_str=html, save_as=filename)\n",
    "    # Crop the image (at the filename (path))\n",
    "    print(f'Generated card {title} at {savepath}!')\n",
    "    \n",
    "    savepath_out = './new_card_box/{}.png'.format(title.replace(' ', '_').replace('.', '').replace(',', '').replace(';', '').replace(':', '').replace('?', '').replace('!', '').replace('-', '').replace('\"', '').replace(\"'\", '').replace('(', '').replace(')', '')).lower() # make the filename the title of the card, with underscores instead of spaces, and no punctuation or special characters.\n",
    "    crop_image(savepath, savepath_out)\n",
    "    # delete the original image\n",
    "    os.remove(savepath)\n",
    "    print(f'Cropped card {title} at {savepath}!')\n",
    "\n",
    "def run_spell_check_on_cards(nlp):\n",
    "    #note: this function takes a long time to run, very top heavy\n",
    "    # open the json file\n",
    "    with open('ppn_deck.json', 'r') as f:\n",
    "        card_deck = json.load(f)\n",
    "    \n",
    "    # loop through the cards\n",
    "    for card in tqdm(card_deck):\n",
    "        # get the summary\n",
    "        summary = card['summary_short']\n",
    "        if isinstance(summary, list):\n",
    "            summary = summary[1]\n",
    "\n",
    "        # using contextualSpellCheck to correct the spelling\n",
    "        doc = nlp(summary)\n",
    "        if doc._.performed_spellCheck: # if the spell check was performed\n",
    "            # reassign summary to the corrected version\n",
    "            summary = doc._.outcome_spellCheck\n",
    "            card['summary_short'] = summary # update the card\n",
    "        else:\n",
    "            print('Spell check was not performed')\n",
    "\n",
    "import numpy as np\n",
    "def generate_physical_cards(options):\n",
    "    print(f'Generating physical cards...')\n",
    "    print(f'With the following options: {options}')\n",
    "    print('--'*20)\n",
    "    # get the options from the options dictionary\n",
    "    cards_to_generate = options['cards_to_generate'] # the number of cards to generate\n",
    "    profanity = options['profanity'] # if True, profanity will be allowed in the cards\n",
    "    grade_level = options['grade_level'] # the maximum grade level of the cards\n",
    "    keywords = options['keywords'] # if card summary (full) contains any of these keywords, it will be included in the deck of cards as a card with the category matching the keyword. If the keyword is not in the list of categories, it will be added to the list of categories.\n",
    "\n",
    "    # open the json file\n",
    "    with open('ppn_deck.json', 'r') as f:\n",
    "        card_deck = json.load(f)\n",
    "\n",
    "    # Iterate through each card and generate a card image for it\n",
    "    # randomly sample cards_to_generate cards from the card deck\n",
    "    card_deck = random.sample(card_deck, cards_to_generate)\n",
    "    # loop through the cards\n",
    "    for card in tqdm(card_deck):\n",
    "        if gandalf_card_finder(card, keywords, grade_level, profanity=False):\n",
    "            pass # if the card passes the gandalf card finder, then it is a card that we want to generate, so we can continue to the next step\n",
    "        else:\n",
    "            continue # if the card does not pass the gandalf card finder, then it is not a card that we want to generate, so we can skip to the next card. \n",
    "        # Prepare the summary and points variables\n",
    "        summary = card['summary'] #note: this is where I changed summary_short to summary\n",
    "        summary = str(summary)\n",
    "        # print('Summary Shortening')\n",
    "        if isinstance(summary, str):\n",
    "            # if the summarized text fills more than 3/4 the height of the card, summarize it again with one fewer sentence. This is to prevent the text from overflowing the card.\n",
    "            # max at font size 20 is 25 lines\n",
    "            sentence_count = 5 # the number of sentences in the summary (initially)\n",
    "            iterator = 1\n",
    "            summary = summarize_text(summary, 3)\n",
    "            if isinstance(summary, list):\n",
    "                summary = ' '.join(summary)\n",
    "        else:\n",
    "            raise ValueError('Summary is not a string!')\n",
    "        card['final_summary'] = summary\n",
    "        # the category is the keyword that is in the summary most (mode) or the first keyword that is in the summary (first)\n",
    "        # numpy has no mode function, so we will use the first keyword that is in the summary\n",
    "        try:\n",
    "            card['category'] = [keyword for keyword in keywords if keyword in summary][0] # the first keyword that is in the summary\n",
    "        except IndexError:\n",
    "            card['category'] = 'other'\n",
    "        \n",
    "        category = card['category']\n",
    "        # card['category'] = any(keyword in summary for keyword in keywords)\n",
    "        points = card['points_for_card']\n",
    "        # Generate the card\n",
    "        generate_card(str(card['title']),\n",
    "                      summary, points=points,\n",
    "                      html_template=html_template,\n",
    "                      name=str(card['title']),\n",
    "                      links_on_wikipedia=card['related'],\n",
    "                      category= category)\n",
    "\n",
    "def gandalf_card_finder(card, keywords, grade_level, profanity):\n",
    "    # gandalf scans the card and determines if it is a good card or not for the game. For example, if the card contains any profanity and the profanity is set to false AND it contains a keyword, it is still not a good card because it failed one of the two requirements, with profanity being the most important.\n",
    "    # if the card is good, it returns True, otherwise it returns False\n",
    "    \n",
    "    print(f'Gandalf is automatically adding keywords for the 2018-2022 years to the deck.')\n",
    "    \n",
    "    for year in range(2018, 2023):\n",
    "        keywords.append(str(year))\n",
    "\n",
    "    assert('summary' in card.keys(), 'Card does not have a summary!')\n",
    "    full_summary = card['summary']\n",
    "    if isinstance(full_summary, list):\n",
    "        full_summary = full_summary[1]\n",
    "    # check if the card contains any of the keywords using regex and word boundaries (r'\\b')\n",
    "    found_keyword = False # initialize the found_keyword variable\n",
    "    for keyword in keywords:\n",
    "        if re.search(r'\\b' + keyword + r'\\b', full_summary, re.IGNORECASE):\n",
    "            # if the keyword is found, return True\n",
    "            found_keyword = True\n",
    "            break\n",
    "        else:\n",
    "            #print(f'Keyword {keyword} not found in card {card[\"title\"]}.')\n",
    "            found_keyword = False\n",
    "    # profanity check here\n",
    "    profanity = False #note: this is not implemented yet\n",
    "    \n",
    "    #todo - implement profanity check\n",
    "    #todo - implement grade level check\n",
    "    grade_level_check = True #note: this is not implemented yet\n",
    "    # check the grade level of the card\n",
    "    if float(card['grade_level']) > float(grade_level):\n",
    "        grade_level_check = False # if the grade level is too high, the card is not a good card\n",
    "    # if the card is good, return True, otherwise return False\n",
    "    if (found_keyword and grade_level_check) or grade_level_check:\n",
    "        return True\n",
    "    else:\n",
    "        return False\n",
    "\n",
    "def clean_string(string):\n",
    "    # Remove non-alphanumeric characters at the beginning of sentences\n",
    "    string = re.sub(r'(?<=[.!?])\\s*[^a-zA-Z\\d]', '', string)\n",
    "    \n",
    "    # Use TextBlob to correct syntax errors\n",
    "    corrected_string = textblob.TextBlob(string).correct()\n",
    "    \n",
    "    # convert to string from TextBlob object\n",
    "    corrected_string = str(corrected_string)\n",
    "    description = corrected_string\n",
    "    description = re.sub(r'\\.(?=[^ ])', '. ', description)\n",
    "    description = re.sub(r',(?=[^ ])', ', ', description)\n",
    "    description = re.sub(r';(?=[^ ])', '; ', description)\n",
    "    description = re.sub(r':(?=[^ ])', ': ', description)\n",
    "    description = re.sub(r'\\?(?=[^ ])', '? ', description)\n",
    "    description = re.sub(r'!(?=[^ ])', '! ', description)\n",
    "    description = re.sub(r'-(?=[^ ])', '- ', description)\n",
    "    description = re.sub(r'\"(?=[^ ])', '\" ', description)\n",
    "    description = re.sub(r\"'(?=[^ ])\", \"' \", description)\n",
    "    description = re.sub(r'\\((?=[^ ])', '( ', description)\n",
    "    description = re.sub(r'\\)(?=[^ ])', ') ', description)\n",
    "    corrected_string = description\n",
    "    # Remove non-ASCII characters\n",
    "    cleaned_string = re.sub(r'[^\\x00-\\x7F]+', '', corrected_string)\n",
    "\n",
    "    # remove \\n characters from the string\n",
    "    cleaned_string = cleaned_string.replace('\\n', ' ')\n",
    "\n",
    "    # capitalize the first letter of each sentence in the description\n",
    "    cleaned_string = cleaned_string.capitalize() # capitalize the first letter of the description\n",
    "    # capitalize the first letter of each sentence in the description\n",
    "    cleaned_string = re.sub(r'[\\.\\?\\!]\\s(?=[a-z])', '. ', cleaned_string) # capitalize the first letter of each sentence, except for the first sentence, which is already capitalized, and except for sentences that start with a number, which are not capitalized in the original text\n",
    "    # replace the placeholders with the actual values\n",
    "    assert(len(cleaned_string) > 0, 'Cleaned string is empty!')\n",
    "    return cleaned_string\n",
    "\n",
    "def run_cleaner_on_cards():\n",
    "    # open the json file\n",
    "    with open('ppn_deck.json', 'r') as f:\n",
    "        card_deck = json.load(f)\n",
    "\n",
    "    # loop through the cards\n",
    "    for card in tqdm(card_deck):\n",
    "        # get the summary\n",
    "        if 'cleaned' in card.keys():\n",
    "            continue\n",
    "        summary = card['summary_short']\n",
    "        if isinstance(summary, list):\n",
    "            summary = summary[1]\n",
    "        if isinstance(summary, list):\n",
    "            summary = ' '.join(summary)\n",
    "        # convert summary to string in case it's a list\n",
    "        summary = str(summary)\n",
    "        # clean the summary\n",
    "        summary = clean_string(summary)\n",
    "        # update the card\n",
    "        card['summary_short'] = summary\n",
    "        # add a new key to the card called 'cleaned' and set it to True\n",
    "        card['cleaned'] = True\n",
    "        # every 10 cards, save the json file\n",
    "        if card_deck.index(card) % 10 == 0:\n",
    "            #print(f'Saving at card {card_deck.index(card)}')\n",
    "            with open('ppn_deck.json', 'w') as f:\n",
    "                json.dump(card_deck, f)\n",
    "        #print(f'Cleaned card {card[\"title\"]} at index {card_deck.index(card)}! Summary: {summary}')\n",
    "    # save the updated json file\n",
    "    with open('ppn_deck.json', 'w') as f:\n",
    "        json.dump(card_deck, f)"
   ]
  },
  {
   "cell_type": "code",
   "execution_count": 485,
   "metadata": {},
   "outputs": [
    {
     "name": "stdout",
     "output_type": "stream",
     "text": [
      "Initialized, ready to spell check!\n",
      "Spell check complete, ready to generate cards!\n"
     ]
    }
   ],
   "source": [
    "print(\"Initialized, ready to spell check!\")\n",
    "# run_spell_check_on_cards(nlp) # run the spell check\n",
    "if spell_check_flag:\n",
    "    run_cleaner_on_cards()\n",
    "print(\"Spell check complete, ready to generate cards!\")\n"
   ]
  },
  {
   "cell_type": "code",
   "execution_count": 486,
   "metadata": {},
   "outputs": [
    {
     "name": "stderr",
     "output_type": "stream",
     "text": [
      "objc[70430]: Class WebSwapCGLLayer is implemented in both /System/Library/Frameworks/WebKit.framework/Versions/A/Frameworks/WebCore.framework/Versions/A/Frameworks/libANGLE-shared.dylib (0x7ffa59435aa0) and /Applications/Google Chrome.app/Contents/Frameworks/Google Chrome Framework.framework/Versions/108.0.5359.124/Libraries/libGLESv2.dylib (0x112ebf568). One of the two will be used. Which one is undefined.\n",
      "[1227/170455.983026:INFO:headless_shell.cc(623)] Written to file /Users/grahamwaters/Library/Mobile Documents/com~apple~CloudDocs/Mimikers/card_box/test_card.png.\n"
     ]
    },
    {
     "name": "stdout",
     "output_type": "stream",
     "text": [
      "Generated card Test Card at ./card_box/Test_Card.png!\n",
      "Cropped card Test Card at ./card_box/Test_Card.png!\n"
     ]
    }
   ],
   "source": [
    "# generate a test card\n",
    "generate_card('Test Card', 'from Armentires is an English song that was particularly popular during World War I. It is also known by its ersatz French hook line, Inky Pinky Parlez Vous, or the American variant Hinky Dinky Parlez-vous variant: Parlay voo. Inky Pinky was a Scottish childrens name for parsnip and potato cakes, but it has been suggested that an onomatopoeic reference to the sound of bed springs is a more likely soldiers ribald derivation.', 10, html_template, 'Mademoiselle from Armentières', 0, 'People')"
   ]
  },
  {
   "cell_type": "code",
   "execution_count": 487,
   "metadata": {},
   "outputs": [],
   "source": [
    "# set the options for the game\n",
    "options = {\n",
    "    'grade_level': 16, # maximum grade level of the cards\n",
    "    'profanity': True,\n",
    "    'cards_to_generate': 10,\n",
    "    'keywords': [],\n",
    "    'categories': [],\n",
    "}\n"
   ]
  },
  {
   "cell_type": "code",
   "execution_count": 488,
   "metadata": {},
   "outputs": [],
   "source": [
    "# keywords that we want to include from the cards in the deck (cards with these words should be included in the deck).\n",
    "keywords = [\n",
    "    'amish',\n",
    "    'dance',\n",
    "    'actor',\n",
    "    'ghost',\n",
    "    'character',\n",
    "    'book',\n",
    "    'movie',\n",
    "    'funny',\n",
    "    'nasa',\n",
    "    'famous',\n",
    "    'viral',\n",
    "    'dog poop',\n",
    "    'poop',\n",
    "    'therapy',\n",
    "    'vegetables',\n",
    "    'melon',\n",
    "    'die',\n",
    "    'embarrassing'\n",
    "]"
   ]
  },
  {
   "cell_type": "code",
   "execution_count": 489,
   "metadata": {},
   "outputs": [
    {
     "name": "stdout",
     "output_type": "stream",
     "text": [
      "Generating physical cards...\n",
      "With the following options: {'grade_level': 16, 'profanity': True, 'cards_to_generate': 10, 'keywords': [], 'categories': []}\n",
      "----------------------------------------\n"
     ]
    },
    {
     "name": "stderr",
     "output_type": "stream",
     "text": [
      "  0%|          | 0/10 [00:00<?, ?it/s]"
     ]
    },
    {
     "name": "stdout",
     "output_type": "stream",
     "text": [
      "Gandalf is automatically adding keywords for the 2018-2022 years to the deck.\n"
     ]
    },
    {
     "name": "stderr",
     "output_type": "stream",
     "text": [
      "objc[70488]: Class WebSwapCGLLayer is implemented in both /System/Library/Frameworks/WebKit.framework/Versions/A/Frameworks/WebCore.framework/Versions/A/Frameworks/libANGLE-shared.dylib (0x7ffa59435aa0) and /Applications/Google Chrome.app/Contents/Frameworks/Google Chrome Framework.framework/Versions/108.0.5359.124/Libraries/libGLESv2.dylib (0x116401568). One of the two will be used. Which one is undefined.\n",
      "[1227/170458.739004:ERROR:command_buffer_proxy_impl.cc(128)] ContextResult::kTransientFailure: Failed to send GpuControl.CreateCommandBuffer.\n",
      "[1227/170459.543279:INFO:headless_shell.cc(623)] Written to file /Users/grahamwaters/Library/Mobile Documents/com~apple~CloudDocs/Mimikers/card_box/nyaruko:_crawling_with_love.png.\n"
     ]
    },
    {
     "name": "stdout",
     "output_type": "stream",
     "text": [
      "Generated card Nyaruko: Crawling with Love at ./card_box/Nyaruko:_Crawling_with_Love.png!\n"
     ]
    },
    {
     "name": "stderr",
     "output_type": "stream",
     "text": [
      " 10%|█         | 1/10 [00:02<00:23,  2.62s/it]"
     ]
    },
    {
     "name": "stdout",
     "output_type": "stream",
     "text": [
      "Cropped card Nyaruko: Crawling with Love at ./card_box/Nyaruko:_Crawling_with_Love.png!\n",
      "Gandalf is automatically adding keywords for the 2018-2022 years to the deck.\n"
     ]
    },
    {
     "name": "stderr",
     "output_type": "stream",
     "text": [
      "objc[70542]: Class WebSwapCGLLayer is implemented in both /System/Library/Frameworks/WebKit.framework/Versions/A/Frameworks/WebCore.framework/Versions/A/Frameworks/libANGLE-shared.dylib (0x7ffa59435aa0) and /Applications/Google Chrome.app/Contents/Frameworks/Google Chrome Framework.framework/Versions/108.0.5359.124/Libraries/libGLESv2.dylib (0x11696c568). One of the two will be used. Which one is undefined.\n",
      "[1227/170501.472724:ERROR:command_buffer_proxy_impl.cc(128)] ContextResult::kTransientFailure: Failed to send GpuControl.CreateCommandBuffer.\n",
      "[1227/170502.309745:INFO:headless_shell.cc(623)] Written to file /Users/grahamwaters/Library/Mobile Documents/com~apple~CloudDocs/Mimikers/card_box/richard_peek.png.\n"
     ]
    },
    {
     "name": "stdout",
     "output_type": "stream",
     "text": [
      "Generated card Richard Peek at ./card_box/Richard_Peek.png!\n"
     ]
    },
    {
     "name": "stderr",
     "output_type": "stream",
     "text": [
      " 20%|██        | 2/10 [00:05<00:21,  2.70s/it]"
     ]
    },
    {
     "name": "stdout",
     "output_type": "stream",
     "text": [
      "Cropped card Richard Peek at ./card_box/Richard_Peek.png!\n",
      "Gandalf is automatically adding keywords for the 2018-2022 years to the deck.\n"
     ]
    },
    {
     "name": "stderr",
     "output_type": "stream",
     "text": [
      "objc[70571]: Class WebSwapCGLLayer is implemented in both /System/Library/Frameworks/WebKit.framework/Versions/A/Frameworks/WebCore.framework/Versions/A/Frameworks/libANGLE-shared.dylib (0x7ffa59435aa0) and /Applications/Google Chrome.app/Contents/Frameworks/Google Chrome Framework.framework/Versions/108.0.5359.124/Libraries/libGLESv2.dylib (0x116f84568). One of the two will be used. Which one is undefined.\n",
      "[1227/170503.743221:ERROR:command_buffer_proxy_impl.cc(128)] ContextResult::kTransientFailure: Failed to send GpuControl.CreateCommandBuffer.\n",
      "[1227/170504.622418:INFO:headless_shell.cc(623)] Written to file /Users/grahamwaters/Library/Mobile Documents/com~apple~CloudDocs/Mimikers/card_box/the_gourd_and_the_palm-tree.png.\n"
     ]
    },
    {
     "name": "stdout",
     "output_type": "stream",
     "text": [
      "Generated card The Gourd and the Palm-tree at ./card_box/The_Gourd_and_the_Palm-tree.png!\n"
     ]
    },
    {
     "name": "stderr",
     "output_type": "stream",
     "text": [
      " 30%|███       | 3/10 [00:07<00:17,  2.54s/it]"
     ]
    },
    {
     "name": "stdout",
     "output_type": "stream",
     "text": [
      "Cropped card The Gourd and the Palm-tree at ./card_box/The_Gourd_and_the_Palm-tree.png!\n",
      "Gandalf is automatically adding keywords for the 2018-2022 years to the deck.\n"
     ]
    },
    {
     "name": "stderr",
     "output_type": "stream",
     "text": [
      "objc[70625]: Class WebSwapCGLLayer is implemented in both /System/Library/Frameworks/WebKit.framework/Versions/A/Frameworks/WebCore.framework/Versions/A/Frameworks/libANGLE-shared.dylib (0x7ffa59435aa0) and /Applications/Google Chrome.app/Contents/Frameworks/Google Chrome Framework.framework/Versions/108.0.5359.124/Libraries/libGLESv2.dylib (0x1150a5568). One of the two will be used. Which one is undefined.\n",
      "[1227/170506.425361:ERROR:command_buffer_proxy_impl.cc(128)] ContextResult::kTransientFailure: Failed to send GpuControl.CreateCommandBuffer.\n",
      "[1227/170507.224344:INFO:headless_shell.cc(623)] Written to file /Users/grahamwaters/Library/Mobile Documents/com~apple~CloudDocs/Mimikers/card_box/forest_inventory.png.\n"
     ]
    },
    {
     "name": "stdout",
     "output_type": "stream",
     "text": [
      "Generated card Forest inventory at ./card_box/Forest_inventory.png!\n"
     ]
    },
    {
     "name": "stderr",
     "output_type": "stream",
     "text": [
      " 40%|████      | 4/10 [00:10<00:15,  2.57s/it]"
     ]
    },
    {
     "name": "stdout",
     "output_type": "stream",
     "text": [
      "Cropped card Forest inventory at ./card_box/Forest_inventory.png!\n",
      "Gandalf is automatically adding keywords for the 2018-2022 years to the deck.\n"
     ]
    },
    {
     "name": "stderr",
     "output_type": "stream",
     "text": [
      "objc[70699]: Class WebSwapCGLLayer is implemented in both /System/Library/Frameworks/WebKit.framework/Versions/A/Frameworks/WebCore.framework/Versions/A/Frameworks/libANGLE-shared.dylib (0x7ffa59435aa0) and /Applications/Google Chrome.app/Contents/Frameworks/Google Chrome Framework.framework/Versions/108.0.5359.124/Libraries/libGLESv2.dylib (0x11283b568). One of the two will be used. Which one is undefined.\n",
      "[1227/170512.393631:ERROR:command_buffer_proxy_impl.cc(128)] ContextResult::kTransientFailure: Failed to send GpuControl.CreateCommandBuffer.\n",
      "[1227/170513.221865:INFO:headless_shell.cc(623)] Written to file /Users/grahamwaters/Library/Mobile Documents/com~apple~CloudDocs/Mimikers/card_box/assaultcube.png.\n"
     ]
    },
    {
     "name": "stdout",
     "output_type": "stream",
     "text": [
      "Generated card AssaultCube at ./card_box/AssaultCube.png!\n"
     ]
    },
    {
     "name": "stderr",
     "output_type": "stream",
     "text": [
      " 50%|█████     | 5/10 [00:16<00:18,  3.79s/it]"
     ]
    },
    {
     "name": "stdout",
     "output_type": "stream",
     "text": [
      "Cropped card AssaultCube at ./card_box/AssaultCube.png!\n",
      "Gandalf is automatically adding keywords for the 2018-2022 years to the deck.\n"
     ]
    },
    {
     "name": "stderr",
     "output_type": "stream",
     "text": [
      "objc[70729]: Class WebSwapCGLLayer is implemented in both /System/Library/Frameworks/WebKit.framework/Versions/A/Frameworks/WebCore.framework/Versions/A/Frameworks/libANGLE-shared.dylib (0x7ffa59435aa0) and /Applications/Google Chrome.app/Contents/Frameworks/Google Chrome Framework.framework/Versions/108.0.5359.124/Libraries/libGLESv2.dylib (0x11246b568). One of the two will be used. Which one is undefined.\n",
      "[1227/170514.750589:ERROR:command_buffer_proxy_impl.cc(128)] ContextResult::kTransientFailure: Failed to send GpuControl.CreateCommandBuffer.\n",
      "[1227/170515.559247:INFO:headless_shell.cc(623)] Written to file /Users/grahamwaters/Library/Mobile Documents/com~apple~CloudDocs/Mimikers/card_box/wrath_month.png.\n"
     ]
    },
    {
     "name": "stdout",
     "output_type": "stream",
     "text": [
      "Generated card Wrath Month at ./card_box/Wrath_Month.png!\n"
     ]
    },
    {
     "name": "stderr",
     "output_type": "stream",
     "text": [
      " 60%|██████    | 6/10 [00:18<00:13,  3.29s/it]"
     ]
    },
    {
     "name": "stdout",
     "output_type": "stream",
     "text": [
      "Cropped card Wrath Month at ./card_box/Wrath_Month.png!\n",
      "Gandalf is automatically adding keywords for the 2018-2022 years to the deck.\n"
     ]
    },
    {
     "name": "stderr",
     "output_type": "stream",
     "text": [
      "objc[70783]: Class WebSwapCGLLayer is implemented in both /System/Library/Frameworks/WebKit.framework/Versions/A/Frameworks/WebCore.framework/Versions/A/Frameworks/libANGLE-shared.dylib (0x7ffa59435aa0) and /Applications/Google Chrome.app/Contents/Frameworks/Google Chrome Framework.framework/Versions/108.0.5359.124/Libraries/libGLESv2.dylib (0x114fa0568). One of the two will be used. Which one is undefined.\n",
      "[1227/170517.646825:ERROR:command_buffer_proxy_impl.cc(128)] ContextResult::kTransientFailure: Failed to send GpuControl.CreateCommandBuffer.\n",
      "[1227/170518.420638:INFO:headless_shell.cc(623)] Written to file /Users/grahamwaters/Library/Mobile Documents/com~apple~CloudDocs/Mimikers/card_box/there_will_be_blood.png.\n"
     ]
    },
    {
     "name": "stdout",
     "output_type": "stream",
     "text": [
      "Generated card There Will Be Blood at ./card_box/There_Will_Be_Blood.png!\n"
     ]
    },
    {
     "name": "stderr",
     "output_type": "stream",
     "text": [
      " 70%|███████   | 7/10 [00:21<00:09,  3.15s/it]"
     ]
    },
    {
     "name": "stdout",
     "output_type": "stream",
     "text": [
      "Cropped card There Will Be Blood at ./card_box/There_Will_Be_Blood.png!\n",
      "Gandalf is automatically adding keywords for the 2018-2022 years to the deck.\n"
     ]
    },
    {
     "name": "stderr",
     "output_type": "stream",
     "text": [
      "objc[70813]: Class WebSwapCGLLayer is implemented in both /System/Library/Frameworks/WebKit.framework/Versions/A/Frameworks/WebCore.framework/Versions/A/Frameworks/libANGLE-shared.dylib (0x7ffa59435aa0) and /Applications/Google Chrome.app/Contents/Frameworks/Google Chrome Framework.framework/Versions/108.0.5359.124/Libraries/libGLESv2.dylib (0x1146bf568). One of the two will be used. Which one is undefined.\n",
      "[1227/170520.162287:ERROR:command_buffer_proxy_impl.cc(128)] ContextResult::kTransientFailure: Failed to send GpuControl.CreateCommandBuffer.\n",
      "[1227/170521.000715:INFO:headless_shell.cc(623)] Written to file /Users/grahamwaters/Library/Mobile Documents/com~apple~CloudDocs/Mimikers/card_box/houston,_pennsylvania.png.\n"
     ]
    },
    {
     "name": "stdout",
     "output_type": "stream",
     "text": [
      "Generated card Houston, Pennsylvania at ./card_box/Houston,_Pennsylvania.png!\n"
     ]
    },
    {
     "name": "stderr",
     "output_type": "stream",
     "text": [
      " 80%|████████  | 8/10 [00:24<00:05,  2.98s/it]"
     ]
    },
    {
     "name": "stdout",
     "output_type": "stream",
     "text": [
      "Cropped card Houston, Pennsylvania at ./card_box/Houston,_Pennsylvania.png!\n",
      "Gandalf is automatically adding keywords for the 2018-2022 years to the deck.\n"
     ]
    },
    {
     "name": "stderr",
     "output_type": "stream",
     "text": [
      "objc[70868]: Class WebSwapCGLLayer is implemented in both /System/Library/Frameworks/WebKit.framework/Versions/A/Frameworks/WebCore.framework/Versions/A/Frameworks/libANGLE-shared.dylib (0x7ffa59435aa0) and /Applications/Google Chrome.app/Contents/Frameworks/Google Chrome Framework.framework/Versions/108.0.5359.124/Libraries/libGLESv2.dylib (0x11646b568). One of the two will be used. Which one is undefined.\n",
      "[1227/170523.710171:ERROR:command_buffer_proxy_impl.cc(128)] ContextResult::kTransientFailure: Failed to send GpuControl.CreateCommandBuffer.\n",
      "[1227/170524.548784:INFO:headless_shell.cc(623)] Written to file /Users/grahamwaters/Library/Mobile Documents/com~apple~CloudDocs/Mimikers/card_box/metal_wolf_chaos.png.\n"
     ]
    },
    {
     "name": "stdout",
     "output_type": "stream",
     "text": [
      "Generated card Metal Wolf Chaos at ./card_box/Metal_Wolf_Chaos.png!\n"
     ]
    },
    {
     "name": "stderr",
     "output_type": "stream",
     "text": [
      " 90%|█████████ | 9/10 [00:27<00:03,  3.16s/it]"
     ]
    },
    {
     "name": "stdout",
     "output_type": "stream",
     "text": [
      "Cropped card Metal Wolf Chaos at ./card_box/Metal_Wolf_Chaos.png!\n",
      "Gandalf is automatically adding keywords for the 2018-2022 years to the deck.\n"
     ]
    },
    {
     "name": "stderr",
     "output_type": "stream",
     "text": [
      "objc[70916]: Class WebSwapCGLLayer is implemented in both /System/Library/Frameworks/WebKit.framework/Versions/A/Frameworks/WebCore.framework/Versions/A/Frameworks/libANGLE-shared.dylib (0x7ffa59435aa0) and /Applications/Google Chrome.app/Contents/Frameworks/Google Chrome Framework.framework/Versions/108.0.5359.124/Libraries/libGLESv2.dylib (0x114948568). One of the two will be used. Which one is undefined.\n",
      "[1227/170526.536467:ERROR:command_buffer_proxy_impl.cc(128)] ContextResult::kTransientFailure: Failed to send GpuControl.CreateCommandBuffer.\n",
      "[1227/170527.352143:INFO:headless_shell.cc(623)] Written to file /Users/grahamwaters/Library/Mobile Documents/com~apple~CloudDocs/Mimikers/card_box/penelope_pitstop.png.\n"
     ]
    },
    {
     "name": "stdout",
     "output_type": "stream",
     "text": [
      "Generated card Penelope Pitstop at ./card_box/Penelope_Pitstop.png!\n"
     ]
    },
    {
     "name": "stderr",
     "output_type": "stream",
     "text": [
      "100%|██████████| 10/10 [00:30<00:00,  3.04s/it]"
     ]
    },
    {
     "name": "stdout",
     "output_type": "stream",
     "text": [
      "Cropped card Penelope Pitstop at ./card_box/Penelope_Pitstop.png!\n",
      "Done\n"
     ]
    },
    {
     "name": "stderr",
     "output_type": "stream",
     "text": [
      "\n"
     ]
    }
   ],
   "source": [
    "generate_physical_cards(options)\n",
    "print(\"Done\")"
   ]
  },
  {
   "cell_type": "code",
   "execution_count": null,
   "metadata": {},
   "outputs": [],
   "source": []
  }
 ],
 "metadata": {
  "kernelspec": {
   "display_name": "Python 3.9.6 ('groupme')",
   "language": "python",
   "name": "python3"
  },
  "language_info": {
   "codemirror_mode": {
    "name": "ipython",
    "version": 3
   },
   "file_extension": ".py",
   "mimetype": "text/x-python",
   "name": "python",
   "nbconvert_exporter": "python",
   "pygments_lexer": "ipython3",
   "version": "3.9.6"
  },
  "orig_nbformat": 4,
  "vscode": {
   "interpreter": {
    "hash": "28dd76f97a2595215b3511d9563b8125e93469ee739d17a6b25584482d270cb8"
   }
  }
 },
 "nbformat": 4,
 "nbformat_minor": 2
}
