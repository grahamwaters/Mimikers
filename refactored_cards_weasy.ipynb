{
 "cells": [
  {
   "cell_type": "code",
   "execution_count": 4,
   "metadata": {},
   "outputs": [
    {
     "name": "stdout",
     "output_type": "stream",
     "text": [
      "\u001b[33mDEPRECATION: --no-binary currently disables reading from the cache of locally built wheels. In the future --no-binary will not influence the wheel cache. pip 23.1 will enforce this behaviour change. A possible replacement is to use the --no-cache-dir option. You can use the flag --use-feature=no-binary-enable-wheel-cache to test the upcoming behaviour. Discussion can be found at https://github.com/pypa/pip/issues/11453\u001b[0m\u001b[33m\n",
      "\u001b[0mRequirement already satisfied: weasyprint in /opt/anaconda3/envs/groupme/lib/python3.9/site-packages (57.2)\n",
      "Requirement already satisfied: cffi>=0.6 in /opt/anaconda3/envs/groupme/lib/python3.9/site-packages (from weasyprint) (1.15.1)\n",
      "Requirement already satisfied: fonttools[woff]>=4.0.0 in /opt/anaconda3/envs/groupme/lib/python3.9/site-packages (from weasyprint) (4.38.0)\n",
      "Requirement already satisfied: Pillow>=9.1.0 in /opt/anaconda3/envs/groupme/lib/python3.9/site-packages (from weasyprint) (9.3.0)\n",
      "Requirement already satisfied: cssselect2>=0.1 in /opt/anaconda3/envs/groupme/lib/python3.9/site-packages (from weasyprint) (0.7.0)\n",
      "Requirement already satisfied: tinycss2>=1.0.0 in /opt/anaconda3/envs/groupme/lib/python3.9/site-packages (from weasyprint) (1.2.1)\n",
      "Requirement already satisfied: pydyf>=0.5.0 in /opt/anaconda3/envs/groupme/lib/python3.9/site-packages (from weasyprint) (0.5.0)\n",
      "Requirement already satisfied: Pyphen>=0.9.1 in /opt/anaconda3/envs/groupme/lib/python3.9/site-packages (from weasyprint) (0.13.2)\n",
      "Requirement already satisfied: html5lib>=1.1 in /opt/anaconda3/envs/groupme/lib/python3.9/site-packages (from weasyprint) (1.1)\n",
      "Requirement already satisfied: pycparser in /opt/anaconda3/envs/groupme/lib/python3.9/site-packages (from cffi>=0.6->weasyprint) (2.21)\n",
      "Requirement already satisfied: webencodings in /opt/anaconda3/envs/groupme/lib/python3.9/site-packages (from cssselect2>=0.1->weasyprint) (0.5.1)\n",
      "Requirement already satisfied: brotli>=1.0.1 in /opt/anaconda3/envs/groupme/lib/python3.9/site-packages (from fonttools[woff]>=4.0.0->weasyprint) (1.0.9)\n",
      "Requirement already satisfied: zopfli>=0.1.4 in /opt/anaconda3/envs/groupme/lib/python3.9/site-packages (from fonttools[woff]>=4.0.0->weasyprint) (0.2.2)\n",
      "Requirement already satisfied: six>=1.9 in /opt/anaconda3/envs/groupme/lib/python3.9/site-packages (from html5lib>=1.1->weasyprint) (1.16.0)\n",
      "\n",
      "-----\n",
      "\n",
      "WeasyPrint could not import some external libraries. Please carefully follow the installation steps before reporting an issue:\n",
      "https://doc.courtbouillon.org/weasyprint/stable/first_steps.html#installation\n",
      "https://doc.courtbouillon.org/weasyprint/stable/first_steps.html#troubleshooting \n",
      "\n",
      "-----\n",
      "\n"
     ]
    },
    {
     "ename": "OSError",
     "evalue": "cannot load library 'pango-1.0-0': dlopen(pango-1.0-0, 0x0002): tried: 'pango-1.0-0' (no such file), '/System/Volumes/Preboot/Cryptexes/OSpango-1.0-0' (no such file), '/opt/anaconda3/envs/groupme/lib/pango-1.0-0' (no such file), '/System/Volumes/Preboot/Cryptexes/OS/opt/anaconda3/envs/groupme/lib/pango-1.0-0' (no such file), '/opt/anaconda3/envs/groupme/bin/../lib/pango-1.0-0' (no such file), '/usr/lib/pango-1.0-0' (no such file, not in dyld cache), 'pango-1.0-0' (no such file), '/usr/local/lib/pango-1.0-0' (no such file), '/usr/lib/pango-1.0-0' (no such file, not in dyld cache).  Additionally, ctypes.util.find_library() did not manage to locate a library called 'pango-1.0-0'",
     "output_type": "error",
     "traceback": [
      "\u001b[0;31m---------------------------------------------------------------------------\u001b[0m",
      "\u001b[0;31mOSError\u001b[0m                                   Traceback (most recent call last)",
      "Cell \u001b[0;32mIn[4], line 7\u001b[0m\n\u001b[1;32m      2\u001b[0m \u001b[38;5;28;01mimport\u001b[39;00m \u001b[38;5;21;01mtextwrap\u001b[39;00m\n\u001b[1;32m      4\u001b[0m get_ipython()\u001b[38;5;241m.\u001b[39msystem(\u001b[38;5;124m'\u001b[39m\u001b[38;5;124mpip install --no-binary weasyprint weasyprint\u001b[39m\u001b[38;5;124m'\u001b[39m)\n\u001b[0;32m----> 7\u001b[0m \u001b[38;5;28;01mfrom\u001b[39;00m \u001b[38;5;21;01mweasyprint\u001b[39;00m \u001b[38;5;28;01mimport\u001b[39;00m HTML\n\u001b[1;32m      9\u001b[0m \u001b[38;5;66;03m# read card_deck from ppn_deck.json file\u001b[39;00m\n\u001b[1;32m     10\u001b[0m \u001b[38;5;28;01mwith\u001b[39;00m \u001b[38;5;28mopen\u001b[39m(\u001b[38;5;124m\"\u001b[39m\u001b[38;5;124mppn_deck.json\u001b[39m\u001b[38;5;124m\"\u001b[39m, \u001b[38;5;124m\"\u001b[39m\u001b[38;5;124mr\u001b[39m\u001b[38;5;124m\"\u001b[39m) \u001b[38;5;28;01mas\u001b[39;00m read_file:\n",
      "File \u001b[0;32m/opt/anaconda3/envs/groupme/lib/python3.9/site-packages/weasyprint/__init__.py:336\u001b[0m\n\u001b[1;32m    333\u001b[0m         \u001b[39myield\u001b[39;00m \u001b[39m'\u001b[39m\u001b[39mstring\u001b[39m\u001b[39m'\u001b[39m, string, base_url, \u001b[39mNone\u001b[39;00m\n\u001b[1;32m    335\u001b[0m \u001b[39m# Work around circular imports.\u001b[39;00m\n\u001b[0;32m--> 336\u001b[0m \u001b[39mfrom\u001b[39;00m \u001b[39m.\u001b[39;00m\u001b[39mcss\u001b[39;00m \u001b[39mimport\u001b[39;00m preprocess_stylesheet  \u001b[39m# noqa isort:skip\u001b[39;00m\n\u001b[1;32m    337\u001b[0m \u001b[39mfrom\u001b[39;00m \u001b[39m.\u001b[39;00m\u001b[39mhtml\u001b[39;00m \u001b[39mimport\u001b[39;00m (  \u001b[39m# noqa isort:skip\u001b[39;00m\n\u001b[1;32m    338\u001b[0m     HTML5_UA_COUNTER_STYLE, HTML5_UA_STYLESHEET, HTML5_PH_STYLESHEET)\n\u001b[1;32m    339\u001b[0m \u001b[39mfrom\u001b[39;00m \u001b[39m.\u001b[39;00m\u001b[39mdocument\u001b[39;00m \u001b[39mimport\u001b[39;00m Document, Page  \u001b[39m# noqa isort:skip\u001b[39;00m\n",
      "File \u001b[0;32m/opt/anaconda3/envs/groupme/lib/python3.9/site-packages/weasyprint/css/__init__.py:25\u001b[0m\n\u001b[1;32m     23\u001b[0m \u001b[39mfrom\u001b[39;00m \u001b[39m.\u001b[39;00m\u001b[39m.\u001b[39;00m\u001b[39mlogger\u001b[39;00m \u001b[39mimport\u001b[39;00m LOGGER, PROGRESS_LOGGER\n\u001b[1;32m     24\u001b[0m \u001b[39mfrom\u001b[39;00m \u001b[39m.\u001b[39;00m\u001b[39m.\u001b[39;00m\u001b[39murls\u001b[39;00m \u001b[39mimport\u001b[39;00m URLFetchingError, get_url_attribute, url_join\n\u001b[0;32m---> 25\u001b[0m \u001b[39mfrom\u001b[39;00m \u001b[39m.\u001b[39;00m \u001b[39mimport\u001b[39;00m computed_values, counters, media_queries\n\u001b[1;32m     26\u001b[0m \u001b[39mfrom\u001b[39;00m \u001b[39m.\u001b[39;00m\u001b[39mproperties\u001b[39;00m \u001b[39mimport\u001b[39;00m INHERITED, INITIAL_NOT_COMPUTED, INITIAL_VALUES\n\u001b[1;32m     27\u001b[0m \u001b[39mfrom\u001b[39;00m \u001b[39m.\u001b[39;00m\u001b[39mutils\u001b[39;00m \u001b[39mimport\u001b[39;00m get_url, remove_whitespace\n",
      "File \u001b[0;32m/opt/anaconda3/envs/groupme/lib/python3.9/site-packages/weasyprint/css/computed_values.py:11\u001b[0m\n\u001b[1;32m      8\u001b[0m \u001b[39mfrom\u001b[39;00m \u001b[39mtinycss2\u001b[39;00m\u001b[39m.\u001b[39;00m\u001b[39mcolor3\u001b[39;00m \u001b[39mimport\u001b[39;00m parse_color\n\u001b[1;32m     10\u001b[0m \u001b[39mfrom\u001b[39;00m \u001b[39m.\u001b[39;00m\u001b[39m.\u001b[39;00m\u001b[39mlogger\u001b[39;00m \u001b[39mimport\u001b[39;00m LOGGER\n\u001b[0;32m---> 11\u001b[0m \u001b[39mfrom\u001b[39;00m \u001b[39m.\u001b[39;00m\u001b[39m.\u001b[39;00m\u001b[39mtext\u001b[39;00m\u001b[39m.\u001b[39;00m\u001b[39mffi\u001b[39;00m \u001b[39mimport\u001b[39;00m ffi, pango, units_to_double\n\u001b[1;32m     12\u001b[0m \u001b[39mfrom\u001b[39;00m \u001b[39m.\u001b[39;00m\u001b[39m.\u001b[39;00m\u001b[39mtext\u001b[39;00m\u001b[39m.\u001b[39;00m\u001b[39mline_break\u001b[39;00m \u001b[39mimport\u001b[39;00m Layout, first_line_metrics\n\u001b[1;32m     13\u001b[0m \u001b[39mfrom\u001b[39;00m \u001b[39m.\u001b[39;00m\u001b[39m.\u001b[39;00m\u001b[39murls\u001b[39;00m \u001b[39mimport\u001b[39;00m get_link_attribute\n",
      "File \u001b[0;32m/opt/anaconda3/envs/groupme/lib/python3.9/site-packages/weasyprint/text/ffi.py:427\u001b[0m\n\u001b[1;32m    422\u001b[0m             os\u001b[39m.\u001b[39madd_dll_directory(dll_directory)\n\u001b[1;32m    424\u001b[0m gobject \u001b[39m=\u001b[39m _dlopen(\n\u001b[1;32m    425\u001b[0m     ffi, \u001b[39m'\u001b[39m\u001b[39mgobject-2.0-0\u001b[39m\u001b[39m'\u001b[39m, \u001b[39m'\u001b[39m\u001b[39mgobject-2.0\u001b[39m\u001b[39m'\u001b[39m, \u001b[39m'\u001b[39m\u001b[39mlibgobject-2.0-0\u001b[39m\u001b[39m'\u001b[39m,\n\u001b[1;32m    426\u001b[0m     \u001b[39m'\u001b[39m\u001b[39mlibgobject-2.0.so.0\u001b[39m\u001b[39m'\u001b[39m, \u001b[39m'\u001b[39m\u001b[39mlibgobject-2.0.dylib\u001b[39m\u001b[39m'\u001b[39m,  \u001b[39m'\u001b[39m\u001b[39mlibgobject-2.0-0.dll\u001b[39m\u001b[39m'\u001b[39m)\n\u001b[0;32m--> 427\u001b[0m pango \u001b[39m=\u001b[39m _dlopen(\n\u001b[1;32m    428\u001b[0m     ffi, \u001b[39m'\u001b[39;49m\u001b[39mpango-1.0-0\u001b[39;49m\u001b[39m'\u001b[39;49m, \u001b[39m'\u001b[39;49m\u001b[39mpango-1.0\u001b[39;49m\u001b[39m'\u001b[39;49m, \u001b[39m'\u001b[39;49m\u001b[39mlibpango-1.0-0\u001b[39;49m\u001b[39m'\u001b[39;49m, \u001b[39m'\u001b[39;49m\u001b[39mlibpango-1.0.so.0\u001b[39;49m\u001b[39m'\u001b[39;49m,\n\u001b[1;32m    429\u001b[0m     \u001b[39m'\u001b[39;49m\u001b[39mlibpango-1.0.dylib\u001b[39;49m\u001b[39m'\u001b[39;49m, \u001b[39m'\u001b[39;49m\u001b[39mlibpango-1.0-0.dll\u001b[39;49m\u001b[39m'\u001b[39;49m)\n\u001b[1;32m    430\u001b[0m harfbuzz \u001b[39m=\u001b[39m _dlopen(\n\u001b[1;32m    431\u001b[0m     ffi, \u001b[39m'\u001b[39m\u001b[39mharfbuzz\u001b[39m\u001b[39m'\u001b[39m, \u001b[39m'\u001b[39m\u001b[39mharfbuzz-0.0\u001b[39m\u001b[39m'\u001b[39m, \u001b[39m'\u001b[39m\u001b[39mlibharfbuzz-0\u001b[39m\u001b[39m'\u001b[39m,\n\u001b[1;32m    432\u001b[0m     \u001b[39m'\u001b[39m\u001b[39mlibharfbuzz.so.0\u001b[39m\u001b[39m'\u001b[39m, \u001b[39m'\u001b[39m\u001b[39mlibharfbuzz.so.0\u001b[39m\u001b[39m'\u001b[39m, \u001b[39m'\u001b[39m\u001b[39mlibharfbuzz.0.dylib\u001b[39m\u001b[39m'\u001b[39m,\n\u001b[1;32m    433\u001b[0m     \u001b[39m'\u001b[39m\u001b[39mlibharfbuzz-0.dll\u001b[39m\u001b[39m'\u001b[39m)\n\u001b[1;32m    434\u001b[0m fontconfig \u001b[39m=\u001b[39m _dlopen(\n\u001b[1;32m    435\u001b[0m     ffi, \u001b[39m'\u001b[39m\u001b[39mfontconfig-1\u001b[39m\u001b[39m'\u001b[39m, \u001b[39m'\u001b[39m\u001b[39mfontconfig\u001b[39m\u001b[39m'\u001b[39m, \u001b[39m'\u001b[39m\u001b[39mlibfontconfig\u001b[39m\u001b[39m'\u001b[39m, \u001b[39m'\u001b[39m\u001b[39mlibfontconfig.so.1\u001b[39m\u001b[39m'\u001b[39m,\n\u001b[1;32m    436\u001b[0m     \u001b[39m'\u001b[39m\u001b[39mlibfontconfig.1.dylib\u001b[39m\u001b[39m'\u001b[39m, \u001b[39m'\u001b[39m\u001b[39mlibfontconfig-1.dll\u001b[39m\u001b[39m'\u001b[39m)\n",
      "File \u001b[0;32m/opt/anaconda3/envs/groupme/lib/python3.9/site-packages/weasyprint/text/ffi.py:413\u001b[0m, in \u001b[0;36m_dlopen\u001b[0;34m(ffi, *names)\u001b[0m\n\u001b[1;32m    403\u001b[0m \u001b[39m# Re-raise the exception.\u001b[39;00m\n\u001b[1;32m    404\u001b[0m \u001b[39mprint\u001b[39m(\n\u001b[1;32m    405\u001b[0m     \u001b[39m'\u001b[39m\u001b[39m\\n\u001b[39;00m\u001b[39m-----\u001b[39m\u001b[39m\\n\u001b[39;00m\u001b[39m\\n\u001b[39;00m\u001b[39m'\u001b[39m\n\u001b[1;32m    406\u001b[0m     \u001b[39m'\u001b[39m\u001b[39mWeasyPrint could not import some external libraries. Please \u001b[39m\u001b[39m'\u001b[39m\n\u001b[0;32m   (...)\u001b[0m\n\u001b[1;32m    411\u001b[0m     \u001b[39m'\u001b[39m\u001b[39mfirst_steps.html#troubleshooting\u001b[39m\u001b[39m'\u001b[39m,\n\u001b[1;32m    412\u001b[0m     \u001b[39m'\u001b[39m\u001b[39m\\n\u001b[39;00m\u001b[39m\\n\u001b[39;00m\u001b[39m-----\u001b[39m\u001b[39m\\n\u001b[39;00m\u001b[39m'\u001b[39m)  \u001b[39m# pragma: no cover\u001b[39;00m\n\u001b[0;32m--> 413\u001b[0m \u001b[39mreturn\u001b[39;00m ffi\u001b[39m.\u001b[39;49mdlopen(names[\u001b[39m0\u001b[39;49m])\n",
      "File \u001b[0;32m/opt/anaconda3/envs/groupme/lib/python3.9/site-packages/cffi/api.py:150\u001b[0m, in \u001b[0;36mFFI.dlopen\u001b[0;34m(self, name, flags)\u001b[0m\n\u001b[1;32m    147\u001b[0m     \u001b[39mraise\u001b[39;00m \u001b[39mTypeError\u001b[39;00m(\u001b[39m\"\u001b[39m\u001b[39mdlopen(name): name must be a file name, None, \u001b[39m\u001b[39m\"\u001b[39m\n\u001b[1;32m    148\u001b[0m                     \u001b[39m\"\u001b[39m\u001b[39mor an already-opened \u001b[39m\u001b[39m'\u001b[39m\u001b[39mvoid *\u001b[39m\u001b[39m'\u001b[39m\u001b[39m handle\u001b[39m\u001b[39m\"\u001b[39m)\n\u001b[1;32m    149\u001b[0m \u001b[39mwith\u001b[39;00m \u001b[39mself\u001b[39m\u001b[39m.\u001b[39m_lock:\n\u001b[0;32m--> 150\u001b[0m     lib, function_cache \u001b[39m=\u001b[39m _make_ffi_library(\u001b[39mself\u001b[39;49m, name, flags)\n\u001b[1;32m    151\u001b[0m     \u001b[39mself\u001b[39m\u001b[39m.\u001b[39m_function_caches\u001b[39m.\u001b[39mappend(function_cache)\n\u001b[1;32m    152\u001b[0m     \u001b[39mself\u001b[39m\u001b[39m.\u001b[39m_libraries\u001b[39m.\u001b[39mappend(lib)\n",
      "File \u001b[0;32m/opt/anaconda3/envs/groupme/lib/python3.9/site-packages/cffi/api.py:832\u001b[0m, in \u001b[0;36m_make_ffi_library\u001b[0;34m(ffi, libname, flags)\u001b[0m\n\u001b[1;32m    830\u001b[0m \u001b[39mdef\u001b[39;00m \u001b[39m_make_ffi_library\u001b[39m(ffi, libname, flags):\n\u001b[1;32m    831\u001b[0m     backend \u001b[39m=\u001b[39m ffi\u001b[39m.\u001b[39m_backend\n\u001b[0;32m--> 832\u001b[0m     backendlib \u001b[39m=\u001b[39m _load_backend_lib(backend, libname, flags)\n\u001b[1;32m    833\u001b[0m     \u001b[39m#\u001b[39;00m\n\u001b[1;32m    834\u001b[0m     \u001b[39mdef\u001b[39;00m \u001b[39maccessor_function\u001b[39m(name):\n",
      "File \u001b[0;32m/opt/anaconda3/envs/groupme/lib/python3.9/site-packages/cffi/api.py:827\u001b[0m, in \u001b[0;36m_load_backend_lib\u001b[0;34m(backend, name, flags)\u001b[0m\n\u001b[1;32m    825\u001b[0m     \u001b[39mif\u001b[39;00m first_error \u001b[39mis\u001b[39;00m \u001b[39mnot\u001b[39;00m \u001b[39mNone\u001b[39;00m:\n\u001b[1;32m    826\u001b[0m         msg \u001b[39m=\u001b[39m \u001b[39m\"\u001b[39m\u001b[39m%s\u001b[39;00m\u001b[39m.  Additionally, \u001b[39m\u001b[39m%s\u001b[39;00m\u001b[39m\"\u001b[39m \u001b[39m%\u001b[39m (first_error, msg)\n\u001b[0;32m--> 827\u001b[0m     \u001b[39mraise\u001b[39;00m \u001b[39mOSError\u001b[39;00m(msg)\n\u001b[1;32m    828\u001b[0m \u001b[39mreturn\u001b[39;00m backend\u001b[39m.\u001b[39mload_library(path, flags)\n",
      "\u001b[0;31mOSError\u001b[0m: cannot load library 'pango-1.0-0': dlopen(pango-1.0-0, 0x0002): tried: 'pango-1.0-0' (no such file), '/System/Volumes/Preboot/Cryptexes/OSpango-1.0-0' (no such file), '/opt/anaconda3/envs/groupme/lib/pango-1.0-0' (no such file), '/System/Volumes/Preboot/Cryptexes/OS/opt/anaconda3/envs/groupme/lib/pango-1.0-0' (no such file), '/opt/anaconda3/envs/groupme/bin/../lib/pango-1.0-0' (no such file), '/usr/lib/pango-1.0-0' (no such file, not in dyld cache), 'pango-1.0-0' (no such file), '/usr/local/lib/pango-1.0-0' (no such file), '/usr/lib/pango-1.0-0' (no such file, not in dyld cache).  Additionally, ctypes.util.find_library() did not manage to locate a library called 'pango-1.0-0'"
     ]
    }
   ],
   "source": [
    "import json\n",
    "import textwrap\n",
    "\n",
    "!pip install --no-binary weasyprint weasyprint\n",
    "\n",
    "\n",
    "from weasyprint import HTML\n",
    "\n",
    "# read card_deck from ppn_deck.json file\n",
    "with open(\"ppn_deck.json\", \"r\") as read_file:\n",
    "    card_deck = json.load(read_file)\n",
    "\n",
    "# define the CSS styles for the card\n",
    "card_css = \"\"\"\n",
    "@page {\n",
    "  size: 8.5in 11in;\n",
    "  margin: 0;\n",
    "}\n",
    "\n",
    ".card {\n",
    "  width: 5.5in;\n",
    "  height: 8.5in;\n",
    "  border: 1px solid black;\n",
    "  display: flex;\n",
    "  flex-direction: column;\n",
    "  font-family: SFNSMono;\n",
    "  font-size: 20px;\n",
    "}\n",
    "\n",
    ".card-title {\n",
    "  flex: 0 0 auto;\n",
    "  background-color: lightblue;\n",
    "  padding: 10px;\n",
    "}\n",
    "\n",
    ".card-definition {\n",
    "  flex: 1 1 auto;\n",
    "  background-color: white;\n",
    "  padding: 10px;\n",
    "  overflow: auto;\n",
    "}\n",
    "\n",
    ".card-points {\n",
    "  flex: 0 0 auto;\n",
    "  background-color: lightgreen;\n",
    "  width: 8.5in;\n",
    "  text-align: center;\n",
    "  padding: 10px;\n",
    "}\n",
    "\n",
    ".card-name {\n",
    "  flex: 0 0 auto;\n",
    "  width: 8.5in;\n",
    "  text-align: right;\n",
    "  padding: 10px;\n",
    "}\n",
    "\"\"\"\n"
   ]
  },
  {
   "cell_type": "code",
   "execution_count": null,
   "metadata": {},
   "outputs": [],
   "source": [
    "\n",
    "# generate the cards\n",
    "for card in card_deck:\n",
    "    title = card[\"title\"]\n",
    "    definition = card[\"definition\"]\n",
    "    points = card[\"points\"]\n",
    "    name = card.get(\"name\")\n",
    "\n",
    "    # wrap the title and definition to 40 characters\n",
    "    title_wrapped = textwrap.wrap(title, width=40)\n",
    "    definition_wrapped = textwrap.wrap(definition, width=40)\n",
    "\n",
    "    # create the HTML for the card\n",
    "    html = f'<div class=\"card\"><div class=\"card-title\">{title_wrapped}</div><div class=\"card-definition\">{definition_wrapped}</div><div class=\"card-points\">{points} points</div>'\n",
    "    if name:\n",
    "        html += f'<div class=\"card-name\">{name}</div>'\n",
    "    html += \"</div>\"\n",
    "\n",
    "    # generate the PDF\n",
    "    HTML(string=html, base_url=None).write_pdf(f\"cards_html/{title}.pdf\", stylesheets=[card_css])\n",
    "\n"
   ]
  }
 ],
 "metadata": {
  "kernelspec": {
   "display_name": "Python 3.9.6 ('groupme')",
   "language": "python",
   "name": "python3"
  },
  "language_info": {
   "codemirror_mode": {
    "name": "ipython",
    "version": 3
   },
   "file_extension": ".py",
   "mimetype": "text/x-python",
   "name": "python",
   "nbconvert_exporter": "python",
   "pygments_lexer": "ipython3",
   "version": "3.9.6"
  },
  "orig_nbformat": 4,
  "vscode": {
   "interpreter": {
    "hash": "28dd76f97a2595215b3511d9563b8125e93469ee739d17a6b25584482d270cb8"
   }
  }
 },
 "nbformat": 4,
 "nbformat_minor": 2
}
